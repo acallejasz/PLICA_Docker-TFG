{
 "cells": [
  {
   "cell_type": "code",
   "execution_count": 1,
   "metadata": {},
   "outputs": [],
   "source": [
    "#Este es el script en el que se maneja el envio de eventos kafka\n",
    "#Se crea un producer de kafka y se obtienen datos para enviar\n",
    "\n",
    "\"\"\"\n",
    "FUNCIONAL|\n",
    "\"\"\"\n",
    "# kafka/bin/zookeeper-server-start.sh kafka/config/zookeeper.properties\n",
    "# kafka/bin/kafka-server-start.sh kafka/config/server.properties\n",
    "# kafka/bin/kafka-topics.sh --create --zookeeper localhost:2181 --replication-factor 1 --partitions 1 --topic BT\n",
    "\n",
    "# kafka/bin/kafka-topics.sh --delete --zookeeper localhost:2181 --topic BT\n",
    " \n",
    "# kafka/bin/kafka-topics.sh --list --zookeeper localhost:2181\n",
    "# kafka/bin/kafka-console-consumer.sh --bootstrap-server 192.168.1.101:9092 --topic BT --from-beginning\n",
    "\n",
    "# ./elasticsearch/bin/elasticsearch\n",
    "# ./kibana/bin/kibana\n",
    "# curl -XDELETE 'http://localhost:9200/bt*'\n",
    "\n",
    "import findspark\n",
    "findspark.init()\n",
    "\n",
    "import time\n",
    "\n",
    "from pyspark.context import SparkContext\n",
    "from pyspark.sql.session import SparkSession\n",
    "from pyspark.sql.functions import *\n",
    "from pyspark.sql.types import *\n",
    "\n",
    "from kafka import KafkaProducer, TopicPartition\n",
    "import uuid"
   ]
  },
  {
   "cell_type": "code",
   "execution_count": 2,
   "metadata": {},
   "outputs": [],
   "source": [
    "#Se crea una sescion de spark\n",
    "#Importante tras ejecucion hacer sc.stop()\n",
    "\n",
    "sc = SparkContext('local')\n",
    "spark = SparkSession(sc)"
   ]
  },
  {
   "cell_type": "code",
   "execution_count": 3,
   "metadata": {},
   "outputs": [],
   "source": [
    "base_path='../../'"
   ]
  },
  {
   "cell_type": "code",
   "execution_count": 4,
   "metadata": {},
   "outputs": [],
   "source": [
    "#Se define el esquema que va a tener el data frame\n",
    "\n",
    "schema = StructType([\n",
    "    StructField('status', StringType(), True),\n",
    "    StructField('classic_mode', StringType(), True),\n",
    "    StructField('uuid', StringType(), True),\n",
    "    StructField('company', StringType(), True),\n",
    "    StructField('updated_at', StringType(), True),\n",
    "    StructField('last_seen', StringType(), True),\n",
    "    StructField('uap_lap', StringType(), True),\n",
    "    StructField('address', StringType(), True),\n",
    "    StructField('lmp_version', StringType(), True),\n",
    "    StructField('le_mode', StringType(), True),\n",
    "    StructField('manufacturer', StringType(), True),\n",
    "    StructField('created_at', StringType(), True),\n",
    "    StructField('name', StringType(), True),\n",
    "])"
   ]
  },
  {
   "cell_type": "code",
   "execution_count": 5,
   "metadata": {},
   "outputs": [],
   "source": [
    "df = spark.read.schema(schema).option(\"multiLine\",\"true\")\\\n",
    "    .option(\"mode\", \"DROPMALFORMED\").json(f'{base_path}datasets/dataset_bluetooth.json')"
   ]
  },
  {
   "cell_type": "code",
   "execution_count": 6,
   "metadata": {},
   "outputs": [],
   "source": [
    "# Añadimos metadatos para simular eventos del sensor\n",
    "\n",
    "df = df.withColumn('data', struct(col('*')))\n",
    "df = df.withColumn('version', lit('1.0'))\n",
    "df = df.withColumn('id' , lit('f0c48ba4-387d-11ea-a137-2e728ce88126'))\n",
    "df = df.withColumn('type', lit('BT'))\n",
    "df = df.withColumn('event', lit('DATA'))"
   ]
  },
  {
   "cell_type": "code",
   "execution_count": 7,
   "metadata": {
    "scrolled": true
   },
   "outputs": [
    {
     "name": "stdout",
     "output_type": "stream",
     "text": [
      "{\"version\":\"1.0\",\"time\":\"1615368864\",\"id\":\"f0c48ba4-387d-11ea-a137-2e728ce88126\",\"type\":\"BT\",\"event\":\"DATA\",\"data\":{\"status\":\"online\",\"classic_mode\":\"t\",\"uuid\":\"d03256ae-cac4-41ee-9071-d74d4d1c57a7\",\"company\":\"unknow\",\"updated_at\":\"2021-02-05T12:19:58+01:00\",\"last_seen\":\"1612523992\",\"uap_lap\":\"C3:42:B3:5C\",\"address\":\"B0:B5:C3:42:B3:5C\",\"lmp_version\":\"Bluetooth 5.0 (0x09) - Subversion 702 (0x02be)\",\"le_mode\":\"f\",\"manufacturer\":\"Qualcomm (29)\",\"created_at\":\"2021-02-01T11:23:12+01:00\",\"name\":\"OPPO A9 2020\"}}\n",
      "{\"version\":\"1.0\",\"time\":\"1615368864\",\"id\":\"f0c48ba4-387d-11ea-a137-2e728ce88126\",\"type\":\"BT\",\"event\":\"DATA\",\"data\":{\"status\":\"offline\",\"classic_mode\":\"f\",\"uuid\":\"1a76c2fa-c558-415f-a193-3c979a4f9056\",\"company\":\"Anhui Huami Information Technology Co., Ltd. (343\",\"updated_at\":\"2021-02-03T18:36:42+01:00\",\"last_seen\":\"1612373621\",\"uap_lap\":\"68:47:7E:48\",\"address\":\"E2:72:68:47:7E:48\",\"lmp_version\":\"unknow\",\"le_mode\":\"t\",\"manufacturer\":\"unknow\",\"created_at\":\"2021-02-01T11:56:22+01:00\",\"name\":\"Mi Smart Band 4\"}}\n",
      "{\"version\":\"1.0\",\"time\":\"1615368864\",\"id\":\"f0c48ba4-387d-11ea-a137-2e728ce88126\",\"type\":\"BT\",\"event\":\"DATA\",\"data\":{\"status\":\"offline\",\"classic_mode\":\"f\",\"uuid\":\"ca47d02f-8813-4fe0-a617-3dea3db715ac\",\"company\":\"not assigned (61679)\",\"updated_at\":\"2021-02-03T16:35:02+01:00\",\"last_seen\":\"1612366321\",\"uap_lap\":\"84:5E:07:70\",\"address\":\"D1:B4:84:5E:07:70\",\"lmp_version\":\"unknow\",\"le_mode\":\"t\",\"manufacturer\":\"unknow\",\"created_at\":\"2021-02-01T12:56:26+01:00\",\"name\":\"LESW14\"}}\n",
      "{\"version\":\"1.0\",\"time\":\"1615368864\",\"id\":\"f0c48ba4-387d-11ea-a137-2e728ce88126\",\"type\":\"BT\",\"event\":\"DATA\",\"data\":{\"status\":\"offline\",\"classic_mode\":\"f\",\"uuid\":\"4c81becd-2dcd-4fcf-9efb-9d5e5ef35f7f\",\"company\":\"not assigned (2305)\",\"updated_at\":\"2021-02-01T14:19:19+01:00\",\"last_seen\":\"1612185378\",\"uap_lap\":\"A5:37:6E:6A\",\"address\":\"28:11:A5:37:6E:6A\",\"lmp_version\":\"unknow\",\"le_mode\":\"t\",\"manufacturer\":\"unknow\",\"created_at\":\"2021-02-01T14:12:19+01:00\",\"name\":\"LE-Bose DGN-QC35 II\"}}\n",
      "{\"version\":\"1.0\",\"time\":\"1615368864\",\"id\":\"f0c48ba4-387d-11ea-a137-2e728ce88126\",\"type\":\"BT\",\"event\":\"DATA\",\"data\":{\"status\":\"offline\",\"classic_mode\":\"f\",\"uuid\":\"45be69dc-d16a-4d0b-ab7f-7bbc23913f01\",\"company\":\"unknow\",\"updated_at\":\"2021-02-02T07:12:12+01:00\",\"last_seen\":\"1612246151\",\"uap_lap\":\"27:59:B7:7B\",\"address\":\"63:54:27:59:B7:7B\",\"lmp_version\":\"unknow\",\"le_mode\":\"t\",\"manufacturer\":\"unknow\",\"created_at\":\"2021-02-02T07:09:26+01:00\",\"name\":\"unknow\"}}\n",
      "{\"version\":\"1.0\",\"time\":\"1615368864\",\"id\":\"f0c48ba4-387d-11ea-a137-2e728ce88126\",\"type\":\"BT\",\"event\":\"DATA\",\"data\":{\"status\":\"offline\",\"classic_mode\":\"f\",\"uuid\":\"4021da76-6c7e-4dbd-917a-3aceeb269058\",\"company\":\"Anhui Huami Information Technology Co., Ltd. (343\",\"updated_at\":\"2021-02-02T09:51:00+01:00\",\"last_seen\":\"1612255679\",\"uap_lap\":\"17:3D:39:F8\",\"address\":\"CA:38:17:3D:39:F8\",\"lmp_version\":\"unknow\",\"le_mode\":\"t\",\"manufacturer\":\"unknow\",\"created_at\":\"2021-02-02T09:47:59+01:00\",\"name\":\"unknow\"}}\n",
      "{\"version\":\"1.0\",\"time\":\"1615368864\",\"id\":\"f0c48ba4-387d-11ea-a137-2e728ce88126\",\"type\":\"BT\",\"event\":\"DATA\",\"data\":{\"status\":\"offline\",\"classic_mode\":\"f\",\"uuid\":\"8ccd4a81-647e-43ac-b9d6-72b608d0bf1a\",\"company\":\"unknow\",\"updated_at\":\"2021-02-02T11:01:41+01:00\",\"last_seen\":\"1612259920\",\"uap_lap\":\"95:F4:70:42\",\"address\":\"51:41:95:F4:70:42\",\"lmp_version\":\"unknow\",\"le_mode\":\"t\",\"manufacturer\":\"unknow\",\"created_at\":\"2021-02-02T10:59:11+01:00\",\"name\":\"unknow\"}}\n",
      "{\"version\":\"1.0\",\"time\":\"1615368864\",\"id\":\"f0c48ba4-387d-11ea-a137-2e728ce88126\",\"type\":\"BT\",\"event\":\"DATA\",\"data\":{\"status\":\"offline\",\"classic_mode\":\"f\",\"uuid\":\"915679d1-efe6-472f-adf6-bb852a36dd8b\",\"company\":\"Anhui Huami Information Technology Co., Ltd. (343\",\"updated_at\":\"2021-02-05T12:00:47+01:00\",\"last_seen\":\"1612522666\",\"uap_lap\":\"F1:6B:B9:16\",\"address\":\"CC:62:F1:6B:B9:16\",\"lmp_version\":\"unknow\",\"le_mode\":\"t\",\"manufacturer\":\"unknow\",\"created_at\":\"2021-02-02T14:26:46+01:00\",\"name\":\"Mi Smart Band 4\"}}\n",
      "{\"version\":\"1.0\",\"time\":\"1615368864\",\"id\":\"f0c48ba4-387d-11ea-a137-2e728ce88126\",\"type\":\"BT\",\"event\":\"DATA\",\"data\":{\"status\":\"offline\",\"classic_mode\":\"f\",\"uuid\":\"6da59ff2-1691-4570-a449-0e9669de5060\",\"company\":\"unknow\",\"updated_at\":\"2021-02-02T15:30:35+01:00\",\"last_seen\":\"1612276053\",\"uap_lap\":\"0A:DE:4D:5E\",\"address\":\"6F:55:0A:DE:4D:5E\",\"lmp_version\":\"unknow\",\"le_mode\":\"t\",\"manufacturer\":\"unknow\",\"created_at\":\"2021-02-02T15:27:55+01:00\",\"name\":\"unknow\"}}\n",
      "{\"version\":\"1.0\",\"time\":\"1615368864\",\"id\":\"f0c48ba4-387d-11ea-a137-2e728ce88126\",\"type\":\"BT\",\"event\":\"DATA\",\"data\":{\"status\":\"offline\",\"classic_mode\":\"f\",\"uuid\":\"76e7285f-d5f5-44db-9fac-bff70daece49\",\"company\":\"unknow\",\"updated_at\":\"2021-02-03T06:50:07+01:00\",\"last_seen\":\"1612331226\",\"uap_lap\":\"6E:AD:E0:90\",\"address\":\"4C:1C:6E:AD:E0:90\",\"lmp_version\":\"unknow\",\"le_mode\":\"t\",\"manufacturer\":\"unknow\",\"created_at\":\"2021-02-03T06:47:23+01:00\",\"name\":\"unknow\"}}\n",
      "{\"version\":\"1.0\",\"time\":\"1615368864\",\"id\":\"f0c48ba4-387d-11ea-a137-2e728ce88126\",\"type\":\"BT\",\"event\":\"DATA\",\"data\":{\"status\":\"offline\",\"classic_mode\":\"t\",\"uuid\":\"8b335c99-be5c-4ae5-9362-9fc1cf7d92e9\",\"company\":\"unknow\",\"updated_at\":\"2021-02-03T09:47:46+01:00\",\"last_seen\":\"1612341165\",\"uap_lap\":\"42:27:AA:CD\",\"address\":\"E0:F4:42:27:AA:CD\",\"lmp_version\":\"unknow\",\"le_mode\":\"f\",\"manufacturer\":\"unknow\",\"created_at\":\"2021-02-03T08:34:04+01:00\",\"name\":\"Viti's Phone\"}}\n",
      "{\"version\":\"1.0\",\"time\":\"1615368864\",\"id\":\"f0c48ba4-387d-11ea-a137-2e728ce88126\",\"type\":\"BT\",\"event\":\"DATA\",\"data\":{\"status\":\"offline\",\"classic_mode\":\"f\",\"uuid\":\"9de9bf0f-edc4-4648-a483-1582de890d00\",\"company\":\"HUAWEI Technologies Co., Ltd. ( 华为技术有限公司 ) (637)\",\"updated_at\":\"2021-02-03T08:38:31+01:00\",\"last_seen\":\"1612337730\",\"uap_lap\":\"C2:03:F0:EF\",\"address\":\"30:A2:C2:03:F0:EF\",\"lmp_version\":\"unknow\",\"le_mode\":\"t\",\"manufacturer\":\"unknow\",\"created_at\":\"2021-02-03T08:34:28+01:00\",\"name\":\"HUAWEI Band 4 Pro-0EF\"}}\n",
      "{\"version\":\"1.0\",\"time\":\"1615368864\",\"id\":\"f0c48ba4-387d-11ea-a137-2e728ce88126\",\"type\":\"BT\",\"event\":\"DATA\",\"data\":{\"status\":\"offline\",\"classic_mode\":\"t\",\"uuid\":\"be7162e9-3c52-462d-b4a0-9989ca7c11d7\",\"company\":\"unknow\",\"updated_at\":\"2021-02-03T08:58:57+01:00\",\"last_seen\":\"1612338236\",\"uap_lap\":\"A0:FB:B4:2C\",\"address\":\"48:2C:A0:FB:B4:2C\",\"lmp_version\":\"unknow\",\"le_mode\":\"f\",\"manufacturer\":\"unknow\",\"created_at\":\"2021-02-03T08:40:48+01:00\",\"name\":\"Redmi\"}}\n",
      "{\"version\":\"1.0\",\"time\":\"1615368864\",\"id\":\"f0c48ba4-387d-11ea-a137-2e728ce88126\",\"type\":\"BT\",\"event\":\"DATA\",\"data\":{\"status\":\"offline\",\"classic_mode\":\"t\",\"uuid\":\"925c814c-40d9-4758-9511-bc9a8ca4ff70\",\"company\":\"unknow\",\"updated_at\":\"2021-02-03T17:39:20+01:00\",\"last_seen\":\"1612369459\",\"uap_lap\":\"92:61:74:1B\",\"address\":\"70:BF:92:61:74:1B\",\"lmp_version\":\"unknow\",\"le_mode\":\"f\",\"manufacturer\":\"unknow\",\"created_at\":\"2021-02-03T11:02:33+01:00\",\"name\":\"Jabra SPEAK 510 USB\"}}\n",
      "{\"version\":\"1.0\",\"time\":\"1615368864\",\"id\":\"f0c48ba4-387d-11ea-a137-2e728ce88126\",\"type\":\"BT\",\"event\":\"DATA\",\"data\":{\"status\":\"offline\",\"classic_mode\":\"f\",\"uuid\":\"90ec616a-581f-4743-aa82-cdf7945dae88\",\"company\":\"Sony Corporation (301)\",\"updated_at\":\"2021-02-03T19:52:53+01:00\",\"last_seen\":\"1612378192\",\"uap_lap\":\"4C:06:DA:0B\",\"address\":\"38:18:4C:06:DA:0B\",\"lmp_version\":\"unknow\",\"le_mode\":\"t\",\"manufacturer\":\"unknow\",\"created_at\":\"2021-02-03T11:32:49+01:00\",\"name\":\"LE_WH-1000XM3\"}}\n",
      "{\"version\":\"1.0\",\"time\":\"1615368864\",\"id\":\"f0c48ba4-387d-11ea-a137-2e728ce88126\",\"type\":\"BT\",\"event\":\"DATA\",\"data\":{\"status\":\"offline\",\"classic_mode\":\"f\",\"uuid\":\"07119a18-a7e2-47c1-aeab-0dcac4499c4c\",\"company\":\"unknow\",\"updated_at\":\"2021-02-04T10:16:55+01:00\",\"last_seen\":\"1612430034\",\"uap_lap\":\"D1:1F:FB:76\",\"address\":\"52:1F:D1:1F:FB:76\",\"lmp_version\":\"unknow\",\"le_mode\":\"t\",\"manufacturer\":\"unknow\",\"created_at\":\"2021-02-04T10:14:30+01:00\",\"name\":\"unknow\"}}\n",
      "{\"version\":\"1.0\",\"time\":\"1615368864\",\"id\":\"f0c48ba4-387d-11ea-a137-2e728ce88126\",\"type\":\"BT\",\"event\":\"DATA\",\"data\":{\"status\":\"offline\",\"classic_mode\":\"f\",\"uuid\":\"fbeffc5b-e7fa-4f7a-b0c1-7c3d404a8acc\",\"company\":\"Anhui Huami Information Technology Co., Ltd. (343\",\"updated_at\":\"2021-02-04T12:42:55+01:00\",\"last_seen\":\"1612438794\",\"uap_lap\":\"08:D7:F2:CF\",\"address\":\"E5:4E:08:D7:F2:CF\",\"lmp_version\":\"unknow\",\"le_mode\":\"t\",\"manufacturer\":\"unknow\",\"created_at\":\"2021-02-04T10:21:18+01:00\",\"name\":\"Mi Smart Band 4\"}}\n",
      "{\"version\":\"1.0\",\"time\":\"1615368864\",\"id\":\"f0c48ba4-387d-11ea-a137-2e728ce88126\",\"type\":\"BT\",\"event\":\"DATA\",\"data\":{\"status\":\"offline\",\"classic_mode\":\"f\",\"uuid\":\"557029c3-6404-4264-a2b7-dd1a37e629b7\",\"company\":\"unknow\",\"updated_at\":\"2021-02-04T13:08:19+01:00\",\"last_seen\":\"1612440318\",\"uap_lap\":\"EA:0F:85:92\",\"address\":\"5F:7C:EA:0F:85:92\",\"lmp_version\":\"unknow\",\"le_mode\":\"t\",\"manufacturer\":\"unknow\",\"created_at\":\"2021-02-04T13:05:54+01:00\",\"name\":\"unknow\"}}\n",
      "{\"version\":\"1.0\",\"time\":\"1615368864\",\"id\":\"f0c48ba4-387d-11ea-a137-2e728ce88126\",\"type\":\"BT\",\"event\":\"DATA\",\"data\":{\"status\":\"offline\",\"classic_mode\":\"t\",\"uuid\":\"a44f6d77-d874-447c-aa9e-eaf3598c63aa\",\"company\":\"unknow\",\"updated_at\":\"2021-02-05T08:11:40+01:00\",\"last_seen\":\"1612508199\",\"uap_lap\":\"87:05:1A:74\",\"address\":\"44:46:87:05:1A:74\",\"lmp_version\":\"unknow\",\"le_mode\":\"f\",\"manufacturer\":\"unknow\",\"created_at\":\"2021-02-05T07:43:44+01:00\",\"name\":\"X2 de Diego\"}}\n",
      "{\"version\":\"1.0\",\"time\":\"1615368864\",\"id\":\"f0c48ba4-387d-11ea-a137-2e728ce88126\",\"type\":\"BT\",\"event\":\"DATA\",\"data\":{\"status\":\"offline\",\"classic_mode\":\"f\",\"uuid\":\"abbe9af8-3958-464a-9529-4bf6fb8ceb82\",\"company\":\"unknow\",\"updated_at\":\"2021-02-05T09:03:37+01:00\",\"last_seen\":\"1612512036\",\"uap_lap\":\"0A:E6:3D:75\",\"address\":\"6A:F8:0A:E6:3D:75\",\"lmp_version\":\"unknow\",\"le_mode\":\"t\",\"manufacturer\":\"unknow\",\"created_at\":\"2021-02-05T09:00:53+01:00\",\"name\":\"unknow\"}}\n"
     ]
    },
    {
     "name": "stdout",
     "output_type": "stream",
     "text": [
      "{\"version\":\"1.0\",\"time\":\"1615368886\",\"id\":\"f0c48ba4-387d-11ea-a137-2e728ce88126\",\"type\":\"BT\",\"event\":\"DATA\",\"data\":{\"status\":\"offline\",\"classic_mode\":\"f\",\"uuid\":\"41728b2b-b3a1-4fcc-a352-da5791227c62\",\"company\":\"unknow\",\"updated_at\":\"2021-02-05T11:16:54+01:00\",\"last_seen\":\"1612520033\",\"uap_lap\":\"DC:36:E6:4D\",\"address\":\"0C:8C:DC:36:E6:4D\",\"lmp_version\":\"unknow\",\"le_mode\":\"t\",\"manufacturer\":\"unknow\",\"created_at\":\"2021-02-01T13:10:44+01:00\",\"name\":\"unknow\"}}\n",
      "{\"version\":\"1.0\",\"time\":\"1615368886\",\"id\":\"f0c48ba4-387d-11ea-a137-2e728ce88126\",\"type\":\"BT\",\"event\":\"DATA\",\"data\":{\"status\":\"offline\",\"classic_mode\":\"f\",\"uuid\":\"4c81becd-2dcd-4fcf-9efb-9d5e5ef35f7f\",\"company\":\"not assigned (2305)\",\"updated_at\":\"2021-02-01T14:19:19+01:00\",\"last_seen\":\"1612185378\",\"uap_lap\":\"A5:37:6E:6A\",\"address\":\"28:11:A5:37:6E:6A\",\"lmp_version\":\"unknow\",\"le_mode\":\"t\",\"manufacturer\":\"unknow\",\"created_at\":\"2021-02-01T14:12:19+01:00\",\"name\":\"LE-Bose DGN-QC35 II\"}}\n",
      "{\"version\":\"1.0\",\"time\":\"1615368886\",\"id\":\"f0c48ba4-387d-11ea-a137-2e728ce88126\",\"type\":\"BT\",\"event\":\"DATA\",\"data\":{\"status\":\"offline\",\"classic_mode\":\"f\",\"uuid\":\"0559ef63-e4c3-4d0c-a735-7105f29bfad2\",\"company\":\"Texas Instruments Inc. (13)\",\"updated_at\":\"2021-02-04T11:25:26+01:00\",\"last_seen\":\"1612434145\",\"uap_lap\":\"93:AB:5C:E1\",\"address\":\"18:7A:93:AB:5C:E1\",\"lmp_version\":\"unknow\",\"le_mode\":\"t\",\"manufacturer\":\"unknow\",\"created_at\":\"2021-02-02T08:45:05+01:00\",\"name\":\"Smart Watch\"}}\n",
      "{\"version\":\"1.0\",\"time\":\"1615368886\",\"id\":\"f0c48ba4-387d-11ea-a137-2e728ce88126\",\"type\":\"BT\",\"event\":\"DATA\",\"data\":{\"status\":\"offline\",\"classic_mode\":\"f\",\"uuid\":\"915679d1-efe6-472f-adf6-bb852a36dd8b\",\"company\":\"Anhui Huami Information Technology Co., Ltd. (343\",\"updated_at\":\"2021-02-05T12:00:47+01:00\",\"last_seen\":\"1612522666\",\"uap_lap\":\"F1:6B:B9:16\",\"address\":\"CC:62:F1:6B:B9:16\",\"lmp_version\":\"unknow\",\"le_mode\":\"t\",\"manufacturer\":\"unknow\",\"created_at\":\"2021-02-02T14:26:46+01:00\",\"name\":\"Mi Smart Band 4\"}}\n",
      "{\"version\":\"1.0\",\"time\":\"1615368886\",\"id\":\"f0c48ba4-387d-11ea-a137-2e728ce88126\",\"type\":\"BT\",\"event\":\"DATA\",\"data\":{\"status\":\"offline\",\"classic_mode\":\"f\",\"uuid\":\"6be733bb-eedb-4147-9a52-711f8692eabd\",\"company\":\"unknow\",\"updated_at\":\"2021-02-03T08:31:31+01:00\",\"last_seen\":\"1612337310\",\"uap_lap\":\"4D:A8:24:A6\",\"address\":\"C8:2D:4D:A8:24:A6\",\"lmp_version\":\"unknow\",\"le_mode\":\"t\",\"manufacturer\":\"unknow\",\"created_at\":\"2021-02-03T08:29:06+01:00\",\"name\":\"unknow\"}}\n",
      "{\"version\":\"1.0\",\"time\":\"1615368886\",\"id\":\"f0c48ba4-387d-11ea-a137-2e728ce88126\",\"type\":\"BT\",\"event\":\"DATA\",\"data\":{\"status\":\"offline\",\"classic_mode\":\"t\",\"uuid\":\"e8e39f03-e3ce-4280-a034-ce2cd8e0236d\",\"company\":\"unknow\",\"updated_at\":\"2021-02-04T10:56:33+01:00\",\"last_seen\":\"1612431692\",\"uap_lap\":\"AE:6F:AB:C6\",\"address\":\"E4:33:AE:6F:AB:C6\",\"lmp_version\":\"unknow\",\"le_mode\":\"f\",\"manufacturer\":\"unknow\",\"created_at\":\"2021-02-04T08:35:17+01:00\",\"name\":\"OPPO Reno4 Z 5G\"}}\n",
      "{\"version\":\"1.0\",\"time\":\"1615368886\",\"id\":\"f0c48ba4-387d-11ea-a137-2e728ce88126\",\"type\":\"BT\",\"event\":\"DATA\",\"data\":{\"status\":\"offline\",\"classic_mode\":\"f\",\"uuid\":\"649c7d23-ab36-45f4-a591-5b8ac2773fc3\",\"company\":\"unknow\",\"updated_at\":\"2021-02-04T15:21:05+01:00\",\"last_seen\":\"1612448284\",\"uap_lap\":\"21:4F:2C:6B\",\"address\":\"5F:79:21:4F:2C:6B\",\"lmp_version\":\"unknow\",\"le_mode\":\"t\",\"manufacturer\":\"unknow\",\"created_at\":\"2021-02-04T15:18:36+01:00\",\"name\":\"unknow\"}}\n",
      "{\"version\":\"1.0\",\"time\":\"1615368886\",\"id\":\"f0c48ba4-387d-11ea-a137-2e728ce88126\",\"type\":\"BT\",\"event\":\"DATA\",\"data\":{\"status\":\"offline\",\"classic_mode\":\"t\",\"uuid\":\"a44f6d77-d874-447c-aa9e-eaf3598c63aa\",\"company\":\"unknow\",\"updated_at\":\"2021-02-05T08:11:40+01:00\",\"last_seen\":\"1612508199\",\"uap_lap\":\"87:05:1A:74\",\"address\":\"44:46:87:05:1A:74\",\"lmp_version\":\"unknow\",\"le_mode\":\"f\",\"manufacturer\":\"unknow\",\"created_at\":\"2021-02-05T07:43:44+01:00\",\"name\":\"X2 de Diego\"}}\n",
      "{\"version\":\"1.0\",\"time\":\"1615368886\",\"id\":\"f0c48ba4-387d-11ea-a137-2e728ce88126\",\"type\":\"BT\",\"event\":\"DATA\",\"data\":{\"status\":\"offline\",\"classic_mode\":\"f\",\"uuid\":\"abbe9af8-3958-464a-9529-4bf6fb8ceb82\",\"company\":\"unknow\",\"updated_at\":\"2021-02-05T09:03:37+01:00\",\"last_seen\":\"1612512036\",\"uap_lap\":\"0A:E6:3D:75\",\"address\":\"6A:F8:0A:E6:3D:75\",\"lmp_version\":\"unknow\",\"le_mode\":\"t\",\"manufacturer\":\"unknow\",\"created_at\":\"2021-02-05T09:00:53+01:00\",\"name\":\"unknow\"}}\n",
      "{\"version\":\"1.0\",\"time\":\"1615368886\",\"id\":\"f0c48ba4-387d-11ea-a137-2e728ce88126\",\"type\":\"BT\",\"event\":\"DATA\",\"data\":{\"status\":\"online\",\"classic_mode\":\"f\",\"uuid\":\"fca5fd98-791d-4b33-9d96-222a960c687b\",\"company\":\"HUAWEI Technologies Co., Ltd. ( 华为技术有限公司 ) (637)\",\"updated_at\":\"2021-02-05T12:47:54+01:00\",\"last_seen\":\"1612525668\",\"uap_lap\":\"2F:3F:EC:D0\",\"address\":\"F0:C4:2F:3F:EC:D0\",\"lmp_version\":\"unknow\",\"le_mode\":\"t\",\"manufacturer\":\"unknow\",\"created_at\":\"2021-02-05T10:22:14+01:00\",\"name\":\"HONOR Band 5-CD0\"}}\n",
      "{\"version\":\"1.0\",\"time\":\"1615368906\",\"id\":\"f0c48ba4-387d-11ea-a137-2e728ce88126\",\"type\":\"BT\",\"event\":\"DATA\",\"data\":{\"status\":\"online\",\"classic_mode\":\"t\",\"uuid\":\"d03256ae-cac4-41ee-9071-d74d4d1c57a7\",\"company\":\"unknow\",\"updated_at\":\"2021-02-05T12:19:58+01:00\",\"last_seen\":\"1612523992\",\"uap_lap\":\"C3:42:B3:5C\",\"address\":\"B0:B5:C3:42:B3:5C\",\"lmp_version\":\"Bluetooth 5.0 (0x09) - Subversion 702 (0x02be)\",\"le_mode\":\"f\",\"manufacturer\":\"Qualcomm (29)\",\"created_at\":\"2021-02-01T11:23:12+01:00\",\"name\":\"OPPO A9 2020\"}}\n",
      "{\"version\":\"1.0\",\"time\":\"1615368906\",\"id\":\"f0c48ba4-387d-11ea-a137-2e728ce88126\",\"type\":\"BT\",\"event\":\"DATA\",\"data\":{\"status\":\"offline\",\"classic_mode\":\"f\",\"uuid\":\"1a76c2fa-c558-415f-a193-3c979a4f9056\",\"company\":\"Anhui Huami Information Technology Co., Ltd. (343\",\"updated_at\":\"2021-02-03T18:36:42+01:00\",\"last_seen\":\"1612373621\",\"uap_lap\":\"68:47:7E:48\",\"address\":\"E2:72:68:47:7E:48\",\"lmp_version\":\"unknow\",\"le_mode\":\"t\",\"manufacturer\":\"unknow\",\"created_at\":\"2021-02-01T11:56:22+01:00\",\"name\":\"Mi Smart Band 4\"}}\n",
      "{\"version\":\"1.0\",\"time\":\"1615368906\",\"id\":\"f0c48ba4-387d-11ea-a137-2e728ce88126\",\"type\":\"BT\",\"event\":\"DATA\",\"data\":{\"status\":\"offline\",\"classic_mode\":\"f\",\"uuid\":\"4c81becd-2dcd-4fcf-9efb-9d5e5ef35f7f\",\"company\":\"not assigned (2305)\",\"updated_at\":\"2021-02-01T14:19:19+01:00\",\"last_seen\":\"1612185378\",\"uap_lap\":\"A5:37:6E:6A\",\"address\":\"28:11:A5:37:6E:6A\",\"lmp_version\":\"unknow\",\"le_mode\":\"t\",\"manufacturer\":\"unknow\",\"created_at\":\"2021-02-01T14:12:19+01:00\",\"name\":\"LE-Bose DGN-QC35 II\"}}\n",
      "{\"version\":\"1.0\",\"time\":\"1615368906\",\"id\":\"f0c48ba4-387d-11ea-a137-2e728ce88126\",\"type\":\"BT\",\"event\":\"DATA\",\"data\":{\"status\":\"offline\",\"classic_mode\":\"f\",\"uuid\":\"45be69dc-d16a-4d0b-ab7f-7bbc23913f01\",\"company\":\"unknow\",\"updated_at\":\"2021-02-02T07:12:12+01:00\",\"last_seen\":\"1612246151\",\"uap_lap\":\"27:59:B7:7B\",\"address\":\"63:54:27:59:B7:7B\",\"lmp_version\":\"unknow\",\"le_mode\":\"t\",\"manufacturer\":\"unknow\",\"created_at\":\"2021-02-02T07:09:26+01:00\",\"name\":\"unknow\"}}\n",
      "{\"version\":\"1.0\",\"time\":\"1615368906\",\"id\":\"f0c48ba4-387d-11ea-a137-2e728ce88126\",\"type\":\"BT\",\"event\":\"DATA\",\"data\":{\"status\":\"offline\",\"classic_mode\":\"t\",\"uuid\":\"28333d5e-2eed-4742-8b7b-b6c39fa8cc5b\",\"company\":\"unknow\",\"updated_at\":\"2021-02-02T08:59:15+01:00\",\"last_seen\":\"1612251854\",\"uap_lap\":\"C5:03:77:56\",\"address\":\"18:D0:C5:03:77:56\",\"lmp_version\":\"unknow\",\"le_mode\":\"f\",\"manufacturer\":\"unknow\",\"created_at\":\"2021-02-02T08:42:01+01:00\",\"name\":\"OPPO A5 2020\"}}\n",
      "{\"version\":\"1.0\",\"time\":\"1615368906\",\"id\":\"f0c48ba4-387d-11ea-a137-2e728ce88126\",\"type\":\"BT\",\"event\":\"DATA\",\"data\":{\"status\":\"offline\",\"classic_mode\":\"f\",\"uuid\":\"0559ef63-e4c3-4d0c-a735-7105f29bfad2\",\"company\":\"Texas Instruments Inc. (13)\",\"updated_at\":\"2021-02-04T11:25:26+01:00\",\"last_seen\":\"1612434145\",\"uap_lap\":\"93:AB:5C:E1\",\"address\":\"18:7A:93:AB:5C:E1\",\"lmp_version\":\"unknow\",\"le_mode\":\"t\",\"manufacturer\":\"unknow\",\"created_at\":\"2021-02-02T08:45:05+01:00\",\"name\":\"Smart Watch\"}}\n",
      "{\"version\":\"1.0\",\"time\":\"1615368906\",\"id\":\"f0c48ba4-387d-11ea-a137-2e728ce88126\",\"type\":\"BT\",\"event\":\"DATA\",\"data\":{\"status\":\"offline\",\"classic_mode\":\"t\",\"uuid\":\"df6a8652-8bd3-4b66-bfb9-aa97a7d090f2\",\"company\":\"unknow\",\"updated_at\":\"2021-02-03T08:52:58+01:00\",\"last_seen\":\"1612337877\",\"uap_lap\":\"EC:1C:11:4A\",\"address\":\"F0:0F:EC:1C:11:4A\",\"lmp_version\":\"unknow\",\"le_mode\":\"f\",\"manufacturer\":\"unknow\",\"created_at\":\"2021-02-03T08:36:34+01:00\",\"name\":\"HUAWEI P20 Pro\"}}\n",
      "{\"version\":\"1.0\",\"time\":\"1615368906\",\"id\":\"f0c48ba4-387d-11ea-a137-2e728ce88126\",\"type\":\"BT\",\"event\":\"DATA\",\"data\":{\"status\":\"offline\",\"classic_mode\":\"t\",\"uuid\":\"925c814c-40d9-4758-9511-bc9a8ca4ff70\",\"company\":\"unknow\",\"updated_at\":\"2021-02-03T17:39:20+01:00\",\"last_seen\":\"1612369459\",\"uap_lap\":\"92:61:74:1B\",\"address\":\"70:BF:92:61:74:1B\",\"lmp_version\":\"unknow\",\"le_mode\":\"f\",\"manufacturer\":\"unknow\",\"created_at\":\"2021-02-03T11:02:33+01:00\",\"name\":\"Jabra SPEAK 510 USB\"}}\n",
      "{\"version\":\"1.0\",\"time\":\"1615368906\",\"id\":\"f0c48ba4-387d-11ea-a137-2e728ce88126\",\"type\":\"BT\",\"event\":\"DATA\",\"data\":{\"status\":\"offline\",\"classic_mode\":\"t\",\"uuid\":\"e8e39f03-e3ce-4280-a034-ce2cd8e0236d\",\"company\":\"unknow\",\"updated_at\":\"2021-02-04T10:56:33+01:00\",\"last_seen\":\"1612431692\",\"uap_lap\":\"AE:6F:AB:C6\",\"address\":\"E4:33:AE:6F:AB:C6\",\"lmp_version\":\"unknow\",\"le_mode\":\"f\",\"manufacturer\":\"unknow\",\"created_at\":\"2021-02-04T08:35:17+01:00\",\"name\":\"OPPO Reno4 Z 5G\"}}\n",
      "{\"version\":\"1.0\",\"time\":\"1615368906\",\"id\":\"f0c48ba4-387d-11ea-a137-2e728ce88126\",\"type\":\"BT\",\"event\":\"DATA\",\"data\":{\"status\":\"offline\",\"classic_mode\":\"f\",\"uuid\":\"75533646-2eb8-4a52-9cfa-7d762e933f48\",\"company\":\"Xiaomi Inc. (911)\",\"updated_at\":\"2021-02-04T09:35:13+01:00\",\"last_seen\":\"1612427532\",\"uap_lap\":\"44:4E:99:17\",\"address\":\"6C:CE:44:4E:99:17\",\"lmp_version\":\"unknow\",\"le_mode\":\"t\",\"manufacturer\":\"unknow\",\"created_at\":\"2021-02-04T09:32:23+01:00\",\"name\":\"unknow\"}}\n",
      "{\"version\":\"1.0\",\"time\":\"1615368906\",\"id\":\"f0c48ba4-387d-11ea-a137-2e728ce88126\",\"type\":\"BT\",\"event\":\"DATA\",\"data\":{\"status\":\"offline\",\"classic_mode\":\"f\",\"uuid\":\"c8cc0a01-56fa-4bad-b097-c61da1422cc2\",\"company\":\"unknow\",\"updated_at\":\"2021-02-04T10:59:59+01:00\",\"last_seen\":\"1612432618\",\"uap_lap\":\"D2:47:F6:76\",\"address\":\"6B:43:D2:47:F6:76\",\"lmp_version\":\"unknow\",\"le_mode\":\"t\",\"manufacturer\":\"unknow\",\"created_at\":\"2021-02-04T10:57:29+01:00\",\"name\":\"unknow\"}}\n",
      "{\"version\":\"1.0\",\"time\":\"1615368906\",\"id\":\"f0c48ba4-387d-11ea-a137-2e728ce88126\",\"type\":\"BT\",\"event\":\"DATA\",\"data\":{\"status\":\"offline\",\"classic_mode\":\"f\",\"uuid\":\"7387f9ec-6770-44e5-996b-87761a3dd0ee\",\"company\":\"unknow\",\"updated_at\":\"2021-02-04T11:59:49+01:00\",\"last_seen\":\"1612436208\",\"uap_lap\":\"9A:1E:96:91\",\"address\":\"47:26:9A:1E:96:91\",\"lmp_version\":\"unknow\",\"le_mode\":\"t\",\"manufacturer\":\"unknow\",\"created_at\":\"2021-02-04T11:57:20+01:00\",\"name\":\"unknow\"}}\n",
      "{\"version\":\"1.0\",\"time\":\"1615368906\",\"id\":\"f0c48ba4-387d-11ea-a137-2e728ce88126\",\"type\":\"BT\",\"event\":\"DATA\",\"data\":{\"status\":\"offline\",\"classic_mode\":\"f\",\"uuid\":\"03fc7df5-a405-4ea1-bd7a-a90d41fe3628\",\"company\":\"unknow\",\"updated_at\":\"2021-02-04T15:36:09+01:00\",\"last_seen\":\"1612449187\",\"uap_lap\":\"4C:D9:E6:DD\",\"address\":\"5A:AF:4C:D9:E6:DD\",\"lmp_version\":\"unknow\",\"le_mode\":\"t\",\"manufacturer\":\"unknow\",\"created_at\":\"2021-02-04T15:33:38+01:00\",\"name\":\"unknow\"}}\n",
      "{\"version\":\"1.0\",\"time\":\"1615368906\",\"id\":\"f0c48ba4-387d-11ea-a137-2e728ce88126\",\"type\":\"BT\",\"event\":\"DATA\",\"data\":{\"status\":\"offline\",\"classic_mode\":\"f\",\"uuid\":\"abbe9af8-3958-464a-9529-4bf6fb8ceb82\",\"company\":\"unknow\",\"updated_at\":\"2021-02-05T09:03:37+01:00\",\"last_seen\":\"1612512036\",\"uap_lap\":\"0A:E6:3D:75\",\"address\":\"6A:F8:0A:E6:3D:75\",\"lmp_version\":\"unknow\",\"le_mode\":\"t\",\"manufacturer\":\"unknow\",\"created_at\":\"2021-02-05T09:00:53+01:00\",\"name\":\"unknow\"}}\n",
      "{\"version\":\"1.0\",\"time\":\"1615368906\",\"id\":\"f0c48ba4-387d-11ea-a137-2e728ce88126\",\"type\":\"BT\",\"event\":\"DATA\",\"data\":{\"status\":\"online\",\"classic_mode\":\"f\",\"uuid\":\"fca5fd98-791d-4b33-9d96-222a960c687b\",\"company\":\"HUAWEI Technologies Co., Ltd. ( 华为技术有限公司 ) (637)\",\"updated_at\":\"2021-02-05T12:47:54+01:00\",\"last_seen\":\"1612525668\",\"uap_lap\":\"2F:3F:EC:D0\",\"address\":\"F0:C4:2F:3F:EC:D0\",\"lmp_version\":\"unknow\",\"le_mode\":\"t\",\"manufacturer\":\"unknow\",\"created_at\":\"2021-02-05T10:22:14+01:00\",\"name\":\"HONOR Band 5-CD0\"}}\n",
      "{\"version\":\"1.0\",\"time\":\"1615368906\",\"id\":\"f0c48ba4-387d-11ea-a137-2e728ce88126\",\"type\":\"BT\",\"event\":\"DATA\",\"data\":{\"status\":\"offline\",\"classic_mode\":\"f\",\"uuid\":\"d5fb8b9b-cedf-4642-9cc3-abd6ac9b8afd\",\"company\":\"Apple, Inc. (76)\",\"updated_at\":\"2021-02-05T12:25:45+01:00\",\"last_seen\":\"1612524163\",\"uap_lap\":\"78:33:90:81\",\"address\":\"0E:81:78:33:90:81\",\"lmp_version\":\"unknow\",\"le_mode\":\"t\",\"manufacturer\":\"unknow\",\"created_at\":\"2021-02-05T12:17:26+01:00\",\"name\":\"unknow\"}}\n"
     ]
    },
    {
     "name": "stdout",
     "output_type": "stream",
     "text": [
      "{\"version\":\"1.0\",\"time\":\"1615368926\",\"id\":\"f0c48ba4-387d-11ea-a137-2e728ce88126\",\"type\":\"BT\",\"event\":\"DATA\",\"data\":{\"status\":\"offline\",\"classic_mode\":\"t\",\"uuid\":\"64c4cf5c-91b6-4118-aa10-13fa0f2abb25\",\"company\":\"unknow\",\"updated_at\":\"2021-02-02T08:57:33+01:00\",\"last_seen\":\"1612251752\",\"uap_lap\":\"EB:6D:B2:44\",\"address\":\"00:00:EB:6D:B2:44\",\"lmp_version\":\"unknow\",\"le_mode\":\"f\",\"manufacturer\":\"unknow\",\"created_at\":\"2021-02-02T08:42:33+01:00\",\"name\":\"unknow\"}}\n",
      "{\"version\":\"1.0\",\"time\":\"1615368926\",\"id\":\"f0c48ba4-387d-11ea-a137-2e728ce88126\",\"type\":\"BT\",\"event\":\"DATA\",\"data\":{\"status\":\"offline\",\"classic_mode\":\"t\",\"uuid\":\"c3157ff7-54e1-4177-840b-86478ff05bdd\",\"company\":\"unknow\",\"updated_at\":\"2021-02-05T10:56:54+01:00\",\"last_seen\":\"1612518113\",\"uap_lap\":\"46:73:98:32\",\"address\":\"A4:50:46:73:98:32\",\"lmp_version\":\"Bluetooth 5.0 (0x09) - Subversion 702 (0x02be)\",\"le_mode\":\"f\",\"manufacturer\":\"Qualcomm (29)\",\"created_at\":\"2021-02-02T12:17:55+01:00\",\"name\":\"Mi Telefono\"}}\n",
      "{\"version\":\"1.0\",\"time\":\"1615368926\",\"id\":\"f0c48ba4-387d-11ea-a137-2e728ce88126\",\"type\":\"BT\",\"event\":\"DATA\",\"data\":{\"status\":\"offline\",\"classic_mode\":\"t\",\"uuid\":\"8b335c99-be5c-4ae5-9362-9fc1cf7d92e9\",\"company\":\"unknow\",\"updated_at\":\"2021-02-03T09:47:46+01:00\",\"last_seen\":\"1612341165\",\"uap_lap\":\"42:27:AA:CD\",\"address\":\"E0:F4:42:27:AA:CD\",\"lmp_version\":\"unknow\",\"le_mode\":\"f\",\"manufacturer\":\"unknow\",\"created_at\":\"2021-02-03T08:34:04+01:00\",\"name\":\"Viti's Phone\"}}\n",
      "{\"version\":\"1.0\",\"time\":\"1615368926\",\"id\":\"f0c48ba4-387d-11ea-a137-2e728ce88126\",\"type\":\"BT\",\"event\":\"DATA\",\"data\":{\"status\":\"offline\",\"classic_mode\":\"t\",\"uuid\":\"df6a8652-8bd3-4b66-bfb9-aa97a7d090f2\",\"company\":\"unknow\",\"updated_at\":\"2021-02-03T08:52:58+01:00\",\"last_seen\":\"1612337877\",\"uap_lap\":\"EC:1C:11:4A\",\"address\":\"F0:0F:EC:1C:11:4A\",\"lmp_version\":\"unknow\",\"le_mode\":\"f\",\"manufacturer\":\"unknow\",\"created_at\":\"2021-02-03T08:36:34+01:00\",\"name\":\"HUAWEI P20 Pro\"}}\n",
      "{\"version\":\"1.0\",\"time\":\"1615368926\",\"id\":\"f0c48ba4-387d-11ea-a137-2e728ce88126\",\"type\":\"BT\",\"event\":\"DATA\",\"data\":{\"status\":\"offline\",\"classic_mode\":\"t\",\"uuid\":\"be7162e9-3c52-462d-b4a0-9989ca7c11d7\",\"company\":\"unknow\",\"updated_at\":\"2021-02-03T08:58:57+01:00\",\"last_seen\":\"1612338236\",\"uap_lap\":\"A0:FB:B4:2C\",\"address\":\"48:2C:A0:FB:B4:2C\",\"lmp_version\":\"unknow\",\"le_mode\":\"f\",\"manufacturer\":\"unknow\",\"created_at\":\"2021-02-03T08:40:48+01:00\",\"name\":\"Redmi\"}}\n",
      "{\"version\":\"1.0\",\"time\":\"1615368926\",\"id\":\"f0c48ba4-387d-11ea-a137-2e728ce88126\",\"type\":\"BT\",\"event\":\"DATA\",\"data\":{\"status\":\"offline\",\"classic_mode\":\"t\",\"uuid\":\"925c814c-40d9-4758-9511-bc9a8ca4ff70\",\"company\":\"unknow\",\"updated_at\":\"2021-02-03T17:39:20+01:00\",\"last_seen\":\"1612369459\",\"uap_lap\":\"92:61:74:1B\",\"address\":\"70:BF:92:61:74:1B\",\"lmp_version\":\"unknow\",\"le_mode\":\"f\",\"manufacturer\":\"unknow\",\"created_at\":\"2021-02-03T11:02:33+01:00\",\"name\":\"Jabra SPEAK 510 USB\"}}\n",
      "{\"version\":\"1.0\",\"time\":\"1615368926\",\"id\":\"f0c48ba4-387d-11ea-a137-2e728ce88126\",\"type\":\"BT\",\"event\":\"DATA\",\"data\":{\"status\":\"offline\",\"classic_mode\":\"f\",\"uuid\":\"90ec616a-581f-4743-aa82-cdf7945dae88\",\"company\":\"Sony Corporation (301)\",\"updated_at\":\"2021-02-03T19:52:53+01:00\",\"last_seen\":\"1612378192\",\"uap_lap\":\"4C:06:DA:0B\",\"address\":\"38:18:4C:06:DA:0B\",\"lmp_version\":\"unknow\",\"le_mode\":\"t\",\"manufacturer\":\"unknow\",\"created_at\":\"2021-02-03T11:32:49+01:00\",\"name\":\"LE_WH-1000XM3\"}}\n",
      "{\"version\":\"1.0\",\"time\":\"1615368926\",\"id\":\"f0c48ba4-387d-11ea-a137-2e728ce88126\",\"type\":\"BT\",\"event\":\"DATA\",\"data\":{\"status\":\"offline\",\"classic_mode\":\"f\",\"uuid\":\"fa97ed62-7d2a-49bb-ba91-d0f9d4ce46b6\",\"company\":\"unknow\",\"updated_at\":\"2021-02-04T06:22:16+01:00\",\"last_seen\":\"1612415954\",\"uap_lap\":\"F3:32:CC:9F\",\"address\":\"71:47:F3:32:CC:9F\",\"lmp_version\":\"unknow\",\"le_mode\":\"t\",\"manufacturer\":\"unknow\",\"created_at\":\"2021-02-04T06:19:28+01:00\",\"name\":\"unknow\"}}\n",
      "{\"version\":\"1.0\",\"time\":\"1615368926\",\"id\":\"f0c48ba4-387d-11ea-a137-2e728ce88126\",\"type\":\"BT\",\"event\":\"DATA\",\"data\":{\"status\":\"offline\",\"classic_mode\":\"t\",\"uuid\":\"7f7f6a52-4b4d-4e95-acb3-158326aea1b5\",\"company\":\"unknow\",\"updated_at\":\"2021-02-04T10:18:20+01:00\",\"last_seen\":\"1612429399\",\"uap_lap\":\"46:00:00:85\",\"address\":\"CA:74:46:00:00:85\",\"lmp_version\":\"unknow\",\"le_mode\":\"f\",\"manufacturer\":\"unknow\",\"created_at\":\"2021-02-04T08:45:38+01:00\",\"name\":\"BV9600Pro\"}}\n",
      "{\"version\":\"1.0\",\"time\":\"1615368926\",\"id\":\"f0c48ba4-387d-11ea-a137-2e728ce88126\",\"type\":\"BT\",\"event\":\"DATA\",\"data\":{\"status\":\"offline\",\"classic_mode\":\"f\",\"uuid\":\"fbeffc5b-e7fa-4f7a-b0c1-7c3d404a8acc\",\"company\":\"Anhui Huami Information Technology Co., Ltd. (343\",\"updated_at\":\"2021-02-04T12:42:55+01:00\",\"last_seen\":\"1612438794\",\"uap_lap\":\"08:D7:F2:CF\",\"address\":\"E5:4E:08:D7:F2:CF\",\"lmp_version\":\"unknow\",\"le_mode\":\"t\",\"manufacturer\":\"unknow\",\"created_at\":\"2021-02-04T10:21:18+01:00\",\"name\":\"Mi Smart Band 4\"}}\n"
     ]
    },
    {
     "ename": "KeyboardInterrupt",
     "evalue": "",
     "output_type": "error",
     "traceback": [
      "\u001b[0;31m---------------------------------------------------------------------------\u001b[0m",
      "\u001b[0;31mKeyboardInterrupt\u001b[0m                         Traceback (most recent call last)",
      "\u001b[0;32m<ipython-input-7-a1f5f5a3c86e>\u001b[0m in \u001b[0;36m<module>\u001b[0;34m\u001b[0m\n\u001b[1;32m     24\u001b[0m         \u001b[0mproducer\u001b[0m\u001b[0;34m.\u001b[0m\u001b[0mflush\u001b[0m\u001b[0;34m(\u001b[0m\u001b[0;34m)\u001b[0m\u001b[0;34m\u001b[0m\u001b[0;34m\u001b[0m\u001b[0m\n\u001b[1;32m     25\u001b[0m \u001b[0;34m\u001b[0m\u001b[0m\n\u001b[0;32m---> 26\u001b[0;31m     \u001b[0mtime\u001b[0m\u001b[0;34m.\u001b[0m\u001b[0msleep\u001b[0m\u001b[0;34m(\u001b[0m\u001b[0msleep\u001b[0m\u001b[0;34m)\u001b[0m\u001b[0;34m\u001b[0m\u001b[0;34m\u001b[0m\u001b[0m\n\u001b[0m\u001b[1;32m     27\u001b[0m     \u001b[0mc\u001b[0m \u001b[0;34m=\u001b[0m \u001b[0mc\u001b[0m \u001b[0;34m+\u001b[0m \u001b[0;36m1\u001b[0m\u001b[0;34m\u001b[0m\u001b[0;34m\u001b[0m\u001b[0m\n\u001b[1;32m     28\u001b[0m     \u001b[0mseed\u001b[0m \u001b[0;34m=\u001b[0m \u001b[0mseed\u001b[0m \u001b[0;34m+\u001b[0m \u001b[0;36m1\u001b[0m\u001b[0;34m\u001b[0m\u001b[0;34m\u001b[0m\u001b[0m\n",
      "\u001b[0;31mKeyboardInterrupt\u001b[0m: "
     ]
    }
   ],
   "source": [
    "# Creamos productor de eventos Kafka\n",
    "\n",
    "ip_server = '192.168.1.101:9092'\n",
    "kafka_topic = 'BT'\n",
    "c = 0\n",
    "sleep = 20\n",
    "seed = 1\n",
    "\n",
    "while True:\n",
    "    df_sample = df.sample(fraction = 0.15, seed = seed)\n",
    "    df_sample = df_sample.withColumn('time', unix_timestamp().cast(StringType()))\n",
    "    \n",
    "    prediction_features = df_sample.select('version','time','id','type','event','data')\n",
    "\n",
    "    if type(kafka_topic) == bytes:\n",
    "        kafka_topic = kafka_topic.decode('utf-8')\n",
    "    producer = KafkaProducer(bootstrap_servers=[ip_server],api_version=(0,10))\n",
    "    PREDICTION_TOPIC = kafka_topic\n",
    "\n",
    "    #FUNCIONAL\n",
    "    for row in prediction_features.toJSON().collect():\n",
    "        print((row))\n",
    "        producer.send(PREDICTION_TOPIC , row.encode())\n",
    "        producer.flush()\n",
    "    \n",
    "    time.sleep(sleep)\n",
    "    c = c + 1\n",
    "    seed = seed + 1"
   ]
  },
  {
   "cell_type": "code",
   "execution_count": null,
   "metadata": {},
   "outputs": [],
   "source": [
    "# Creamos productor de eventos Kafka\n",
    "import json\n",
    "ip_server = '192.168.1.101:9092'\n",
    "kafka_topic = 'BT'\n",
    "c = 0\n",
    "sleep = 20\n",
    "seed = 1\n",
    "prediction_features = \n",
    "#FUNCIONAL\n",
    "json_object = json.dumps(prediction_features)   \n",
    "row = json_object \n",
    "print((row))\n",
    "producer.send(PREDICTION_TOPIC , row.encode())\n",
    "producer.flush()"
   ]
  },
  {
   "cell_type": "code",
   "execution_count": null,
   "metadata": {},
   "outputs": [],
   "source": [
    "sc.stop()"
   ]
  },
  {
   "cell_type": "code",
   "execution_count": null,
   "metadata": {},
   "outputs": [],
   "source": []
  }
 ],
 "metadata": {
  "kernelspec": {
   "display_name": "Python 3",
   "language": "python",
   "name": "python3"
  },
  "language_info": {
   "codemirror_mode": {
    "name": "ipython",
    "version": 3
   },
   "file_extension": ".py",
   "mimetype": "text/x-python",
   "name": "python",
   "nbconvert_exporter": "python",
   "pygments_lexer": "ipython3",
   "version": "3.6.8"
  }
 },
 "nbformat": 4,
 "nbformat_minor": 4
}
