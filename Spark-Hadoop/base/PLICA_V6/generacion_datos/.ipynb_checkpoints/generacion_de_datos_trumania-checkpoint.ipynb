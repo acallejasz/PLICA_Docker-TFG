{
 "cells": [
  {
   "cell_type": "code",
   "execution_count": 1,
   "metadata": {},
   "outputs": [],
   "source": [
    "# Librerias\n",
    "\n",
    "import logging\n",
    "import pandas as pd\n",
    "from tabulate import tabulate \n",
    "\n",
    "from trumania.core import circus, operations\n",
    "from trumania.core.random_generators import ConstantDependentGenerator, SequencialGenerator, NumpyRandomGenerator\n",
    "import trumania.core.util_functions as util_functions\n",
    "\n",
    "import pandas as pd"
   ]
  },
  {
   "cell_type": "code",
   "execution_count": 2,
   "metadata": {},
   "outputs": [],
   "source": [
    "# Creamos el circo (mundo en el que existirán todos los elementos del escenario)\n",
    "\n",
    "rm_circus = circus.Circus(name=\"rm\", \n",
    "                          master_seed=12345,\n",
    "                          start=pd.Timestamp(\"25 Oct 2020 00:00\"), # Fecha de inicio.\n",
    "                          step_duration=pd.Timedelta(\"2h\"))        # Cada hora, cada historia tiene posibilidad de ejecutarse"
   ]
  },
  {
   "cell_type": "code",
   "execution_count": 3,
   "metadata": {},
   "outputs": [],
   "source": [
    "# Cargando imei_dataset.json y imsi_dataset.json\n",
    "\n",
    "df_imei = pd.read_json('../rm/datasets/imei_dataset/imei_dataset.json', dtype = False)\n",
    "df_imsi = pd.read_json('../rm/datasets/imsi_dataset/imsi_dataset.json', dtype = False)"
   ]
  },
  {
   "cell_type": "markdown",
   "metadata": {},
   "source": [
    "# Generación de dataset Normal "
   ]
  },
  {
   "cell_type": "code",
   "execution_count": 4,
   "metadata": {},
   "outputs": [
    {
     "data": {
      "text/html": [
       "<div>\n",
       "<style scoped>\n",
       "    .dataframe tbody tr th:only-of-type {\n",
       "        vertical-align: middle;\n",
       "    }\n",
       "\n",
       "    .dataframe tbody tr th {\n",
       "        vertical-align: top;\n",
       "    }\n",
       "\n",
       "    .dataframe thead th {\n",
       "        text-align: right;\n",
       "    }\n",
       "</style>\n",
       "<table border=\"1\" class=\"dataframe\">\n",
       "  <thead>\n",
       "    <tr style=\"text-align: right;\">\n",
       "      <th></th>\n",
       "      <th>mcc</th>\n",
       "      <th>mnc</th>\n",
       "      <th>msin</th>\n",
       "      <th>imsi</th>\n",
       "    </tr>\n",
       "  </thead>\n",
       "  <tbody>\n",
       "    <tr>\n",
       "      <th>121200</th>\n",
       "      <td>214</td>\n",
       "      <td>23</td>\n",
       "      <td>4209664000</td>\n",
       "      <td>214234209664000</td>\n",
       "    </tr>\n",
       "    <tr>\n",
       "      <th>121201</th>\n",
       "      <td>214</td>\n",
       "      <td>23</td>\n",
       "      <td>9509610424</td>\n",
       "      <td>214239509610424</td>\n",
       "    </tr>\n",
       "    <tr>\n",
       "      <th>121202</th>\n",
       "      <td>214</td>\n",
       "      <td>23</td>\n",
       "      <td>6741145085</td>\n",
       "      <td>214236741145085</td>\n",
       "    </tr>\n",
       "    <tr>\n",
       "      <th>121203</th>\n",
       "      <td>214</td>\n",
       "      <td>23</td>\n",
       "      <td>3368808866</td>\n",
       "      <td>214233368808866</td>\n",
       "    </tr>\n",
       "    <tr>\n",
       "      <th>121204</th>\n",
       "      <td>214</td>\n",
       "      <td>23</td>\n",
       "      <td>1060750036</td>\n",
       "      <td>214231060750036</td>\n",
       "    </tr>\n",
       "    <tr>\n",
       "      <th>...</th>\n",
       "      <td>...</td>\n",
       "      <td>...</td>\n",
       "      <td>...</td>\n",
       "      <td>...</td>\n",
       "    </tr>\n",
       "    <tr>\n",
       "      <th>123395</th>\n",
       "      <td>214</td>\n",
       "      <td>04</td>\n",
       "      <td>9849761172</td>\n",
       "      <td>214049849761172</td>\n",
       "    </tr>\n",
       "    <tr>\n",
       "      <th>123396</th>\n",
       "      <td>214</td>\n",
       "      <td>04</td>\n",
       "      <td>9922596057</td>\n",
       "      <td>214049922596057</td>\n",
       "    </tr>\n",
       "    <tr>\n",
       "      <th>123397</th>\n",
       "      <td>214</td>\n",
       "      <td>04</td>\n",
       "      <td>3280220616</td>\n",
       "      <td>214043280220616</td>\n",
       "    </tr>\n",
       "    <tr>\n",
       "      <th>123398</th>\n",
       "      <td>214</td>\n",
       "      <td>04</td>\n",
       "      <td>8022966266</td>\n",
       "      <td>214048022966266</td>\n",
       "    </tr>\n",
       "    <tr>\n",
       "      <th>123399</th>\n",
       "      <td>214</td>\n",
       "      <td>04</td>\n",
       "      <td>2276006225</td>\n",
       "      <td>214042276006225</td>\n",
       "    </tr>\n",
       "  </tbody>\n",
       "</table>\n",
       "<p>2200 rows × 4 columns</p>\n",
       "</div>"
      ],
      "text/plain": [
       "        mcc mnc        msin             imsi\n",
       "121200  214  23  4209664000  214234209664000\n",
       "121201  214  23  9509610424  214239509610424\n",
       "121202  214  23  6741145085  214236741145085\n",
       "121203  214  23  3368808866  214233368808866\n",
       "121204  214  23  1060750036  214231060750036\n",
       "...     ...  ..         ...              ...\n",
       "123395  214  04  9849761172  214049849761172\n",
       "123396  214  04  9922596057  214049922596057\n",
       "123397  214  04  3280220616  214043280220616\n",
       "123398  214  04  8022966266  214048022966266\n",
       "123399  214  04  2276006225  214042276006225\n",
       "\n",
       "[2200 rows x 4 columns]"
      ]
     },
     "execution_count": 4,
     "metadata": {},
     "output_type": "execute_result"
    }
   ],
   "source": [
    "# Seleccionamos países previstos (España) \n",
    "\n",
    "df_imsi = df_imsi.loc[(df_imsi['mcc'] == '214')]\n",
    "df_imsi"
   ]
  },
  {
   "cell_type": "code",
   "execution_count": 5,
   "metadata": {},
   "outputs": [
    {
     "name": "stdout",
     "output_type": "stream",
     "text": [
      "Valores duplicados encontrados en df_imei:\n",
      "                    imei\n",
      "54653   356526077030868\n",
      "155460  356808074750163 \n",
      "\n",
      "Valores borrados. Comprobacion:\n",
      " Empty DataFrame\n",
      "Columns: [imei]\n",
      "Index: [] \n",
      "\n",
      "--------------------------------------------------\n",
      "\n",
      "Valores duplicados encontrados en df_imsi:\n",
      " Empty DataFrame\n",
      "Columns: [mcc, mnc, msin, imsi]\n",
      "Index: [] \n",
      "\n"
     ]
    },
    {
     "data": {
      "text/html": [
       "<div>\n",
       "<style scoped>\n",
       "    .dataframe tbody tr th:only-of-type {\n",
       "        vertical-align: middle;\n",
       "    }\n",
       "\n",
       "    .dataframe tbody tr th {\n",
       "        vertical-align: top;\n",
       "    }\n",
       "\n",
       "    .dataframe thead th {\n",
       "        text-align: right;\n",
       "    }\n",
       "</style>\n",
       "<table border=\"1\" class=\"dataframe\">\n",
       "  <thead>\n",
       "    <tr style=\"text-align: right;\">\n",
       "      <th></th>\n",
       "      <th>imei</th>\n",
       "    </tr>\n",
       "  </thead>\n",
       "  <tbody>\n",
       "    <tr>\n",
       "      <th>0</th>\n",
       "      <td>356980064737540</td>\n",
       "    </tr>\n",
       "    <tr>\n",
       "      <th>1</th>\n",
       "      <td>864323049291306</td>\n",
       "    </tr>\n",
       "    <tr>\n",
       "      <th>2</th>\n",
       "      <td>358335076905866</td>\n",
       "    </tr>\n",
       "    <tr>\n",
       "      <th>3</th>\n",
       "      <td>358144098634292</td>\n",
       "    </tr>\n",
       "    <tr>\n",
       "      <th>4</th>\n",
       "      <td>864592041505760</td>\n",
       "    </tr>\n",
       "    <tr>\n",
       "      <th>...</th>\n",
       "      <td>...</td>\n",
       "    </tr>\n",
       "    <tr>\n",
       "      <th>2195</th>\n",
       "      <td>355307082843012</td>\n",
       "    </tr>\n",
       "    <tr>\n",
       "      <th>2196</th>\n",
       "      <td>353304079536024</td>\n",
       "    </tr>\n",
       "    <tr>\n",
       "      <th>2197</th>\n",
       "      <td>358561085276995</td>\n",
       "    </tr>\n",
       "    <tr>\n",
       "      <th>2198</th>\n",
       "      <td>353293087689141</td>\n",
       "    </tr>\n",
       "    <tr>\n",
       "      <th>2199</th>\n",
       "      <td>000000000000000</td>\n",
       "    </tr>\n",
       "  </tbody>\n",
       "</table>\n",
       "<p>2200 rows × 1 columns</p>\n",
       "</div>"
      ],
      "text/plain": [
       "                 imei\n",
       "0     356980064737540\n",
       "1     864323049291306\n",
       "2     358335076905866\n",
       "3     358144098634292\n",
       "4     864592041505760\n",
       "...               ...\n",
       "2195  355307082843012\n",
       "2196  353304079536024\n",
       "2197  358561085276995\n",
       "2198  353293087689141\n",
       "2199  000000000000000\n",
       "\n",
       "[2200 rows x 1 columns]"
      ]
     },
     "metadata": {},
     "output_type": "display_data"
    },
    {
     "data": {
      "text/html": [
       "<div>\n",
       "<style scoped>\n",
       "    .dataframe tbody tr th:only-of-type {\n",
       "        vertical-align: middle;\n",
       "    }\n",
       "\n",
       "    .dataframe tbody tr th {\n",
       "        vertical-align: top;\n",
       "    }\n",
       "\n",
       "    .dataframe thead th {\n",
       "        text-align: right;\n",
       "    }\n",
       "</style>\n",
       "<table border=\"1\" class=\"dataframe\">\n",
       "  <thead>\n",
       "    <tr style=\"text-align: right;\">\n",
       "      <th></th>\n",
       "      <th>imsi</th>\n",
       "    </tr>\n",
       "  </thead>\n",
       "  <tbody>\n",
       "    <tr>\n",
       "      <th>0</th>\n",
       "      <td>214046646231352</td>\n",
       "    </tr>\n",
       "    <tr>\n",
       "      <th>1</th>\n",
       "      <td>214098146792037</td>\n",
       "    </tr>\n",
       "    <tr>\n",
       "      <th>2</th>\n",
       "      <td>214083951739681</td>\n",
       "    </tr>\n",
       "    <tr>\n",
       "      <th>3</th>\n",
       "      <td>214053348078565</td>\n",
       "    </tr>\n",
       "    <tr>\n",
       "      <th>4</th>\n",
       "      <td>214045631428401</td>\n",
       "    </tr>\n",
       "    <tr>\n",
       "      <th>...</th>\n",
       "      <td>...</td>\n",
       "    </tr>\n",
       "    <tr>\n",
       "      <th>2195</th>\n",
       "      <td>214185093314768</td>\n",
       "    </tr>\n",
       "    <tr>\n",
       "      <th>2196</th>\n",
       "      <td>214270580418886</td>\n",
       "    </tr>\n",
       "    <tr>\n",
       "      <th>2197</th>\n",
       "      <td>214231999350202</td>\n",
       "    </tr>\n",
       "    <tr>\n",
       "      <th>2198</th>\n",
       "      <td>214150605465484</td>\n",
       "    </tr>\n",
       "    <tr>\n",
       "      <th>2199</th>\n",
       "      <td>214226440301979</td>\n",
       "    </tr>\n",
       "  </tbody>\n",
       "</table>\n",
       "<p>2200 rows × 1 columns</p>\n",
       "</div>"
      ],
      "text/plain": [
       "                 imsi\n",
       "0     214046646231352\n",
       "1     214098146792037\n",
       "2     214083951739681\n",
       "3     214053348078565\n",
       "4     214045631428401\n",
       "...               ...\n",
       "2195  214185093314768\n",
       "2196  214270580418886\n",
       "2197  214231999350202\n",
       "2198  214150605465484\n",
       "2199  214226440301979\n",
       "\n",
       "[2200 rows x 1 columns]"
      ]
     },
     "metadata": {},
     "output_type": "display_data"
    }
   ],
   "source": [
    "# Acomodamos dataset\n",
    "\n",
    "df_imei.drop(['brand','model'], axis=1, inplace=True)    # Descartamos columnas no necesarias\n",
    "\n",
    "# Borramos duplicados (drop duplicates no funciona)\n",
    "\n",
    "duplicateRowsDF = df_imei[df_imei.duplicated(['imei'])]\n",
    "print(f'Valores duplicados encontrados en df_imei:\\n {duplicateRowsDF} \\n')\n",
    "df_imei.drop([54653, 155460], inplace=True)\n",
    "duplicateRowsDF = df_imei[df_imei.duplicated(['imei'])]\n",
    "print(f'Valores borrados. Comprobacion:\\n {duplicateRowsDF} \\n')\n",
    "\n",
    "df_imei = df_imei.sample(frac=1).reset_index(drop=True)  # Aleatorizamos entradas\n",
    "df_imei = df_imei.iloc[:2199,:]                        # Seleccionamos 4899 entradas\n",
    "\n",
    "# Creamos entrada para valores no asignados\n",
    "na_imei = {'imei':['000000000000000']}\n",
    "df_na = pd.DataFrame(data=na_imei)\n",
    "\n",
    "# Concatenamos dataframes de imei\n",
    "df_imei = df_imei.append(df_na).reset_index(drop=True)\n",
    "\n",
    "print(f'{\"-\"*50}\\n')\n",
    "\n",
    "# Borramos duplicados (drop duplicates no funciona)\n",
    "\n",
    "duplicateRowsDF = df_imsi[df_imsi.duplicated(['msin'])]\n",
    "print(f'Valores duplicados encontrados en df_imsi:\\n {duplicateRowsDF} \\n')\n",
    "\n",
    "df_imsi.drop(['mcc','mnc','msin'], axis=1, inplace=True) # Descartamos columnas no necesarias\n",
    "df_imsi = df_imsi.sample(frac=1).reset_index(drop=True)  # Aleatorizamos entradas\n",
    "\n",
    "display(df_imei)\n",
    "display(df_imsi)"
   ]
  },
  {
   "cell_type": "code",
   "execution_count": 6,
   "metadata": {},
   "outputs": [
    {
     "data": {
      "text/plain": [
       "<trumania.core.attribute.Attribute at 0x7f5850a27d30>"
      ]
     },
     "execution_count": 6,
     "metadata": {},
     "output_type": "execute_result"
    }
   ],
   "source": [
    "# Generamos la población (actores del circo) y añadimos sus atributos. En este caso RM\n",
    "\n",
    "id_gen = SequencialGenerator(prefix=\"rm_\")\n",
    "\n",
    "rm = rm_circus.create_population(name=\"rm\", size=2200, ids_gen=id_gen)\n",
    "rm.create_attribute(\"imei\", init_values=df_imei['imei'].explode().tolist())\n",
    "rm.create_attribute(\"imsi\", init_values=df_imsi['imsi'].explode().tolist())"
   ]
  },
  {
   "cell_type": "code",
   "execution_count": 7,
   "metadata": {},
   "outputs": [
    {
     "data": {
      "text/html": [
       "<div>\n",
       "<style scoped>\n",
       "    .dataframe tbody tr th:only-of-type {\n",
       "        vertical-align: middle;\n",
       "    }\n",
       "\n",
       "    .dataframe tbody tr th {\n",
       "        vertical-align: top;\n",
       "    }\n",
       "\n",
       "    .dataframe thead th {\n",
       "        text-align: right;\n",
       "    }\n",
       "</style>\n",
       "<table border=\"1\" class=\"dataframe\">\n",
       "  <thead>\n",
       "    <tr style=\"text-align: right;\">\n",
       "      <th></th>\n",
       "      <th>imei</th>\n",
       "      <th>imsi</th>\n",
       "    </tr>\n",
       "  </thead>\n",
       "  <tbody>\n",
       "    <tr>\n",
       "      <th>rm_0000000000</th>\n",
       "      <td>356980064737540</td>\n",
       "      <td>214046646231352</td>\n",
       "    </tr>\n",
       "    <tr>\n",
       "      <th>rm_0000000001</th>\n",
       "      <td>864323049291306</td>\n",
       "      <td>214098146792037</td>\n",
       "    </tr>\n",
       "    <tr>\n",
       "      <th>rm_0000000002</th>\n",
       "      <td>358335076905866</td>\n",
       "      <td>214083951739681</td>\n",
       "    </tr>\n",
       "    <tr>\n",
       "      <th>rm_0000000003</th>\n",
       "      <td>358144098634292</td>\n",
       "      <td>214053348078565</td>\n",
       "    </tr>\n",
       "    <tr>\n",
       "      <th>rm_0000000004</th>\n",
       "      <td>864592041505760</td>\n",
       "      <td>214045631428401</td>\n",
       "    </tr>\n",
       "    <tr>\n",
       "      <th>...</th>\n",
       "      <td>...</td>\n",
       "      <td>...</td>\n",
       "    </tr>\n",
       "    <tr>\n",
       "      <th>rm_0000002195</th>\n",
       "      <td>355307082843012</td>\n",
       "      <td>214185093314768</td>\n",
       "    </tr>\n",
       "    <tr>\n",
       "      <th>rm_0000002196</th>\n",
       "      <td>353304079536024</td>\n",
       "      <td>214270580418886</td>\n",
       "    </tr>\n",
       "    <tr>\n",
       "      <th>rm_0000002197</th>\n",
       "      <td>358561085276995</td>\n",
       "      <td>214231999350202</td>\n",
       "    </tr>\n",
       "    <tr>\n",
       "      <th>rm_0000002198</th>\n",
       "      <td>353293087689141</td>\n",
       "      <td>214150605465484</td>\n",
       "    </tr>\n",
       "    <tr>\n",
       "      <th>rm_0000002199</th>\n",
       "      <td>000000000000000</td>\n",
       "      <td>214226440301979</td>\n",
       "    </tr>\n",
       "  </tbody>\n",
       "</table>\n",
       "<p>2200 rows × 2 columns</p>\n",
       "</div>"
      ],
      "text/plain": [
       "                          imei             imsi\n",
       "rm_0000000000  356980064737540  214046646231352\n",
       "rm_0000000001  864323049291306  214098146792037\n",
       "rm_0000000002  358335076905866  214083951739681\n",
       "rm_0000000003  358144098634292  214053348078565\n",
       "rm_0000000004  864592041505760  214045631428401\n",
       "...                        ...              ...\n",
       "rm_0000002195  355307082843012  214185093314768\n",
       "rm_0000002196  353304079536024  214270580418886\n",
       "rm_0000002197  358561085276995  214231999350202\n",
       "rm_0000002198  353293087689141  214150605465484\n",
       "rm_0000002199  000000000000000  214226440301979\n",
       "\n",
       "[2200 rows x 2 columns]"
      ]
     },
     "execution_count": 7,
     "metadata": {},
     "output_type": "execute_result"
    }
   ],
   "source": [
    "rm.to_dataframe()"
   ]
  },
  {
   "cell_type": "code",
   "execution_count": 8,
   "metadata": {},
   "outputs": [],
   "source": [
    "# Número de entradas en función del tiempo\n",
    "\n",
    "from trumania.components.time_patterns.profilers import DefaultDailyTimerGenerator\n",
    "\n",
    "story_timer_gen = DefaultDailyTimerGenerator(\n",
    "    clock=rm_circus.clock, \n",
    "    seed=next(rm_circus.seeder))"
   ]
  },
  {
   "cell_type": "code",
   "execution_count": 9,
   "metadata": {},
   "outputs": [],
   "source": [
    "# Creamos tres permiles de tráfico\n",
    "\n",
    "low_activity = story_timer_gen.activity(n=4, per=pd.Timedelta(\"1 day\"))\n",
    "med_activity = story_timer_gen.activity(n=6, per=pd.Timedelta(\"1 day\"))\n",
    "high_activity = story_timer_gen.activity(n=8, per=pd.Timedelta(\"1 day\"))"
   ]
  },
  {
   "cell_type": "code",
   "execution_count": 10,
   "metadata": {},
   "outputs": [],
   "source": [
    "# Asignamos a cada permil de tráfico una probabilidad. Cada entrada del dataset tendrá un permil de tráfico único.\n",
    "\n",
    "activity_gen = NumpyRandomGenerator(\n",
    "    method=\"choice\", \n",
    "    a=[low_activity, med_activity, high_activity],\n",
    "    p=[.2, .7, .1],\n",
    "    seed=next(rm_circus.seeder))"
   ]
  },
  {
   "cell_type": "code",
   "execution_count": 11,
   "metadata": {},
   "outputs": [
    {
     "name": "stderr",
     "output_type": "stream",
     "text": [
      "WARNING:root:story not found: rm_story\n"
     ]
    }
   ],
   "source": [
    "# Creación de la historia. Se define población y su actividad en base la tiempo\n",
    "\n",
    "rm_story = rm_circus.create_story(\n",
    "    name=\"rm_story\",\n",
    "    initiating_population=rm_circus.populations[\"rm\"],\n",
    "    member_id_field=\"rm_id\",\n",
    "    \n",
    "    timer_gen=story_timer_gen,\n",
    "    activity_gen=activity_gen\n",
    ")"
   ]
  },
  {
   "cell_type": "code",
   "execution_count": 12,
   "metadata": {},
   "outputs": [],
   "source": [
    "# Generamos entrada rat y asignamos probabilidad.\\\n",
    "\n",
    "rat_gen = NumpyRandomGenerator(method=\"choice\", \n",
    "                                   a=['2G','3G','4G','5G'], \n",
    "                                   p=[0.1, 0.3, 0.5, 0.1], \n",
    "                                   seed=next(rm_circus.seeder))"
   ]
  },
  {
   "cell_type": "code",
   "execution_count": 13,
   "metadata": {},
   "outputs": [],
   "source": [
    "# Creamos relación rm -> rat\n",
    "\n",
    "rat_rel = rm_circus.populations[\"rm\"].create_relationship(\"rat\")\n",
    "rat_rel.add_relations(from_ids=rm.ids, to_ids=rat_gen.generate(size=rm.size))"
   ]
  },
  {
   "cell_type": "code",
   "execution_count": 14,
   "metadata": {},
   "outputs": [],
   "source": [
    "# Definimos columnas del dataset que queremos generar.\n",
    "\n",
    "rm_story.set_operations(\n",
    "    rm_circus.clock.ops.timestamp(named_as=\"time\"),\n",
    "    rm_circus.populations[\"rm\"].get_relationship(\"rat\")\n",
    "        .ops.select_one(from_field=\"rm_id\", named_as=\"rat\"),\n",
    "    rm_circus.populations[\"rm\"].ops.lookup(id_field=\"rm_id\", select={\"imei\": \"imei\"}),\n",
    "    rm_circus.populations[\"rm\"].ops.lookup(id_field=\"rm_id\", select={\"imsi\": \"imsi\"}),\n",
    "\n",
    "    operations.FieldLogger(log_id=\"rm\")\n",
    ")"
   ]
  },
  {
   "cell_type": "code",
   "execution_count": 16,
   "metadata": {
    "scrolled": true
   },
   "outputs": [
    {
     "ename": "FileNotFoundError",
     "evalue": "[Errno 2] No such file or directory: '../rm/datasets/trumania_dataset_v3/normal/rm.csv'",
     "output_type": "error",
     "traceback": [
      "\u001b[0;31m---------------------------------------------------------------------------\u001b[0m",
      "\u001b[0;31mFileNotFoundError\u001b[0m                         Traceback (most recent call last)",
      "\u001b[0;32m<ipython-input-16-fcc96f5a5d6f>\u001b[0m in \u001b[0;36m<module>\u001b[0;34m\u001b[0m\n\u001b[1;32m      8\u001b[0m \u001b[0;34m\u001b[0m\u001b[0m\n\u001b[1;32m      9\u001b[0m df = pd.read_csv(\"../rm/datasets/trumania_dataset_v3/normal/rm.csv\", \n\u001b[0;32m---> 10\u001b[0;31m                  dtype = {'rm_id':str,'time':str,'rat':str,'imei':str,'imsi':str})\n\u001b[0m\u001b[1;32m     11\u001b[0m \u001b[0;34m\u001b[0m\u001b[0m\n\u001b[1;32m     12\u001b[0m \u001b[0mdf\u001b[0m \u001b[0;34m=\u001b[0m \u001b[0mdf\u001b[0m\u001b[0;34m.\u001b[0m\u001b[0msort_values\u001b[0m\u001b[0;34m(\u001b[0m\u001b[0mby\u001b[0m\u001b[0;34m=\u001b[0m\u001b[0;34m[\u001b[0m\u001b[0;34m'time'\u001b[0m\u001b[0;34m]\u001b[0m\u001b[0;34m)\u001b[0m\u001b[0;34m.\u001b[0m\u001b[0mreset_index\u001b[0m\u001b[0;34m(\u001b[0m\u001b[0mdrop\u001b[0m\u001b[0;34m=\u001b[0m\u001b[0;32mTrue\u001b[0m\u001b[0;34m)\u001b[0m\u001b[0;34m\u001b[0m\u001b[0;34m\u001b[0m\u001b[0m\n",
      "\u001b[0;32m~/anaconda3/envs/plica/lib/python3.6/site-packages/pandas/io/parsers.py\u001b[0m in \u001b[0;36mread_csv\u001b[0;34m(filepath_or_buffer, sep, delimiter, header, names, index_col, usecols, squeeze, prefix, mangle_dupe_cols, dtype, engine, converters, true_values, false_values, skipinitialspace, skiprows, skipfooter, nrows, na_values, keep_default_na, na_filter, verbose, skip_blank_lines, parse_dates, infer_datetime_format, keep_date_col, date_parser, dayfirst, cache_dates, iterator, chunksize, compression, thousands, decimal, lineterminator, quotechar, quoting, doublequote, escapechar, comment, encoding, dialect, error_bad_lines, warn_bad_lines, delim_whitespace, low_memory, memory_map, float_precision)\u001b[0m\n\u001b[1;32m    684\u001b[0m     )\n\u001b[1;32m    685\u001b[0m \u001b[0;34m\u001b[0m\u001b[0m\n\u001b[0;32m--> 686\u001b[0;31m     \u001b[0;32mreturn\u001b[0m \u001b[0m_read\u001b[0m\u001b[0;34m(\u001b[0m\u001b[0mfilepath_or_buffer\u001b[0m\u001b[0;34m,\u001b[0m \u001b[0mkwds\u001b[0m\u001b[0;34m)\u001b[0m\u001b[0;34m\u001b[0m\u001b[0;34m\u001b[0m\u001b[0m\n\u001b[0m\u001b[1;32m    687\u001b[0m \u001b[0;34m\u001b[0m\u001b[0m\n\u001b[1;32m    688\u001b[0m \u001b[0;34m\u001b[0m\u001b[0m\n",
      "\u001b[0;32m~/anaconda3/envs/plica/lib/python3.6/site-packages/pandas/io/parsers.py\u001b[0m in \u001b[0;36m_read\u001b[0;34m(filepath_or_buffer, kwds)\u001b[0m\n\u001b[1;32m    450\u001b[0m \u001b[0;34m\u001b[0m\u001b[0m\n\u001b[1;32m    451\u001b[0m     \u001b[0;31m# Create the parser.\u001b[0m\u001b[0;34m\u001b[0m\u001b[0;34m\u001b[0m\u001b[0;34m\u001b[0m\u001b[0m\n\u001b[0;32m--> 452\u001b[0;31m     \u001b[0mparser\u001b[0m \u001b[0;34m=\u001b[0m \u001b[0mTextFileReader\u001b[0m\u001b[0;34m(\u001b[0m\u001b[0mfp_or_buf\u001b[0m\u001b[0;34m,\u001b[0m \u001b[0;34m**\u001b[0m\u001b[0mkwds\u001b[0m\u001b[0;34m)\u001b[0m\u001b[0;34m\u001b[0m\u001b[0;34m\u001b[0m\u001b[0m\n\u001b[0m\u001b[1;32m    453\u001b[0m \u001b[0;34m\u001b[0m\u001b[0m\n\u001b[1;32m    454\u001b[0m     \u001b[0;32mif\u001b[0m \u001b[0mchunksize\u001b[0m \u001b[0;32mor\u001b[0m \u001b[0miterator\u001b[0m\u001b[0;34m:\u001b[0m\u001b[0;34m\u001b[0m\u001b[0;34m\u001b[0m\u001b[0m\n",
      "\u001b[0;32m~/anaconda3/envs/plica/lib/python3.6/site-packages/pandas/io/parsers.py\u001b[0m in \u001b[0;36m__init__\u001b[0;34m(self, f, engine, **kwds)\u001b[0m\n\u001b[1;32m    944\u001b[0m             \u001b[0mself\u001b[0m\u001b[0;34m.\u001b[0m\u001b[0moptions\u001b[0m\u001b[0;34m[\u001b[0m\u001b[0;34m\"has_index_names\"\u001b[0m\u001b[0;34m]\u001b[0m \u001b[0;34m=\u001b[0m \u001b[0mkwds\u001b[0m\u001b[0;34m[\u001b[0m\u001b[0;34m\"has_index_names\"\u001b[0m\u001b[0;34m]\u001b[0m\u001b[0;34m\u001b[0m\u001b[0;34m\u001b[0m\u001b[0m\n\u001b[1;32m    945\u001b[0m \u001b[0;34m\u001b[0m\u001b[0m\n\u001b[0;32m--> 946\u001b[0;31m         \u001b[0mself\u001b[0m\u001b[0;34m.\u001b[0m\u001b[0m_make_engine\u001b[0m\u001b[0;34m(\u001b[0m\u001b[0mself\u001b[0m\u001b[0;34m.\u001b[0m\u001b[0mengine\u001b[0m\u001b[0;34m)\u001b[0m\u001b[0;34m\u001b[0m\u001b[0;34m\u001b[0m\u001b[0m\n\u001b[0m\u001b[1;32m    947\u001b[0m \u001b[0;34m\u001b[0m\u001b[0m\n\u001b[1;32m    948\u001b[0m     \u001b[0;32mdef\u001b[0m \u001b[0mclose\u001b[0m\u001b[0;34m(\u001b[0m\u001b[0mself\u001b[0m\u001b[0;34m)\u001b[0m\u001b[0;34m:\u001b[0m\u001b[0;34m\u001b[0m\u001b[0;34m\u001b[0m\u001b[0m\n",
      "\u001b[0;32m~/anaconda3/envs/plica/lib/python3.6/site-packages/pandas/io/parsers.py\u001b[0m in \u001b[0;36m_make_engine\u001b[0;34m(self, engine)\u001b[0m\n\u001b[1;32m   1176\u001b[0m     \u001b[0;32mdef\u001b[0m \u001b[0m_make_engine\u001b[0m\u001b[0;34m(\u001b[0m\u001b[0mself\u001b[0m\u001b[0;34m,\u001b[0m \u001b[0mengine\u001b[0m\u001b[0;34m=\u001b[0m\u001b[0;34m\"c\"\u001b[0m\u001b[0;34m)\u001b[0m\u001b[0;34m:\u001b[0m\u001b[0;34m\u001b[0m\u001b[0;34m\u001b[0m\u001b[0m\n\u001b[1;32m   1177\u001b[0m         \u001b[0;32mif\u001b[0m \u001b[0mengine\u001b[0m \u001b[0;34m==\u001b[0m \u001b[0;34m\"c\"\u001b[0m\u001b[0;34m:\u001b[0m\u001b[0;34m\u001b[0m\u001b[0;34m\u001b[0m\u001b[0m\n\u001b[0;32m-> 1178\u001b[0;31m             \u001b[0mself\u001b[0m\u001b[0;34m.\u001b[0m\u001b[0m_engine\u001b[0m \u001b[0;34m=\u001b[0m \u001b[0mCParserWrapper\u001b[0m\u001b[0;34m(\u001b[0m\u001b[0mself\u001b[0m\u001b[0;34m.\u001b[0m\u001b[0mf\u001b[0m\u001b[0;34m,\u001b[0m \u001b[0;34m**\u001b[0m\u001b[0mself\u001b[0m\u001b[0;34m.\u001b[0m\u001b[0moptions\u001b[0m\u001b[0;34m)\u001b[0m\u001b[0;34m\u001b[0m\u001b[0;34m\u001b[0m\u001b[0m\n\u001b[0m\u001b[1;32m   1179\u001b[0m         \u001b[0;32melse\u001b[0m\u001b[0;34m:\u001b[0m\u001b[0;34m\u001b[0m\u001b[0;34m\u001b[0m\u001b[0m\n\u001b[1;32m   1180\u001b[0m             \u001b[0;32mif\u001b[0m \u001b[0mengine\u001b[0m \u001b[0;34m==\u001b[0m \u001b[0;34m\"python\"\u001b[0m\u001b[0;34m:\u001b[0m\u001b[0;34m\u001b[0m\u001b[0;34m\u001b[0m\u001b[0m\n",
      "\u001b[0;32m~/anaconda3/envs/plica/lib/python3.6/site-packages/pandas/io/parsers.py\u001b[0m in \u001b[0;36m__init__\u001b[0;34m(self, src, **kwds)\u001b[0m\n\u001b[1;32m   2006\u001b[0m         \u001b[0mkwds\u001b[0m\u001b[0;34m[\u001b[0m\u001b[0;34m\"usecols\"\u001b[0m\u001b[0;34m]\u001b[0m \u001b[0;34m=\u001b[0m \u001b[0mself\u001b[0m\u001b[0;34m.\u001b[0m\u001b[0musecols\u001b[0m\u001b[0;34m\u001b[0m\u001b[0;34m\u001b[0m\u001b[0m\n\u001b[1;32m   2007\u001b[0m \u001b[0;34m\u001b[0m\u001b[0m\n\u001b[0;32m-> 2008\u001b[0;31m         \u001b[0mself\u001b[0m\u001b[0;34m.\u001b[0m\u001b[0m_reader\u001b[0m \u001b[0;34m=\u001b[0m \u001b[0mparsers\u001b[0m\u001b[0;34m.\u001b[0m\u001b[0mTextReader\u001b[0m\u001b[0;34m(\u001b[0m\u001b[0msrc\u001b[0m\u001b[0;34m,\u001b[0m \u001b[0;34m**\u001b[0m\u001b[0mkwds\u001b[0m\u001b[0;34m)\u001b[0m\u001b[0;34m\u001b[0m\u001b[0;34m\u001b[0m\u001b[0m\n\u001b[0m\u001b[1;32m   2009\u001b[0m         \u001b[0mself\u001b[0m\u001b[0;34m.\u001b[0m\u001b[0munnamed_cols\u001b[0m \u001b[0;34m=\u001b[0m \u001b[0mself\u001b[0m\u001b[0;34m.\u001b[0m\u001b[0m_reader\u001b[0m\u001b[0;34m.\u001b[0m\u001b[0munnamed_cols\u001b[0m\u001b[0;34m\u001b[0m\u001b[0;34m\u001b[0m\u001b[0m\n\u001b[1;32m   2010\u001b[0m \u001b[0;34m\u001b[0m\u001b[0m\n",
      "\u001b[0;32mpandas/_libs/parsers.pyx\u001b[0m in \u001b[0;36mpandas._libs.parsers.TextReader.__cinit__\u001b[0;34m()\u001b[0m\n",
      "\u001b[0;32mpandas/_libs/parsers.pyx\u001b[0m in \u001b[0;36mpandas._libs.parsers.TextReader._setup_parser_source\u001b[0;34m()\u001b[0m\n",
      "\u001b[0;31mFileNotFoundError\u001b[0m: [Errno 2] No such file or directory: '../rm/datasets/trumania_dataset_v3/normal/rm.csv'"
     ]
    }
   ],
   "source": [
    "# Generamos dataset\n",
    "\n",
    "rm_circus.run(\n",
    "    duration=pd.Timedelta(\"15 days\"),\n",
    "    log_output_folder=\"../rm/datasets/trumania_dataset_v3/rm_normal\",\n",
    "    delete_existing_logs=True\n",
    ")\n",
    "\n",
    "df = pd.read_csv(\"../rm/datasets/trumania_dataset_v3/normal/rm.csv\", \n",
    "                 dtype = {'rm_id':str,'time':str,'rat':str,'imei':str,'imsi':str})\n",
    "\n",
    "df = df.sort_values(by=['time']).reset_index(drop=True)\n",
    "df.to_csv('../rm/datasets/trumania_dataset_v3/normal/rm_normal.csv', index=False)\n",
    "\n",
    "display(df)"
   ]
  },
  {
   "cell_type": "code",
   "execution_count": null,
   "metadata": {},
   "outputs": [],
   "source": [
    "# Convertir columna en valores adecuados (cast). Comprobar tipos.\n",
    "\n",
    "df['TIME'] = pd.to_datetime(df['TIME']) # Cast string a Timestamp\n",
    "df.dtypes"
   ]
  },
  {
   "cell_type": "code",
   "execution_count": null,
   "metadata": {
    "scrolled": true
   },
   "outputs": [],
   "source": [
    "# Comprobando dataset\n",
    "\n",
    "print(\"Porcentaje de RAT en dataset:\")\n",
    "display(pd.DataFrame({'Porcentaje': df.groupby(('RAT')).size() / len(df) * 100}))\n",
    "\n",
    "# Comprobando si asignación no cambia al repetirse la entrada\n",
    "\n",
    "print('Visualzando si una entrada no varía al repetirse:')\n",
    "display(df[df['rm_ID'] == 'rm_0000000306'].sort_values('TIME'))"
   ]
  },
  {
   "cell_type": "code",
   "execution_count": null,
   "metadata": {
    "scrolled": false
   },
   "outputs": [],
   "source": [
    "df[df['rm_ID'] == 'rm_0000000306'].groupby(by=[\"IMEI\",'IMSI']).count()"
   ]
  },
  {
   "cell_type": "code",
   "execution_count": null,
   "metadata": {},
   "outputs": [],
   "source": [
    "usage_per_user = df[[\"IMSI\", \"rm_ID\"]].groupby(\"rm_ID\")[\"IMSI\"].count()\n",
    "usage_per_user.plot(kind=\"hist\")"
   ]
  },
  {
   "cell_type": "code",
   "execution_count": null,
   "metadata": {},
   "outputs": [],
   "source": [
    "time_profile = (\n",
    "    df[[\"IMEI\", \"TIME\"]]\n",
    "    .groupby(by=df.TIME.dt.hour)[\"IMEI\"]\n",
    "    .count()\n",
    ")\n",
    "time_profile.plot()"
   ]
  },
  {
   "cell_type": "markdown",
   "metadata": {},
   "source": [
    "# Generación de dataset Anómalo "
   ]
  },
  {
   "cell_type": "code",
   "execution_count": null,
   "metadata": {},
   "outputs": [],
   "source": [
    "# Creamos el circo (mundo en el que existirán todos los elementos del escenario)\n",
    "\n",
    "rm_circus = circus.Circus(name=\"rm_anom\", \n",
    "                          master_seed=12345,\n",
    "                          start=pd.Timestamp(\"25 Oct 2020 00:00\"), # Fecha de inicio.\n",
    "                          step_duration=pd.Timedelta(\"2h\"))        # Cada hora, cada historia tiene posibilidad de ejecutarse"
   ]
  },
  {
   "cell_type": "code",
   "execution_count": null,
   "metadata": {},
   "outputs": [],
   "source": [
    "# Cargando imei_dataset.json y imsi_dataset.json\n",
    "\n",
    "df_imei = pd.read_json('datasets/imei_dataset/imei_dataset.json', dtype = False)\n",
    "df_imsi = pd.read_json('datasets/imsi_dataset/imsi_dataset.json', dtype = False)"
   ]
  },
  {
   "cell_type": "code",
   "execution_count": null,
   "metadata": {},
   "outputs": [],
   "source": [
    "# Seleccionamos países no previstos (Irak, Mongolia, Chad, Somalia, Nigeria, Afganistan, Corea del Norte, Mozambique, Yemen) \n",
    "\n",
    "df_imsi = df_imsi.loc[(df_imsi['mcc'] == '418') | (df_imsi['mcc'] == '428') | (df_imsi['mcc'] == '622')\n",
    "           |(df_imsi['mcc'] == '637') | (df_imsi['mcc'] == '621') | (df_imsi['mcc'] == '412')\n",
    "           |(df_imsi['mcc'] == '467') | (df_imsi['mcc'] == '643') | (df_imsi['mcc'] == '421')]\n",
    "df_imsi"
   ]
  },
  {
   "cell_type": "code",
   "execution_count": null,
   "metadata": {},
   "outputs": [],
   "source": [
    "# Acomodamos dataset\n",
    "\n",
    "df_imei.drop(['brand','model'], axis=1, inplace=True)    # Descartamos columnas no necesarias\n",
    "\n",
    "# Borramos duplicados (drop duplicates no funciona)\n",
    "\n",
    "duplicateRowsDF = df_imei[df_imei.duplicated(['imei'])]\n",
    "print(f'Valores duplicados encontrados en df_imei:\\n {duplicateRowsDF} \\n')\n",
    "df_imei.drop([54653, 155460], inplace=True)\n",
    "duplicateRowsDF = df_imei[df_imei.duplicated(['imei'])]\n",
    "print(f'Valores borrados. Comprobacion:\\n {duplicateRowsDF} \\n')\n",
    "\n",
    "df_imei = df_imei.sample(frac=1).reset_index(drop=True)  # Aleatorizamos entradas\n",
    "df_imei = df_imei.iloc[:4900,:]                        # Seleccionamos 4900 entradas\n",
    "\n",
    "print(f'{\"-\"*50}\\n')\n",
    "\n",
    "# Borramos duplicados (drop duplicates no funciona)\n",
    "\n",
    "duplicateRowsDF = df_imsi[df_imsi.duplicated(['msin'])]\n",
    "print(f'Valores duplicados encontrados en df_imsi:\\n {duplicateRowsDF} \\n')\n",
    "#df_imsi.drop([138052,140548], inplace=True)\n",
    "#duplicateRowsDF = df_imsi[df_imsi.duplicated(['msin'])]\n",
    "#print(f'Valores borrados. Comprobacion:\\n {duplicateRowsDF}')\n",
    "\n",
    "df_imsi.drop(['mcc','mnc','msin'], axis=1, inplace=True) # Descartamos columnas no necesarias\n",
    "df_imsi = df_imsi.sample(frac=1).reset_index(drop=True)  # Aleatorizamos entradas\n",
    "\n",
    "display(df_imei)\n",
    "display(df_imsi)"
   ]
  },
  {
   "cell_type": "code",
   "execution_count": null,
   "metadata": {},
   "outputs": [],
   "source": [
    "# Generamos la población (actores del circo) y añadimos sus atributos. En este caso rm\n",
    "\n",
    "id_gen = SequencialGenerator(prefix=\"rm_\")\n",
    "\n",
    "rm_anom = rm_circus.create_population(name=\"rm_anom\", size=4900, ids_gen=id_gen)\n",
    "rm_anom.create_attribute(\"IMEI\", init_values=df_imei['imei'].explode().tolist())"
   ]
  },
  {
   "cell_type": "code",
   "execution_count": null,
   "metadata": {
    "scrolled": true
   },
   "outputs": [],
   "source": [
    "rm_anom.to_dataframe()"
   ]
  },
  {
   "cell_type": "code",
   "execution_count": null,
   "metadata": {},
   "outputs": [],
   "source": [
    "# Número de entradas en función del tiempo\n",
    "\n",
    "from trumania.core.clock import CyclicTimerGenerator, CyclicTimerProfile\n",
    "\n",
    "story_timer_anom_gen = CyclicTimerGenerator(clock=rm_circus.clock,\n",
    "                                            seed=next(rm_circus.seeder),\n",
    "                                            config=CyclicTimerProfile(\n",
    "                                                profile=[1, 10.3, 10.3, .15, .2, .4, 3.8,\n",
    "                                                         7.2, 8.4, 9.1, 9.0, 8.3, 8.1,\n",
    "                                                         7.7, 7.4, 7.8, 8.0, 7.9, 9.7,\n",
    "                                                         10.4, 10.5, 8.8, 5.7, 2.8],\n",
    "                                                profile_time_steps=\"1h\",\n",
    "                                                start_date= pd.Timestamp(\"11 Nov 2020 00:00:00\"),\n",
    "                                            )\n",
    "                                           )"
   ]
  },
  {
   "cell_type": "code",
   "execution_count": null,
   "metadata": {},
   "outputs": [],
   "source": [
    "# Creamos tres permiles de tráfico\n",
    "\n",
    "low_activity = story_timer_anom_gen.activity(n=4, per=pd.Timedelta(\"1 day\"))\n",
    "med_activity = story_timer_anom_gen.activity(n=6, per=pd.Timedelta(\"1 day\"))\n",
    "high_activity = story_timer_anom_gen.activity(n=8, per=pd.Timedelta(\"1 day\"))"
   ]
  },
  {
   "cell_type": "code",
   "execution_count": null,
   "metadata": {},
   "outputs": [],
   "source": [
    "# Asignamos a cada permil de tráfico una probabilidad. Cada entrada del dataset tendrá un permil de tráfico único.\n",
    "\n",
    "activity_gen = NumpyRandomGenerator(\n",
    "    method=\"choice\", \n",
    "    a=[low_activity, med_activity, high_activity],\n",
    "    p=[.2, .7, .1],\n",
    "    seed=next(rm_circus.seeder))"
   ]
  },
  {
   "cell_type": "code",
   "execution_count": null,
   "metadata": {},
   "outputs": [],
   "source": [
    "# Creación de la historia. Se define población y su actividad en base la tiempo\n",
    "\n",
    "rm_anom_story = rm_circus.create_story(\n",
    "    name=\"rm_anom_story\",\n",
    "    initiating_population=rm_circus.populations[\"rm_anom\"],\n",
    "    member_id_field=\"rm_ID\",\n",
    "    \n",
    "    timer_gen=story_timer_anom_gen,\n",
    "    activity_gen=activity_gen\n",
    ")"
   ]
  },
  {
   "cell_type": "code",
   "execution_count": null,
   "metadata": {},
   "outputs": [],
   "source": [
    "imsi_rel = rm_circus.populations[\"rm_anom\"].create_relationship(\"imsi\")"
   ]
  },
  {
   "cell_type": "code",
   "execution_count": null,
   "metadata": {},
   "outputs": [],
   "source": [
    "# Generamos entrada imsi y asignamos probabilidad.\n",
    "\n",
    "imsi_gen = NumpyRandomGenerator(method=\"choice\", \n",
    "                                   a=df_imsi['imsi'], \n",
    "                                   seed=next(rm_circus.seeder))"
   ]
  },
  {
   "cell_type": "code",
   "execution_count": null,
   "metadata": {},
   "outputs": [],
   "source": [
    "for w in range(1,3):\n",
    "    imsi_rel.add_relations(\n",
    "        from_ids=rm_anom.ids,\n",
    "        to_ids=imsi_gen.generate(size=rm_anom.size),\n",
    "        weights=w\n",
    "    )"
   ]
  },
  {
   "cell_type": "code",
   "execution_count": null,
   "metadata": {},
   "outputs": [],
   "source": [
    "# Generamos entrada rat y asignamos probabilidad.\n",
    "\n",
    "rat_gen = NumpyRandomGenerator(method=\"choice\", \n",
    "                                   a=['2G','3G','4G','5G'], \n",
    "                                   p=[0.1, 0.3, 0.5, 0.1], \n",
    "                                   seed=next(rm_circus.seeder))"
   ]
  },
  {
   "cell_type": "code",
   "execution_count": null,
   "metadata": {},
   "outputs": [],
   "source": [
    "# Creamos relación rm -> rat\n",
    "\n",
    "rat_rel = rm_circus.populations[\"rm_anom\"].create_relationship(\"rat\")\n",
    "rat_rel.add_relations(from_ids=rm_anom.ids, to_ids=rat_gen.generate(size=rm_anom.size))"
   ]
  },
  {
   "cell_type": "code",
   "execution_count": null,
   "metadata": {},
   "outputs": [],
   "source": [
    "# Definimos columnas del dataset que queremos generar.\n",
    "\n",
    "rm_anom_story.set_operations(\n",
    "    rm_circus.clock.ops.timestamp(named_as=\"TIME\"),\n",
    "    rm_circus.populations[\"rm_anom\"].get_relationship(\"rat\")\n",
    "        .ops.select_one(from_field=\"rm_ID\", named_as=\"RAT\"),\n",
    "    rm_circus.populations[\"rm_anom\"].get_relationship(\"imsi\")\n",
    "        .ops.select_one(from_field=\"rm_ID\", named_as=\"IMSI\"),\n",
    "    rm_circus.populations[\"rm_anom\"].ops.lookup(id_field=\"rm_ID\", select={\"IMEI\": \"IMEI\"}),\n",
    "\n",
    "    operations.FieldLogger(log_id=\"rm_anom\")\n",
    ")"
   ]
  },
  {
   "cell_type": "code",
   "execution_count": null,
   "metadata": {},
   "outputs": [],
   "source": [
    "# Generamos dataset\n",
    "\n",
    "rm_circus.run(\n",
    "    duration=pd.Timedelta(\"15 days\"),\n",
    "    log_output_folder=\"datasets/trumania_dataset/anomaly\",\n",
    "    delete_existing_logs=True\n",
    ")\n",
    "\n",
    "df = pd.read_csv(\"datasets/trumania_dataset/anomaly/rm_anom.csv\", \n",
    "                 dtype = {'rm_ID':str,'TIME':str,'RAT':str,'IMEI':str,'IMSI':str})\n",
    "\n",
    "df = df.sort_values(by=['TIME']).reset_index(drop=True)\n",
    "df.to_csv('datasets/trumania_dataset/anomaly/rm_anom.csv', index=False)\n",
    "\n",
    "display(df)"
   ]
  },
  {
   "cell_type": "code",
   "execution_count": null,
   "metadata": {},
   "outputs": [],
   "source": [
    "# Convertir columna en valores adecuados (cast). Comprobar tipos.\n",
    "\n",
    "df['TIME'] = pd.to_datetime(df['TIME']) # Cast string a Timestamp\n",
    "df.dtypes"
   ]
  },
  {
   "cell_type": "code",
   "execution_count": null,
   "metadata": {},
   "outputs": [],
   "source": [
    "# Comprobando dataset\n",
    "\n",
    "print(\"Porcentaje de RAT en dataset:\")\n",
    "display(pd.DataFrame({'Porcentaje': df.groupby(('RAT')).size() / len(df) * 100}))\n",
    "\n",
    "# Comprobando si asignación no cambia al repetirse la entrada\n",
    "\n",
    "print('Visualzando una entrada:')\n",
    "display(df[df['rm_ID'] == 'rm_0000000306'].sort_values('TIME'))"
   ]
  },
  {
   "cell_type": "code",
   "execution_count": null,
   "metadata": {
    "scrolled": true
   },
   "outputs": [],
   "source": [
    "df[df['rm_ID'] == 'rm_0000000306'].groupby(by=[\"IMEI\",'IMSI']).count()"
   ]
  },
  {
   "cell_type": "code",
   "execution_count": null,
   "metadata": {
    "scrolled": true
   },
   "outputs": [],
   "source": [
    "usage_per_user = df[[\"IMSI\", \"rm_ID\"]].groupby(\"rm_ID\")[\"IMSI\"].count()\n",
    "usage_per_user.plot(kind=\"hist\")"
   ]
  },
  {
   "cell_type": "code",
   "execution_count": null,
   "metadata": {
    "scrolled": true
   },
   "outputs": [],
   "source": [
    "time_profile = (\n",
    "    df[[\"IMEI\", \"TIME\"]]\n",
    "    .groupby(by=df.TIME.dt.hour)[\"IMEI\"]\n",
    "    .count()\n",
    ")\n",
    "time_profile.plot()"
   ]
  },
  {
   "cell_type": "code",
   "execution_count": null,
   "metadata": {},
   "outputs": [],
   "source": []
  }
 ],
 "metadata": {
  "kernelspec": {
   "display_name": "Python 3",
   "language": "python",
   "name": "python3"
  },
  "language_info": {
   "codemirror_mode": {
    "name": "ipython",
    "version": 3
   },
   "file_extension": ".py",
   "mimetype": "text/x-python",
   "name": "python",
   "nbconvert_exporter": "python",
   "pygments_lexer": "ipython3",
   "version": "3.6.12"
  }
 },
 "nbformat": 4,
 "nbformat_minor": 4
}
