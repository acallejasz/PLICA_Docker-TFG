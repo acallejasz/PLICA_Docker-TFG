{
 "cells": [
  {
   "cell_type": "code",
   "execution_count": 1,
   "metadata": {},
   "outputs": [],
   "source": [
    "#Este es el script en el que se maneja el envio de eventos kafka\n",
    "#Se crea un producer de kafka y se obtienen datos para enviar\n",
    "\n",
    "\"\"\"\n",
    "FUNCIONAL\n",
    "\"\"\"\n",
    "# kafka/bin/zookeeper-server-start.sh kafka/config/zookeeper.properties\n",
    "# kafka/bin/kafka-server-start.sh kafka/config/server.properties\n",
    "# kafka/bin/kafka-topics.sh --create --zookeeper localhost:2181 --replication-factor 1 --partitions 1 --topic WF\n",
    "\n",
    "# kafka/bin/kafka-topics.sh --delete --zookeeper localhost:2181 --topic WF\n",
    " \n",
    "# kafka/bin/kafka-topics.sh --list --zookeeper localhost:2181\n",
    "# kafka/bin/kafka-console-consumer.sh --bootstrap-server 192.168.1.101:9092 --topic WF --from-beginning\n",
    "\n",
    "# ./elasticsearch/bin/elasticsearch\n",
    "# ./kibana/bin/kibana\n",
    "# curl -XDELETE 'http://localhost:9200/wf*'\n",
    "\n",
    "import findspark\n",
    "findspark.init()\n",
    "\n",
    "import time\n",
    "\n",
    "from pyspark.context import SparkContext\n",
    "from pyspark.sql.session import SparkSession\n",
    "from pyspark.sql.functions import *\n",
    "from pyspark.sql.types import *\n",
    "\n",
    "from kafka import KafkaProducer, TopicPartition\n",
    "import uuid"
   ]
  },
  {
   "cell_type": "code",
   "execution_count": 2,
   "metadata": {},
   "outputs": [],
   "source": [
    "#Se crea una sescion de spark\n",
    "#Importante tras ejecucion hacer sc.stop()\n",
    "\n",
    "sc = SparkContext('local')\n",
    "spark = SparkSession(sc)"
   ]
  },
  {
   "cell_type": "code",
   "execution_count": 3,
   "metadata": {},
   "outputs": [],
   "source": [
    "base_path='../../'"
   ]
  },
  {
   "cell_type": "code",
   "execution_count": 4,
   "metadata": {},
   "outputs": [],
   "source": [
    "# Estrucutra del dataset \n",
    "\n",
    "schema = StructType([\n",
    "    StructField('userid', StringType(), True),\n",
    "    StructField('minact', IntegerType(), True),\n",
    "    StructField('tseen', IntegerType(), True),\n",
    "    StructField('tacum', IntegerType(), True),    \n",
    "    StructField('visits', IntegerType(), True),\n",
    "    StructField('act24h', IntegerType(), True),\n",
    "    StructField('pwr', IntegerType(), True),\n",
    "    StructField('footprint', StringType(), True),\n",
    "    StructField('oui', StringType(), True),\n",
    "    StructField('type', StringType(), True),\n",
    "    StructField('tx_packets', IntegerType(), True),\n",
    "    StructField('tx_bytes', IntegerType(), True),\n",
    "    StructField('rx_packets', IntegerType(), True),\n",
    "    StructField('rx_bytes', IntegerType(), True),\n",
    "    StructField('ap', StringType(), True),\n",
    "    StructField('essid', StringType(), True),\n",
    "    StructField('apwr', IntegerType(), True),\n",
    "    StructField('timestamp', DoubleType(), True)\n",
    "])"
   ]
  },
  {
   "cell_type": "code",
   "execution_count": 5,
   "metadata": {},
   "outputs": [],
   "source": [
    "df = spark.read.schema(schema).option(\"mode\", \"DROPMALFORMED\").load(f'{base_path}datasets/dataset_wifi_v2.csv',\\\n",
    "                     format=\"csv\", sep=\",\", inferSchema=\"False\", header=\"true\")"
   ]
  },
  {
   "cell_type": "code",
   "execution_count": 6,
   "metadata": {},
   "outputs": [],
   "source": [
    "# Añadimos metadatos para simular eventos del sensor\n",
    "\n",
    "df = df.withColumn('data', struct(col('*')))\n",
    "df = df.withColumn('version', lit('1.0'))\n",
    "df = df.withColumn('id' , lit('f0c48ba4-387d-11ea-a137-2e728ce88126'))\n",
    "df = df.withColumn('type', lit('WF'))\n",
    "df = df.withColumn('event', lit('DATA'))"
   ]
  },
  {
   "cell_type": "code",
   "execution_count": 7,
   "metadata": {},
   "outputs": [
    {
     "name": "stdout",
     "output_type": "stream",
     "text": [
      "{\"version\":\"1.0\",\"time\":\"1615368460\",\"id\":\"f0c48ba4-387d-11ea-a137-2e728ce88126\",\"type\":\"WF\",\"event\":\"DATA\",\"data\":{\"userid\":\"DA:A1:19:0C:9E:51\",\"minact\":1,\"tseen\":300,\"tacum\":300,\"visits\":1,\"act24h\":1,\"pwr\":-1,\"footprint\":\"05:4C:AE:1D:AA:32\",\"oui\":\"google\",\"type\":\"CID\",\"tx_packets\":1,\"tx_bytes\":83,\"rx_packets\":0,\"rx_bytes\":0,\"ap\":\"unknown\",\"essid\":\"unknown\",\"apwr\":-1,\"timestamp\":1.61253E9}}\n",
      "{\"version\":\"1.0\",\"time\":\"1615368460\",\"id\":\"f0c48ba4-387d-11ea-a137-2e728ce88126\",\"type\":\"WF\",\"event\":\"DATA\",\"data\":{\"userid\":\"04:1E:64:EF:56:D2\",\"minact\":1,\"tseen\":240,\"tacum\":3220,\"visits\":11,\"act24h\":1,\"pwr\":-1,\"footprint\":\"01:08:81:32:04:44\",\"oui\":\"apple\",\"type\":\"MAL\",\"tx_packets\":1,\"tx_bytes\":55,\"rx_packets\":0,\"rx_bytes\":0,\"ap\":\"unknown\",\"essid\":\"unknown\",\"apwr\":-1,\"timestamp\":1.6124814E9}}\n",
      "{\"version\":\"1.0\",\"time\":\"1615368460\",\"id\":\"f0c48ba4-387d-11ea-a137-2e728ce88126\",\"type\":\"WF\",\"event\":\"DATA\",\"data\":{\"userid\":\"F6:37:D5:26:A5:7F\",\"minact\":1,\"tseen\":100,\"tacum\":100,\"visits\":1,\"act24h\":1,\"pwr\":-86,\"footprint\":\"0C:05:54:4C:8B:1D\",\"oui\":\"unknown\",\"type\":\"LMA\",\"tx_packets\":4,\"tx_bytes\":448,\"rx_packets\":0,\"rx_bytes\":0,\"ap\":\"unknown\",\"essid\":\"unknown\",\"apwr\":-1,\"timestamp\":1.6125165E9}}\n",
      "{\"version\":\"1.0\",\"time\":\"1615368460\",\"id\":\"f0c48ba4-387d-11ea-a137-2e728ce88126\",\"type\":\"WF\",\"event\":\"DATA\",\"data\":{\"userid\":\"66:4D:29:37:66:9C\",\"minact\":1,\"tseen\":300,\"tacum\":300,\"visits\":1,\"act24h\":1,\"pwr\":-1,\"footprint\":\"04:05:54:4C:8B:9E\",\"oui\":\"unknown\",\"type\":\"LMA\",\"tx_packets\":2,\"tx_bytes\":166,\"rx_packets\":0,\"rx_bytes\":0,\"ap\":\"unknown\",\"essid\":\"unknown\",\"apwr\":-1,\"timestamp\":1.6126137E9}}\n",
      "{\"version\":\"1.0\",\"time\":\"1615368460\",\"id\":\"f0c48ba4-387d-11ea-a137-2e728ce88126\",\"type\":\"WF\",\"event\":\"DATA\",\"data\":{\"userid\":\"F6:05:E8:9A:C8:21\",\"minact\":1,\"tseen\":210,\"tacum\":210,\"visits\":1,\"act24h\":1,\"pwr\":-1,\"footprint\":\"08:05:54:4C:8B:1D\",\"oui\":\"unknown\",\"type\":\"LMA\",\"tx_packets\":2,\"tx_bytes\":176,\"rx_packets\":0,\"rx_bytes\":0,\"ap\":\"unknown\",\"essid\":\"unknown\",\"apwr\":-1,\"timestamp\":1.612539E9}}\n",
      "{\"version\":\"1.0\",\"time\":\"1615368460\",\"id\":\"f0c48ba4-387d-11ea-a137-2e728ce88126\",\"type\":\"WF\",\"event\":\"DATA\",\"data\":{\"userid\":\"A2:C4:49:89:D2:E1\",\"minact\":1,\"tseen\":300,\"tacum\":300,\"visits\":1,\"act24h\":1,\"pwr\":-1,\"footprint\":\"2B:0D:34:52:C5:D7\",\"oui\":\"unknown\",\"type\":\"LMA\",\"tx_packets\":1,\"tx_bytes\":174,\"rx_packets\":0,\"rx_bytes\":0,\"ap\":\"unknown\",\"essid\":\"unknown\",\"apwr\":-1,\"timestamp\":1.6123482E9}}\n",
      "{\"version\":\"1.0\",\"time\":\"1615368460\",\"id\":\"f0c48ba4-387d-11ea-a137-2e728ce88126\",\"type\":\"WF\",\"event\":\"DATA\",\"data\":{\"userid\":\"B8:27:EB:92:4D:BB\",\"minact\":1,\"tseen\":900,\"tacum\":81000,\"visits\":1,\"act24h\":96,\"pwr\":-21,\"footprint\":\"90:BF:C5:A6:6E:2E\",\"oui\":\"raspberry\",\"type\":\"MAL\",\"tx_packets\":62,\"tx_bytes\":14260,\"rx_packets\":0,\"rx_bytes\":0,\"ap\":\"unknown\",\"essid\":\"unknown\",\"apwr\":-1,\"timestamp\":1.6125876E9}}\n",
      "{\"version\":\"1.0\",\"time\":\"1615368460\",\"id\":\"f0c48ba4-387d-11ea-a137-2e728ce88126\",\"type\":\"WF\",\"event\":\"DATA\",\"data\":{\"userid\":\"B8:76:3F:53:16:D9\",\"minact\":1,\"tseen\":470,\"tacum\":23240,\"visits\":28,\"act24h\":96,\"pwr\":-1,\"footprint\":\"01:08:81:32:04:44\",\"oui\":\"hon-hai\",\"type\":\"MAL\",\"tx_packets\":3,\"tx_bytes\":210,\"rx_packets\":0,\"rx_bytes\":0,\"ap\":\"unknown\",\"essid\":\"unknown\",\"apwr\":-1,\"timestamp\":1.6124634E9}}\n",
      "{\"version\":\"1.0\",\"time\":\"1615368460\",\"id\":\"f0c48ba4-387d-11ea-a137-2e728ce88126\",\"type\":\"WF\",\"event\":\"DATA\",\"data\":{\"userid\":\"DE:AE:C6:47:AA:38\",\"minact\":1,\"tseen\":200,\"tacum\":200,\"visits\":1,\"act24h\":1,\"pwr\":-76,\"footprint\":\"0C:C8:BA:EB:8B:C3\",\"oui\":\"unknown\",\"type\":\"LMA\",\"tx_packets\":2,\"tx_bytes\":212,\"rx_packets\":0,\"rx_bytes\":0,\"ap\":\"unknown\",\"essid\":\"unknown\",\"apwr\":-1,\"timestamp\":1.6125057E9}}\n",
      "{\"version\":\"1.0\",\"time\":\"1615368460\",\"id\":\"f0c48ba4-387d-11ea-a137-2e728ce88126\",\"type\":\"WF\",\"event\":\"DATA\",\"data\":{\"userid\":\"00:0C:E7:3A:72:46\",\"minact\":1,\"tseen\":300,\"tacum\":300,\"visits\":1,\"act24h\":1,\"pwr\":-1,\"footprint\":\"DE:0F:DC:32:04:44\",\"oui\":\"mediatek\",\"type\":\"MAL\",\"tx_packets\":1,\"tx_bytes\":54,\"rx_packets\":0,\"rx_bytes\":0,\"ap\":\"unknown\",\"essid\":\"unknown\",\"apwr\":-1,\"timestamp\":1.6125246E9}}\n",
      "{\"version\":\"1.0\",\"time\":\"1615368460\",\"id\":\"f0c48ba4-387d-11ea-a137-2e728ce88126\",\"type\":\"WF\",\"event\":\"DATA\",\"data\":{\"userid\":\"B8:27:EB:D8:29:BD\",\"minact\":1,\"tseen\":900,\"tacum\":11360,\"visits\":1,\"act24h\":96,\"pwr\":-35,\"footprint\":\"6D:86:31:5D:CB:7B\",\"oui\":\"raspberry\",\"type\":\"MAL\",\"tx_packets\":356,\"tx_bytes\":74760,\"rx_packets\":0,\"rx_bytes\":0,\"ap\":\"unknown\",\"essid\":\"unknown\",\"apwr\":-1,\"timestamp\":1.6125183E9}}\n",
      "{\"version\":\"1.0\",\"time\":\"1615368460\",\"id\":\"f0c48ba4-387d-11ea-a137-2e728ce88126\",\"type\":\"WF\",\"event\":\"DATA\",\"data\":{\"userid\":\"6E:34:A1:B9:41:4F\",\"minact\":1,\"tseen\":300,\"tacum\":300,\"visits\":1,\"act24h\":1,\"pwr\":-1,\"footprint\":\"0C:C8:BA:EB:8B:C3\",\"oui\":\"unknown\",\"type\":\"LMA\",\"tx_packets\":1,\"tx_bytes\":106,\"rx_packets\":0,\"rx_bytes\":0,\"ap\":\"unknown\",\"essid\":\"unknown\",\"apwr\":-1,\"timestamp\":1.6123536E9}}\n",
      "{\"version\":\"1.0\",\"time\":\"1615368460\",\"id\":\"f0c48ba4-387d-11ea-a137-2e728ce88126\",\"type\":\"WF\",\"event\":\"DATA\",\"data\":{\"userid\":\"B8:76:3F:53:16:D9\",\"minact\":1,\"tseen\":330,\"tacum\":26020,\"visits\":18,\"act24h\":96,\"pwr\":-88,\"footprint\":\"01:08:81:32:04:44\",\"oui\":\"hon-hai\",\"type\":\"MAL\",\"tx_packets\":3,\"tx_bytes\":210,\"rx_packets\":0,\"rx_bytes\":0,\"ap\":\"unknown\",\"essid\":\"unknown\",\"apwr\":-1,\"timestamp\":1.6125444E9}}\n",
      "{\"version\":\"1.0\",\"time\":\"1615368460\",\"id\":\"f0c48ba4-387d-11ea-a137-2e728ce88126\",\"type\":\"WF\",\"event\":\"DATA\",\"data\":{\"userid\":\"B8:27:EB:92:4D:BB\",\"minact\":1,\"tseen\":900,\"tacum\":17840,\"visits\":1,\"act24h\":20,\"pwr\":-20,\"footprint\":\"90:BF:C5:A4:6E:2E\",\"oui\":\"raspberry\",\"type\":\"MAL\",\"tx_packets\":62,\"tx_bytes\":14260,\"rx_packets\":0,\"rx_bytes\":0,\"ap\":\"unknown\",\"essid\":\"unknown\",\"apwr\":-1,\"timestamp\":1.6122816E9}}\n",
      "{\"version\":\"1.0\",\"time\":\"1615368460\",\"id\":\"f0c48ba4-387d-11ea-a137-2e728ce88126\",\"type\":\"WF\",\"event\":\"DATA\",\"data\":{\"userid\":\"04:1E:64:EF:56:D2\",\"minact\":1,\"tseen\":110,\"tacum\":5490,\"visits\":19,\"act24h\":1,\"pwr\":-85,\"footprint\":\"01:08:81:32:04:44\",\"oui\":\"apple\",\"type\":\"MAL\",\"tx_packets\":2,\"tx_bytes\":110,\"rx_packets\":0,\"rx_bytes\":0,\"ap\":\"unknown\",\"essid\":\"unknown\",\"apwr\":-1,\"timestamp\":1.6124121E9}}\n",
      "{\"version\":\"1.0\",\"time\":\"1615368460\",\"id\":\"f0c48ba4-387d-11ea-a137-2e728ce88126\",\"type\":\"WF\",\"event\":\"DATA\",\"data\":{\"userid\":\"6E:AA:45:E2:63:F2\",\"minact\":1,\"tseen\":300,\"tacum\":600,\"visits\":2,\"act24h\":2,\"pwr\":-1,\"footprint\":\"69:E2:5F:64:68:25\",\"oui\":\"unknown\",\"type\":\"LMA\",\"tx_packets\":1,\"tx_bytes\":125,\"rx_packets\":0,\"rx_bytes\":0,\"ap\":\"unknown\",\"essid\":\"unknown\",\"apwr\":-1,\"timestamp\":1.6126074E9}}\n",
      "{\"version\":\"1.0\",\"time\":\"1615368460\",\"id\":\"f0c48ba4-387d-11ea-a137-2e728ce88126\",\"type\":\"WF\",\"event\":\"DATA\",\"data\":{\"userid\":\"18:5E:0F:2C:2B:35\",\"minact\":1,\"tseen\":140,\"tacum\":140,\"visits\":1,\"act24h\":1,\"pwr\":-88,\"footprint\":\"18:5E:0F:2C:2B:35\",\"oui\":\"intel\",\"type\":\"MAL\",\"tx_packets\":1,\"tx_bytes\":33,\"rx_packets\":3,\"rx_bytes\":1104,\"ap\":\"54:A2:74:D3:E2:F1\",\"essid\":\"eduroam\",\"apwr\":-74,\"timestamp\":1.6126074E9}}\n",
      "{\"version\":\"1.0\",\"time\":\"1615368460\",\"id\":\"f0c48ba4-387d-11ea-a137-2e728ce88126\",\"type\":\"WF\",\"event\":\"DATA\",\"data\":{\"userid\":\"F2:2D:CA:9D:D9:D7\",\"minact\":1,\"tseen\":130,\"tacum\":130,\"visits\":1,\"act24h\":1,\"pwr\":-82,\"footprint\":\"1A:5A:34:30:86:B9\",\"oui\":\"unknown\",\"type\":\"LMA\",\"tx_packets\":1,\"tx_bytes\":135,\"rx_packets\":0,\"rx_bytes\":0,\"ap\":\"unknown\",\"essid\":\"unknown\",\"apwr\":-1,\"timestamp\":1.6124427E9}}\n",
      "{\"version\":\"1.0\",\"time\":\"1615368460\",\"id\":\"f0c48ba4-387d-11ea-a137-2e728ce88126\",\"type\":\"WF\",\"event\":\"DATA\",\"data\":{\"userid\":\"36:98:EB:B6:91:1D\",\"minact\":1,\"tseen\":540,\"tacum\":890,\"visits\":2,\"act24h\":1,\"pwr\":-1,\"footprint\":\"E9:0B:CB:29:9A:35\",\"oui\":\"unknown\",\"type\":\"LMA\",\"tx_packets\":6,\"tx_bytes\":924,\"rx_packets\":0,\"rx_bytes\":0,\"ap\":\"54:A2:74:D3:E2:F1\",\"essid\":\"eduroam\",\"apwr\":-74,\"timestamp\":1.612377E9}}\n",
      "{\"version\":\"1.0\",\"time\":\"1615368460\",\"id\":\"f0c48ba4-387d-11ea-a137-2e728ce88126\",\"type\":\"WF\",\"event\":\"DATA\",\"data\":{\"userid\":\"FA:7B:18:06:59:FB\",\"minact\":1,\"tseen\":300,\"tacum\":300,\"visits\":1,\"act24h\":1,\"pwr\":-1,\"footprint\":\"54:A2:74:D3:E2:F1\",\"oui\":\"unknown\",\"type\":\"LMA\",\"tx_packets\":0,\"tx_bytes\":0,\"rx_packets\":2,\"rx_bytes\":266,\"ap\":\"54:A2:74:D3:E2:F1\",\"essid\":\"eduroam\",\"apwr\":-73,\"timestamp\":1.6122699E9}}\n",
      "{\"version\":\"1.0\",\"time\":\"1615368460\",\"id\":\"f0c48ba4-387d-11ea-a137-2e728ce88126\",\"type\":\"WF\",\"event\":\"DATA\",\"data\":{\"userid\":\"B8:76:3F:53:16:D9\",\"minact\":1,\"tseen\":830,\"tacum\":23510,\"visits\":16,\"act24h\":96,\"pwr\":-74,\"footprint\":\"01:08:81:32:04:44\",\"oui\":\"hon-hai\",\"type\":\"MAL\",\"tx_packets\":7,\"tx_bytes\":490,\"rx_packets\":0,\"rx_bytes\":0,\"ap\":\"unknown\",\"essid\":\"unknown\",\"apwr\":-1,\"timestamp\":1.6125408E9}}\n",
      "{\"version\":\"1.0\",\"time\":\"1615368460\",\"id\":\"f0c48ba4-387d-11ea-a137-2e728ce88126\",\"type\":\"WF\",\"event\":\"DATA\",\"data\":{\"userid\":\"F0:03:8C:DF:33:23\",\"minact\":1,\"tseen\":90,\"tacum\":5250,\"visits\":7,\"act24h\":8,\"pwr\":-89,\"footprint\":\"2E:1E:F7:32:08:9E\",\"oui\":\"azure\",\"type\":\"MAL\",\"tx_packets\":2,\"tx_bytes\":168,\"rx_packets\":0,\"rx_bytes\":0,\"ap\":\"unknown\",\"essid\":\"unknown\",\"apwr\":-1,\"timestamp\":1.6122753E9}}\n",
      "{\"version\":\"1.0\",\"time\":\"1615368460\",\"id\":\"f0c48ba4-387d-11ea-a137-2e728ce88126\",\"type\":\"WF\",\"event\":\"DATA\",\"data\":{\"userid\":\"04:B1:67:49:AF:BE\",\"minact\":1,\"tseen\":230,\"tacum\":230,\"visits\":1,\"act24h\":2,\"pwr\":-64,\"footprint\":\"04:B1:67:49:AF:BE\",\"oui\":\"xiaomi\",\"type\":\"MAL\",\"tx_packets\":3,\"tx_bytes\":230,\"rx_packets\":3,\"rx_bytes\":2598,\"ap\":\"54:A2:74:E3:DA:61\",\"essid\":\"eduroam\",\"apwr\":-45,\"timestamp\":1.6123347E9}}\n",
      "{\"version\":\"1.0\",\"time\":\"1615368460\",\"id\":\"f0c48ba4-387d-11ea-a137-2e728ce88126\",\"type\":\"WF\",\"event\":\"DATA\",\"data\":{\"userid\":\"DA:A1:19:87:4E:55\",\"minact\":1,\"tseen\":620,\"tacum\":620,\"visits\":1,\"act24h\":1,\"pwr\":-1,\"footprint\":\"05:4C:AE:1D:9C:32\",\"oui\":\"google\",\"type\":\"CID\",\"tx_packets\":3,\"tx_bytes\":211,\"rx_packets\":0,\"rx_bytes\":0,\"ap\":\"unknown\",\"essid\":\"unknown\",\"apwr\":-1,\"timestamp\":1.6124229E9}}\n",
      "{\"version\":\"1.0\",\"time\":\"1615368460\",\"id\":\"f0c48ba4-387d-11ea-a137-2e728ce88126\",\"type\":\"WF\",\"event\":\"DATA\",\"data\":{\"userid\":\"94:E9:79:90:5B:25\",\"minact\":1,\"tseen\":580,\"tacum\":580,\"visits\":1,\"act24h\":1,\"pwr\":-1,\"footprint\":\"2E:22:B7:78:09:77\",\"oui\":\"liteon\",\"type\":\"MAL\",\"tx_packets\":3,\"tx_bytes\":285,\"rx_packets\":0,\"rx_bytes\":0,\"ap\":\"unknown\",\"essid\":\"unknown\",\"apwr\":-1,\"timestamp\":1.6124436E9}}\n",
      "{\"version\":\"1.0\",\"time\":\"1615368460\",\"id\":\"f0c48ba4-387d-11ea-a137-2e728ce88126\",\"type\":\"WF\",\"event\":\"DATA\",\"data\":{\"userid\":\"D4:38:9C:70:BB:85\",\"minact\":1,\"tseen\":290,\"tacum\":290,\"visits\":1,\"act24h\":1,\"pwr\":-1,\"footprint\":\"DE:0F:DE:32:04:44\",\"oui\":\"sony\",\"type\":\"MAL\",\"tx_packets\":4,\"tx_bytes\":216,\"rx_packets\":0,\"rx_bytes\":0,\"ap\":\"unknown\",\"essid\":\"unknown\",\"apwr\":-1,\"timestamp\":1.6124436E9}}\n",
      "{\"version\":\"1.0\",\"time\":\"1615368460\",\"id\":\"f0c48ba4-387d-11ea-a137-2e728ce88126\",\"type\":\"WF\",\"event\":\"DATA\",\"data\":{\"userid\":\"A2:4A:7D:B1:A7:74\",\"minact\":1,\"tseen\":300,\"tacum\":300,\"visits\":1,\"act24h\":1,\"pwr\":-1,\"footprint\":\"0C:05:54:4C:8B:1D\",\"oui\":\"unknown\",\"type\":\"LMA\",\"tx_packets\":1,\"tx_bytes\":92,\"rx_packets\":0,\"rx_bytes\":0,\"ap\":\"unknown\",\"essid\":\"unknown\",\"apwr\":-1,\"timestamp\":1.6124382E9}}\n",
      "{\"version\":\"1.0\",\"time\":\"1615368460\",\"id\":\"f0c48ba4-387d-11ea-a137-2e728ce88126\",\"type\":\"WF\",\"event\":\"DATA\",\"data\":{\"userid\":\"E2:B0:2B:2A:21:EF\",\"minact\":1,\"tseen\":300,\"tacum\":300,\"visits\":1,\"act24h\":1,\"pwr\":-1,\"footprint\":\"79:C4:60:1A:67:24\",\"oui\":\"unknown\",\"type\":\"LMA\",\"tx_packets\":1,\"tx_bytes\":112,\"rx_packets\":0,\"rx_bytes\":0,\"ap\":\"unknown\",\"essid\":\"unknown\",\"apwr\":-1,\"timestamp\":1.6124265E9}}\n",
      "{\"version\":\"1.0\",\"time\":\"1615368460\",\"id\":\"f0c48ba4-387d-11ea-a137-2e728ce88126\",\"type\":\"WF\",\"event\":\"DATA\",\"data\":{\"userid\":\"B8:27:EB:92:4D:BB\",\"minact\":1,\"tseen\":900,\"tacum\":36900,\"visits\":1,\"act24h\":96,\"pwr\":-27,\"footprint\":\"90:BF:C5:CD:6E:2E\",\"oui\":\"raspberry\",\"type\":\"MAL\",\"tx_packets\":80,\"tx_bytes\":18400,\"rx_packets\":0,\"rx_bytes\":0,\"ap\":\"unknown\",\"essid\":\"unknown\",\"apwr\":-1,\"timestamp\":1.6124571E9}}\n",
      "{\"version\":\"1.0\",\"time\":\"1615368460\",\"id\":\"f0c48ba4-387d-11ea-a137-2e728ce88126\",\"type\":\"WF\",\"event\":\"DATA\",\"data\":{\"userid\":\"D6:07:F2:26:36:C1\",\"minact\":1,\"tseen\":130,\"tacum\":130,\"visits\":1,\"act24h\":1,\"pwr\":-90,\"footprint\":\"04:05:54:4C:8B:9E\",\"oui\":\"unknown\",\"type\":\"LMA\",\"tx_packets\":2,\"tx_bytes\":166,\"rx_packets\":0,\"rx_bytes\":0,\"ap\":\"unknown\",\"essid\":\"unknown\",\"apwr\":-1,\"timestamp\":1.6124571E9}}\n",
      "{\"version\":\"1.0\",\"time\":\"1615368460\",\"id\":\"f0c48ba4-387d-11ea-a137-2e728ce88126\",\"type\":\"WF\",\"event\":\"DATA\",\"data\":{\"userid\":\"30:D6:C9:C1:88:13\",\"minact\":1,\"tseen\":830,\"tacum\":4420,\"visits\":1,\"act24h\":7,\"pwr\":-83,\"footprint\":\"37:48:70:35:09:7B\",\"oui\":\"samsung\",\"type\":\"MAL\",\"tx_packets\":9,\"tx_bytes\":1044,\"rx_packets\":0,\"rx_bytes\":0,\"ap\":\"unknown\",\"essid\":\"unknown\",\"apwr\":-1,\"timestamp\":1.6125111E9}}\n",
      "{\"version\":\"1.0\",\"time\":\"1615368460\",\"id\":\"f0c48ba4-387d-11ea-a137-2e728ce88126\",\"type\":\"WF\",\"event\":\"DATA\",\"data\":{\"userid\":\"00:E0:4C:27:7E:16\",\"minact\":1,\"tseen\":300,\"tacum\":600,\"visits\":2,\"act24h\":1,\"pwr\":-1,\"footprint\":\"2E:22:2D:78:09:77\",\"oui\":\"realtek\",\"type\":\"MAL\",\"tx_packets\":2,\"tx_bytes\":176,\"rx_packets\":0,\"rx_bytes\":0,\"ap\":\"unknown\",\"essid\":\"unknown\",\"apwr\":-1,\"timestamp\":1.6125372E9}}\n",
      "{\"version\":\"1.0\",\"time\":\"1615368460\",\"id\":\"f0c48ba4-387d-11ea-a137-2e728ce88126\",\"type\":\"WF\",\"event\":\"DATA\",\"data\":{\"userid\":\"F2:49:D1:05:62:2A\",\"minact\":1,\"tseen\":300,\"tacum\":300,\"visits\":1,\"act24h\":1,\"pwr\":-1,\"footprint\":\"04:09:81:32:04:44\",\"oui\":\"unknown\",\"type\":\"LMA\",\"tx_packets\":1,\"tx_bytes\":73,\"rx_packets\":0,\"rx_bytes\":0,\"ap\":\"unknown\",\"essid\":\"unknown\",\"apwr\":-1,\"timestamp\":1.6123905E9}}\n",
      "{\"version\":\"1.0\",\"time\":\"1615368460\",\"id\":\"f0c48ba4-387d-11ea-a137-2e728ce88126\",\"type\":\"WF\",\"event\":\"DATA\",\"data\":{\"userid\":\"72:91:E7:94:84:33\",\"minact\":1,\"tseen\":300,\"tacum\":300,\"visits\":1,\"act24h\":1,\"pwr\":-1,\"footprint\":\"81:A0:6D:76:2F:23\",\"oui\":\"unknown\",\"type\":\"LMA\",\"tx_packets\":3,\"tx_bytes\":471,\"rx_packets\":0,\"rx_bytes\":0,\"ap\":\"unknown\",\"essid\":\"unknown\",\"apwr\":-1,\"timestamp\":1.6124337E9}}\n",
      "{\"version\":\"1.0\",\"time\":\"1615368460\",\"id\":\"f0c48ba4-387d-11ea-a137-2e728ce88126\",\"type\":\"WF\",\"event\":\"DATA\",\"data\":{\"userid\":\"7E:2E:30:CA:E6:A2\",\"minact\":1,\"tseen\":150,\"tacum\":150,\"visits\":1,\"act24h\":1,\"pwr\":-73,\"footprint\":\"0C:C8:BA:EB:8B:C3\",\"oui\":\"unknown\",\"type\":\"LMA\",\"tx_packets\":2,\"tx_bytes\":212,\"rx_packets\":0,\"rx_bytes\":0,\"ap\":\"unknown\",\"essid\":\"unknown\",\"apwr\":-1,\"timestamp\":1.6125174E9}}\n",
      "{\"version\":\"1.0\",\"time\":\"1615368460\",\"id\":\"f0c48ba4-387d-11ea-a137-2e728ce88126\",\"type\":\"WF\",\"event\":\"DATA\",\"data\":{\"userid\":\"B8:76:3F:11:17:2E\",\"minact\":1,\"tseen\":240,\"tacum\":5270,\"visits\":10,\"act24h\":82,\"pwr\":-90,\"footprint\":\"01:08:81:32:04:44\",\"oui\":\"hon-hai\",\"type\":\"MAL\",\"tx_packets\":2,\"tx_bytes\":140,\"rx_packets\":0,\"rx_bytes\":0,\"ap\":\"unknown\",\"essid\":\"unknown\",\"apwr\":-1,\"timestamp\":1.6126083E9}}\n",
      "{\"version\":\"1.0\",\"time\":\"1615368460\",\"id\":\"f0c48ba4-387d-11ea-a137-2e728ce88126\",\"type\":\"WF\",\"event\":\"DATA\",\"data\":{\"userid\":\"B4:86:55:31:FA:7D\",\"minact\":1,\"tseen\":200,\"tacum\":200,\"visits\":1,\"act24h\":1,\"pwr\":-72,\"footprint\":\"0A:E2:5C:A8:44:1D\",\"oui\":\"huawei\",\"type\":\"MAL\",\"tx_packets\":12,\"tx_bytes\":1323,\"rx_packets\":0,\"rx_bytes\":0,\"ap\":\"unknown\",\"essid\":\"unknown\",\"apwr\":-1,\"timestamp\":1.6123365E9}}\n",
      "{\"version\":\"1.0\",\"time\":\"1615368460\",\"id\":\"f0c48ba4-387d-11ea-a137-2e728ce88126\",\"type\":\"WF\",\"event\":\"DATA\",\"data\":{\"userid\":\"CA:25:6B:99:12:E2\",\"minact\":1,\"tseen\":310,\"tacum\":930,\"visits\":3,\"act24h\":1,\"pwr\":-1,\"footprint\":\"0C:C8:BA:EB:8B:C3\",\"oui\":\"unknown\",\"type\":\"LMA\",\"tx_packets\":3,\"tx_bytes\":321,\"rx_packets\":0,\"rx_bytes\":0,\"ap\":\"00:1F:33:C2:10:6A\",\"essid\":\".\",\"apwr\":-1,\"timestamp\":1.6123491E9}}\n",
      "{\"version\":\"1.0\",\"time\":\"1615368460\",\"id\":\"f0c48ba4-387d-11ea-a137-2e728ce88126\",\"type\":\"WF\",\"event\":\"DATA\",\"data\":{\"userid\":\"96:29:E6:16:E3:D3\",\"minact\":1,\"tseen\":300,\"tacum\":300,\"visits\":1,\"act24h\":1,\"pwr\":-1,\"footprint\":\"08:05:54:4C:8E:1D\",\"oui\":\"unknown\",\"type\":\"LMA\",\"tx_packets\":2,\"tx_bytes\":176,\"rx_packets\":0,\"rx_bytes\":0,\"ap\":\"unknown\",\"essid\":\"unknown\",\"apwr\":-1,\"timestamp\":1.6123491E9}}\n",
      "{\"version\":\"1.0\",\"time\":\"1615368460\",\"id\":\"f0c48ba4-387d-11ea-a137-2e728ce88126\",\"type\":\"WF\",\"event\":\"DATA\",\"data\":{\"userid\":\"F0:03:8C:DF:33:23\",\"minact\":1,\"tseen\":330,\"tacum\":18810,\"visits\":26,\"act24h\":33,\"pwr\":-1,\"footprint\":\"2E:1E:F7:32:08:9E\",\"oui\":\"azure\",\"type\":\"MAL\",\"tx_packets\":2,\"tx_bytes\":168,\"rx_packets\":0,\"rx_bytes\":0,\"ap\":\"unknown\",\"essid\":\"unknown\",\"apwr\":-1,\"timestamp\":1.6123032E9}}\n",
      "{\"version\":\"1.0\",\"time\":\"1615368460\",\"id\":\"f0c48ba4-387d-11ea-a137-2e728ce88126\",\"type\":\"WF\",\"event\":\"DATA\",\"data\":{\"userid\":\"B8:27:EB:D8:29:BD\",\"minact\":1,\"tseen\":810,\"tacum\":4340,\"visits\":1,\"act24h\":96,\"pwr\":-54,\"footprint\":\"6D:86:31:5D:CB:7B\",\"oui\":\"raspberry\",\"type\":\"MAL\",\"tx_packets\":22,\"tx_bytes\":4620,\"rx_packets\":0,\"rx_bytes\":0,\"ap\":\"unknown\",\"essid\":\"unknown\",\"apwr\":-1,\"timestamp\":1.6125975E9}}\n",
      "{\"version\":\"1.0\",\"time\":\"1615368460\",\"id\":\"f0c48ba4-387d-11ea-a137-2e728ce88126\",\"type\":\"WF\",\"event\":\"DATA\",\"data\":{\"userid\":\"B8:27:EB:D8:29:BD\",\"minact\":1,\"tseen\":900,\"tacum\":66270,\"visits\":9,\"act24h\":96,\"pwr\":-1,\"footprint\":\"6D:86:31:5D:CB:7B\",\"oui\":\"raspberry\",\"type\":\"MAL\",\"tx_packets\":80,\"tx_bytes\":16800,\"rx_packets\":0,\"rx_bytes\":0,\"ap\":\"unknown\",\"essid\":\"unknown\",\"apwr\":-1,\"timestamp\":1.6124067E9}}\n",
      "{\"version\":\"1.0\",\"time\":\"1615368460\",\"id\":\"f0c48ba4-387d-11ea-a137-2e728ce88126\",\"type\":\"WF\",\"event\":\"DATA\",\"data\":{\"userid\":\"B8:27:EB:92:4D:BB\",\"minact\":1,\"tseen\":900,\"tacum\":39600,\"visits\":1,\"act24h\":96,\"pwr\":-24,\"footprint\":\"90:BF:C5:3A:6E:2E\",\"oui\":\"raspberry\",\"type\":\"MAL\",\"tx_packets\":75,\"tx_bytes\":17250,\"rx_packets\":0,\"rx_bytes\":0,\"ap\":\"unknown\",\"essid\":\"unknown\",\"apwr\":-1,\"timestamp\":1.6125462E9}}\n",
      "{\"version\":\"1.0\",\"time\":\"1615368460\",\"id\":\"f0c48ba4-387d-11ea-a137-2e728ce88126\",\"type\":\"WF\",\"event\":\"DATA\",\"data\":{\"userid\":\"DA:A1:19:49:8F:8B\",\"minact\":1,\"tseen\":190,\"tacum\":190,\"visits\":1,\"act24h\":1,\"pwr\":-89,\"footprint\":\"01:08:81:00:00:00\",\"oui\":\"google\",\"type\":\"CID\",\"tx_packets\":2,\"tx_bytes\":91,\"rx_packets\":0,\"rx_bytes\":0,\"ap\":\"unknown\",\"essid\":\"unknown\",\"apwr\":-1,\"timestamp\":1.6125201E9}}\n",
      "{\"version\":\"1.0\",\"time\":\"1615368460\",\"id\":\"f0c48ba4-387d-11ea-a137-2e728ce88126\",\"type\":\"WF\",\"event\":\"DATA\",\"data\":{\"userid\":\"26:8B:11:20:40:8B\",\"minact\":1,\"tseen\":300,\"tacum\":300,\"visits\":1,\"act24h\":1,\"pwr\":-1,\"footprint\":\"04:05:54:4C:8B:9E\",\"oui\":\"unknown\",\"type\":\"LMA\",\"tx_packets\":1,\"tx_bytes\":83,\"rx_packets\":0,\"rx_bytes\":0,\"ap\":\"unknown\",\"essid\":\"unknown\",\"apwr\":-1,\"timestamp\":1.6125327E9}}\n",
      "{\"version\":\"1.0\",\"time\":\"1615368460\",\"id\":\"f0c48ba4-387d-11ea-a137-2e728ce88126\",\"type\":\"WF\",\"event\":\"DATA\",\"data\":{\"userid\":\"B8:76:3F:53:16:D9\",\"minact\":1,\"tseen\":630,\"tacum\":16300,\"visits\":19,\"act24h\":96,\"pwr\":-1,\"footprint\":\"01:08:81:32:04:44\",\"oui\":\"hon-hai\",\"type\":\"MAL\",\"tx_packets\":3,\"tx_bytes\":210,\"rx_packets\":0,\"rx_bytes\":0,\"ap\":\"unknown\",\"essid\":\"unknown\",\"apwr\":-1,\"timestamp\":1.6124499E9}}\n",
      "{\"version\":\"1.0\",\"time\":\"1615368460\",\"id\":\"f0c48ba4-387d-11ea-a137-2e728ce88126\",\"type\":\"WF\",\"event\":\"DATA\",\"data\":{\"userid\":\"B8:27:EB:64:88:1C\",\"minact\":1,\"tseen\":600,\"tacum\":5880,\"visits\":9,\"act24h\":11,\"pwr\":-88,\"footprint\":\"90:BF:C5:11:6E:2E\",\"oui\":\"raspberry\",\"type\":\"MAL\",\"tx_packets\":2,\"tx_bytes\":490,\"rx_packets\":0,\"rx_bytes\":0,\"ap\":\"unknown\",\"essid\":\"unknown\",\"apwr\":-1,\"timestamp\":1.6124499E9}}\n",
      "{\"version\":\"1.0\",\"time\":\"1615368460\",\"id\":\"f0c48ba4-387d-11ea-a137-2e728ce88126\",\"type\":\"WF\",\"event\":\"DATA\",\"data\":{\"userid\":\"DC:16:B2:48:55:68\",\"minact\":1,\"tseen\":300,\"tacum\":300,\"visits\":1,\"act24h\":1,\"pwr\":-1,\"footprint\":\"DC:16:B2:48:55:68\",\"oui\":\"huawei\",\"type\":\"MAL\",\"tx_packets\":1,\"tx_bytes\":26,\"rx_packets\":0,\"rx_bytes\":0,\"ap\":\"00:2A:10:CF:80:61\",\"essid\":\"unknown\",\"apwr\":-1,\"timestamp\":1.612269E9}}\n",
      "{\"version\":\"1.0\",\"time\":\"1615368460\",\"id\":\"f0c48ba4-387d-11ea-a137-2e728ce88126\",\"type\":\"WF\",\"event\":\"DATA\",\"data\":{\"userid\":\"F0:03:8C:DF:33:23\",\"minact\":1,\"tseen\":320,\"tacum\":9750,\"visits\":15,\"act24h\":14,\"pwr\":-87,\"footprint\":\"2E:1E:F7:32:08:9E\",\"oui\":\"azure\",\"type\":\"MAL\",\"tx_packets\":2,\"tx_bytes\":168,\"rx_packets\":0,\"rx_bytes\":0,\"ap\":\"unknown\",\"essid\":\"unknown\",\"apwr\":-1,\"timestamp\":1.6122861E9}}\n",
      "{\"version\":\"1.0\",\"time\":\"1615368460\",\"id\":\"f0c48ba4-387d-11ea-a137-2e728ce88126\",\"type\":\"WF\",\"event\":\"DATA\",\"data\":{\"userid\":\"B4:9D:0B:45:1C:8F\",\"minact\":1,\"tseen\":320,\"tacum\":320,\"visits\":1,\"act24h\":1,\"pwr\":-1,\"footprint\":\"01:08:81:00:00:00\",\"oui\":\"bq\",\"type\":\"MAL\",\"tx_packets\":2,\"tx_bytes\":98,\"rx_packets\":1,\"rx_bytes\":528,\"ap\":\"54:A2:74:E3:DA:61\",\"essid\":\"eduroam\",\"apwr\":-45,\"timestamp\":1.6122861E9}}\n",
      "{\"version\":\"1.0\",\"time\":\"1615368460\",\"id\":\"f0c48ba4-387d-11ea-a137-2e728ce88126\",\"type\":\"WF\",\"event\":\"DATA\",\"data\":{\"userid\":\"B8:27:EB:92:4D:BB\",\"minact\":1,\"tseen\":900,\"tacum\":22500,\"visits\":1,\"act24h\":96,\"pwr\":-24,\"footprint\":\"90:BF:C5:72:6E:2E\",\"oui\":\"raspberry\",\"type\":\"MAL\",\"tx_packets\":63,\"tx_bytes\":14490,\"rx_packets\":0,\"rx_bytes\":0,\"ap\":\"unknown\",\"essid\":\"unknown\",\"apwr\":-1,\"timestamp\":1.6125291E9}}\n",
      "{\"version\":\"1.0\",\"time\":\"1615368460\",\"id\":\"f0c48ba4-387d-11ea-a137-2e728ce88126\",\"type\":\"WF\",\"event\":\"DATA\",\"data\":{\"userid\":\"F0:03:8C:DF:33:23\",\"minact\":1,\"tseen\":440,\"tacum\":10190,\"visits\":15,\"act24h\":15,\"pwr\":-1,\"footprint\":\"2E:1E:F7:32:08:9E\",\"oui\":\"azure\",\"type\":\"MAL\",\"tx_packets\":2,\"tx_bytes\":168,\"rx_packets\":0,\"rx_bytes\":0,\"ap\":\"unknown\",\"essid\":\"unknown\",\"apwr\":-1,\"timestamp\":1.612287E9}}\n",
      "{\"version\":\"1.0\",\"time\":\"1615368460\",\"id\":\"f0c48ba4-387d-11ea-a137-2e728ce88126\",\"type\":\"WF\",\"event\":\"DATA\",\"data\":{\"userid\":\"B8:27:EB:D8:29:BD\",\"minact\":1,\"tseen\":830,\"tacum\":63250,\"visits\":14,\"act24h\":96,\"pwr\":-34,\"footprint\":\"6D:86:31:5D:CB:7B\",\"oui\":\"raspberry\",\"type\":\"MAL\",\"tx_packets\":7,\"tx_bytes\":1470,\"rx_packets\":0,\"rx_bytes\":0,\"ap\":\"unknown\",\"essid\":\"unknown\",\"apwr\":-1,\"timestamp\":1.6124931E9}}\n",
      "{\"version\":\"1.0\",\"time\":\"1615368460\",\"id\":\"f0c48ba4-387d-11ea-a137-2e728ce88126\",\"type\":\"WF\",\"event\":\"DATA\",\"data\":{\"userid\":\"B8:27:EB:92:4D:BB\",\"minact\":1,\"tseen\":900,\"tacum\":22500,\"visits\":1,\"act24h\":96,\"pwr\":-13,\"footprint\":\"90:BF:C5:A4:6E:2E\",\"oui\":\"raspberry\",\"type\":\"MAL\",\"tx_packets\":76,\"tx_bytes\":17480,\"rx_packets\":0,\"rx_bytes\":0,\"ap\":\"unknown\",\"essid\":\"unknown\",\"apwr\":-1,\"timestamp\":1.6123563E9}}\n",
      "{\"version\":\"1.0\",\"time\":\"1615368460\",\"id\":\"f0c48ba4-387d-11ea-a137-2e728ce88126\",\"type\":\"WF\",\"event\":\"DATA\",\"data\":{\"userid\":\"90:2B:D2:B0:E1:D3\",\"minact\":1,\"tseen\":350,\"tacum\":350,\"visits\":1,\"act24h\":1,\"pwr\":-1,\"footprint\":\"69:E2:67:83:AC:25\",\"oui\":\"huawei\",\"type\":\"MAL\",\"tx_packets\":15,\"tx_bytes\":14997,\"rx_packets\":0,\"rx_bytes\":0,\"ap\":\"00:1F:33:C2:10:6A\",\"essid\":\".\",\"apwr\":-1,\"timestamp\":1.6122681E9}}\n",
      "{\"version\":\"1.0\",\"time\":\"1615368460\",\"id\":\"f0c48ba4-387d-11ea-a137-2e728ce88126\",\"type\":\"WF\",\"event\":\"DATA\",\"data\":{\"userid\":\"00:26:BB:1A:05:F8\",\"minact\":1,\"tseen\":50,\"tacum\":2200,\"visits\":8,\"act24h\":1,\"pwr\":-65,\"footprint\":\"04:05:54:4C:65:9E\",\"oui\":\"apple\",\"type\":\"MAL\",\"tx_packets\":7,\"tx_bytes\":3608,\"rx_packets\":5,\"rx_bytes\":5828,\"ap\":\"00:0F:20:68:0D:7D\",\"essid\":\"DIT\",\"apwr\":-47,\"timestamp\":1.6123959E9}}\n",
      "{\"version\":\"1.0\",\"time\":\"1615368460\",\"id\":\"f0c48ba4-387d-11ea-a137-2e728ce88126\",\"type\":\"WF\",\"event\":\"DATA\",\"data\":{\"userid\":\"00:E0:4C:27:7E:16\",\"minact\":1,\"tseen\":300,\"tacum\":2040,\"visits\":6,\"act24h\":1,\"pwr\":-1,\"footprint\":\"2E:22:2D:78:09:77\",\"oui\":\"realtek\",\"type\":\"MAL\",\"tx_packets\":1,\"tx_bytes\":88,\"rx_packets\":0,\"rx_bytes\":0,\"ap\":\"unknown\",\"essid\":\"unknown\",\"apwr\":-1,\"timestamp\":1.6124103E9}}\n",
      "{\"version\":\"1.0\",\"time\":\"1615368460\",\"id\":\"f0c48ba4-387d-11ea-a137-2e728ce88126\",\"type\":\"WF\",\"event\":\"DATA\",\"data\":{\"userid\":\"32:AA:B1:27:82:F4\",\"minact\":1,\"tseen\":300,\"tacum\":300,\"visits\":1,\"act24h\":1,\"pwr\":-1,\"footprint\":\"0C:C8:BA:EB:8B:C3\",\"oui\":\"unknown\",\"type\":\"LMA\",\"tx_packets\":1,\"tx_bytes\":106,\"rx_packets\":0,\"rx_bytes\":0,\"ap\":\"unknown\",\"essid\":\"unknown\",\"apwr\":-1,\"timestamp\":1.612512E9}}\n",
      "{\"version\":\"1.0\",\"time\":\"1615368460\",\"id\":\"f0c48ba4-387d-11ea-a137-2e728ce88126\",\"type\":\"WF\",\"event\":\"DATA\",\"data\":{\"userid\":\"B8:27:EB:92:4D:BB\",\"minact\":1,\"tseen\":900,\"tacum\":12600,\"visits\":1,\"act24h\":92,\"pwr\":-26,\"footprint\":\"90:BF:C5:72:6E:2E\",\"oui\":\"raspberry\",\"type\":\"MAL\",\"tx_packets\":57,\"tx_bytes\":13110,\"rx_packets\":0,\"rx_bytes\":0,\"ap\":\"unknown\",\"essid\":\"unknown\",\"apwr\":-1,\"timestamp\":1.6123464E9}}\n",
      "{\"version\":\"1.0\",\"time\":\"1615368460\",\"id\":\"f0c48ba4-387d-11ea-a137-2e728ce88126\",\"type\":\"WF\",\"event\":\"DATA\",\"data\":{\"userid\":\"E8:2A:44:BF:A9:9F\",\"minact\":1,\"tseen\":490,\"tacum\":1090,\"visits\":3,\"act24h\":3,\"pwr\":-91,\"footprint\":\"2E:22:09:78:09:77\",\"oui\":\"liteon\",\"type\":\"MAL\",\"tx_packets\":4,\"tx_bytes\":352,\"rx_packets\":0,\"rx_bytes\":0,\"ap\":\"unknown\",\"essid\":\"unknown\",\"apwr\":-1,\"timestamp\":1.6123464E9}}\n",
      "{\"version\":\"1.0\",\"time\":\"1615368460\",\"id\":\"f0c48ba4-387d-11ea-a137-2e728ce88126\",\"type\":\"WF\",\"event\":\"DATA\",\"data\":{\"userid\":\"DA:A1:19:ED:8C:34\",\"minact\":1,\"tseen\":300,\"tacum\":300,\"visits\":1,\"act24h\":1,\"pwr\":-1,\"footprint\":\"0D:4C:AE:1D:C5:B1\",\"oui\":\"google\",\"type\":\"CID\",\"tx_packets\":1,\"tx_bytes\":99,\"rx_packets\":0,\"rx_bytes\":0,\"ap\":\"unknown\",\"essid\":\"unknown\",\"apwr\":-1,\"timestamp\":1.6125318E9}}\n",
      "{\"version\":\"1.0\",\"time\":\"1615368460\",\"id\":\"f0c48ba4-387d-11ea-a137-2e728ce88126\",\"type\":\"WF\",\"event\":\"DATA\",\"data\":{\"userid\":\"DA:A1:19:D5:BA:11\",\"minact\":1,\"tseen\":300,\"tacum\":300,\"visits\":1,\"act24h\":1,\"pwr\":-1,\"footprint\":\"01:08:81:00:00:00\",\"oui\":\"google\",\"type\":\"CID\",\"tx_packets\":2,\"tx_bytes\":98,\"rx_packets\":0,\"rx_bytes\":0,\"ap\":\"unknown\",\"essid\":\"unknown\",\"apwr\":-1,\"timestamp\":1.6123509E9}}\n",
      "{\"version\":\"1.0\",\"time\":\"1615368460\",\"id\":\"f0c48ba4-387d-11ea-a137-2e728ce88126\",\"type\":\"WF\",\"event\":\"DATA\",\"data\":{\"userid\":\"A8:7E:EA:D5:29:79\",\"minact\":1,\"tseen\":570,\"tacum\":920,\"visits\":2,\"act24h\":2,\"pwr\":-1,\"footprint\":\"4C:22:86:B1:0E:43\",\"oui\":\"intel\",\"type\":\"MAL\",\"tx_packets\":4,\"tx_bytes\":520,\"rx_packets\":0,\"rx_bytes\":0,\"ap\":\"00:0F:20:68:0D:7D\",\"essid\":\"DIT\",\"apwr\":-49,\"timestamp\":1.6123446E9}}\n",
      "{\"version\":\"1.0\",\"time\":\"1615368460\",\"id\":\"f0c48ba4-387d-11ea-a137-2e728ce88126\",\"type\":\"WF\",\"event\":\"DATA\",\"data\":{\"userid\":\"B8:27:EB:D8:29:BD\",\"minact\":1,\"tseen\":900,\"tacum\":8660,\"visits\":1,\"act24h\":96,\"pwr\":-43,\"footprint\":\"6D:86:31:5D:CB:7B\",\"oui\":\"raspberry\",\"type\":\"MAL\",\"tx_packets\":97,\"tx_bytes\":20370,\"rx_packets\":0,\"rx_bytes\":0,\"ap\":\"unknown\",\"essid\":\"unknown\",\"apwr\":-1,\"timestamp\":1.6125156E9}}\n"
     ]
    },
    {
     "ename": "KeyboardInterrupt",
     "evalue": "",
     "output_type": "error",
     "traceback": [
      "\u001b[0;31m---------------------------------------------------------------------------\u001b[0m",
      "\u001b[0;31mKeyboardInterrupt\u001b[0m                         Traceback (most recent call last)",
      "\u001b[0;32m<ipython-input-7-16b00aef9d4a>\u001b[0m in \u001b[0;36m<module>\u001b[0;34m\u001b[0m\n\u001b[1;32m     24\u001b[0m         \u001b[0mproducer\u001b[0m\u001b[0;34m.\u001b[0m\u001b[0mflush\u001b[0m\u001b[0;34m(\u001b[0m\u001b[0;34m)\u001b[0m\u001b[0;34m\u001b[0m\u001b[0;34m\u001b[0m\u001b[0m\n\u001b[1;32m     25\u001b[0m \u001b[0;34m\u001b[0m\u001b[0m\n\u001b[0;32m---> 26\u001b[0;31m     \u001b[0mtime\u001b[0m\u001b[0;34m.\u001b[0m\u001b[0msleep\u001b[0m\u001b[0;34m(\u001b[0m\u001b[0msleep\u001b[0m\u001b[0;34m)\u001b[0m\u001b[0;34m\u001b[0m\u001b[0;34m\u001b[0m\u001b[0m\n\u001b[0m\u001b[1;32m     27\u001b[0m     \u001b[0mc\u001b[0m \u001b[0;34m=\u001b[0m \u001b[0mc\u001b[0m \u001b[0;34m+\u001b[0m \u001b[0;36m1\u001b[0m\u001b[0;34m\u001b[0m\u001b[0;34m\u001b[0m\u001b[0m\n\u001b[1;32m     28\u001b[0m     \u001b[0mseed\u001b[0m \u001b[0;34m=\u001b[0m \u001b[0mseed\u001b[0m \u001b[0;34m+\u001b[0m \u001b[0;36m1\u001b[0m\u001b[0;34m\u001b[0m\u001b[0;34m\u001b[0m\u001b[0m\n",
      "\u001b[0;31mKeyboardInterrupt\u001b[0m: "
     ]
    }
   ],
   "source": [
    "# Creamos productor de eventos Kafka\n",
    "\n",
    "ip_server = '192.168.1.101:9092'\n",
    "kafka_topic = 'WF'\n",
    "c = 0\n",
    "sleep = 20\n",
    "seed = 1\n",
    "\n",
    "while True:\n",
    "    df_sample = df.sample(fraction = 0.01, seed = seed)\n",
    "    df_sample = df_sample.withColumn('time', unix_timestamp().cast(StringType()))\n",
    "    \n",
    "    prediction_features = df_sample.select('version','time','id','type','event','data')\n",
    "\n",
    "    if type(kafka_topic) == bytes:\n",
    "        kafka_topic = kafka_topic.decode('utf-8')\n",
    "    producer = KafkaProducer(bootstrap_servers=[ip_server],api_version=(0,10))\n",
    "    PREDICTION_TOPIC = kafka_topic\n",
    "\n",
    "    #FUNCIONAL\n",
    "    for row in prediction_features.toJSON().collect():\n",
    "        print((row))\n",
    "        producer.send(PREDICTION_TOPIC , row.encode())\n",
    "        producer.flush()\n",
    "    \n",
    "    time.sleep(sleep)\n",
    "    c = c + 1\n",
    "    seed = seed + 1"
   ]
  },
  {
   "cell_type": "code",
   "execution_count": 11,
   "metadata": {},
   "outputs": [
    {
     "name": "stdout",
     "output_type": "stream",
     "text": [
      "{\"version\": \"2.0\", \"id\": \"f0c48ba4-387d-11ea-a137-2e728ce88125\", \"type\": \"WF\", \"event\": \"DATA\", \"time\": 1615204920, \"data\": {\"userid\": \"16:EA:2C:AB:48:0F\", \"minact\": 1, \"tseen\": 30, \"tacum\": 4040, \"visits\": 3, \"act24h\": 1, \"pwr\": -70, \"footprint\": \"24:4D:63:B0:68:28\", \"oui\": \"unknown\", \"type\": \"LMA\", \"tx_packets\": 3, \"tx_bytes\": 435, \"rx_packets\": 0, \"rx_bytes\": 0, \"ap\": \"unknown\", \"essid\": \"unknown\", \"apwr\": -1, \"timestamp\": 1615204860.0}}\n"
     ]
    }
   ],
   "source": [
    "# Creamos productor de eventos Kafka\n",
    "import json\n",
    "ip_server = '192.168.1.101:9092'\n",
    "kafka_topic = 'WF'\n",
    "c = 0\n",
    "sleep = 20\n",
    "seed = 1\n",
    "prediction_features = {\"version\": \"2.0\", \"id\": \"f0c48ba4-387d-11ea-a137-2e728ce88125\", \"type\": \"WF\", \"event\": \"DATA\", \"time\": 1615204920, \"data\": {\"userid\": \"16:EA:2C:AB:48:0F\", \"minact\": 1, \"tseen\": 30, \"tacum\": 4040, \"visits\": 3, \"act24h\": 1, \"pwr\": -70, \"footprint\": \"24:4D:63:B0:68:28\", \"oui\": \"unknown\", \"type\": \"LMA\", \"tx_packets\": 3, \"tx_bytes\": 435, \"rx_packets\": 0, \"rx_bytes\": 0, \"ap\": \"unknown\", \"essid\": \"unknown\", \"apwr\": -1, \"timestamp\": 1615204860.0}}\n",
    "#FUNCIONAL\n",
    "json_object = json.dumps(prediction_features)   \n",
    "row = json_object \n",
    "print((row))\n",
    "producer.send(PREDICTION_TOPIC , row.encode())\n",
    "producer.flush()"
   ]
  },
  {
   "cell_type": "code",
   "execution_count": null,
   "metadata": {},
   "outputs": [],
   "source": [
    "sc.stop()"
   ]
  },
  {
   "cell_type": "code",
   "execution_count": null,
   "metadata": {},
   "outputs": [],
   "source": []
  }
 ],
 "metadata": {
  "kernelspec": {
   "display_name": "Python 3",
   "language": "python",
   "name": "python3"
  },
  "language_info": {
   "codemirror_mode": {
    "name": "ipython",
    "version": 3
   },
   "file_extension": ".py",
   "mimetype": "text/x-python",
   "name": "python",
   "nbconvert_exporter": "python",
   "pygments_lexer": "ipython3",
   "version": "3.6.8"
  }
 },
 "nbformat": 4,
 "nbformat_minor": 4
}
