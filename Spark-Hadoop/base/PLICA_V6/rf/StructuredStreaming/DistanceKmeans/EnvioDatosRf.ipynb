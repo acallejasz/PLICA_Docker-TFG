{
 "cells": [
  {
   "cell_type": "code",
   "execution_count": 1,
   "metadata": {},
   "outputs": [],
   "source": [
    "#Este es el script en el que se maneja el envio de eventos kafka\n",
    "#Se crea un producer de kafka y se obtienen datos para enviar\n",
    "\n",
    "\"\"\"\n",
    "FUNCIONAL\n",
    "\"\"\"\n",
    "# kafka/bin/zookeeper-server-start.sh kafka/config/zookeeper.properties\n",
    "# kafka/bin/kafka-server-start.sh kafka/config/server.properties\n",
    "# kafka/bin/kafka-topics.sh --create --zookeeper localhost:2181 --replication-factor 1 --partitions 1 --topic RF\n",
    "\n",
    "# kafka/bin/kafka-topics.sh --delete --zookeeper localhost:2181 --topic RF\n",
    " \n",
    "# kafka/bin/kafka-topics.sh --list --zookeeper localhost:2181\n",
    "# kafka/bin/kafka-console-consumer.sh --bootstrap-server 192.168.1.101:9092 --topic RF --from-beginning\n",
    "\n",
    "# ./elasticsearch/bin/elasticsearch\n",
    "# ./kibana/bin/kibana\n",
    "# curl -XDELETE 'http://localhost:9200/rf*'\n",
    "\n",
    "import findspark\n",
    "findspark.init()\n",
    "\n",
    "import time\n",
    "\n",
    "from pyspark.context import SparkContext\n",
    "from pyspark.sql.session import SparkSession\n",
    "from pyspark.sql.functions import *\n",
    "from pyspark.sql.types import *\n",
    "\n",
    "from kafka import KafkaProducer, TopicPartition\n",
    "import uuid"
   ]
  },
  {
   "cell_type": "code",
   "execution_count": 2,
   "metadata": {},
   "outputs": [],
   "source": [
    "#Se crea una sescion de spark\n",
    "#Importante tras ejecucion hacer sc.stop()\n",
    "\n",
    "sc = SparkContext('local')\n",
    "spark = SparkSession(sc)"
   ]
  },
  {
   "cell_type": "code",
   "execution_count": 3,
   "metadata": {},
   "outputs": [],
   "source": [
    "base_path='../../'"
   ]
  },
  {
   "cell_type": "code",
   "execution_count": 4,
   "metadata": {},
   "outputs": [],
   "source": [
    "#Se define el esquema que va a tener el data frame\n",
    "\n",
    "schema = StructType([\n",
    "    StructField('time', StringType(), True),\n",
    "    StructField('signal', StringType(), True),\n",
    "    StructField('freq', StringType(), True),\n",
    "    StructField('mod', StringType(), True),\n",
    "    StructField('payload', StringType(), True),\n",
    "])"
   ]
  },
  {
   "cell_type": "code",
   "execution_count": 5,
   "metadata": {},
   "outputs": [],
   "source": [
    "df = spark.read.schema(schema).option(\"mode\", \"DROPMALFORMED\").json(f'{base_path}datasets/dataset_rf_v2.json')"
   ]
  },
  {
   "cell_type": "code",
   "execution_count": 6,
   "metadata": {},
   "outputs": [],
   "source": [
    "# Añadimos metadatos para simular eventos del sensor\n",
    "\n",
    "df = df.withColumn('data', struct(col('*')))\n",
    "df = df.withColumn('version', lit('1.0'))\n",
    "df = df.withColumn('id' , lit('f0c48ba4-387d-11ea-a137-2e728ce88126'))\n",
    "df = df.withColumn('type', lit('RF'))\n",
    "df = df.withColumn('event', lit('DATA'))"
   ]
  },
  {
   "cell_type": "code",
   "execution_count": null,
   "metadata": {},
   "outputs": [],
   "source": [
    "# Valores atipicos dataset\n",
    "\n",
    "'''\n",
    "df = df.filter(( df.payload == '40e888e8e88800000008e888e8') | \n",
    "                 ( df.payload == '0d111d1d11000000011d111d1d') | \n",
    "                 ( df.payload == '00e8e888e8e88800000008e888') |\n",
    "                 ( df.payload == 'a5004143e93c7fffffffffffff' ))\n",
    "'''"
   ]
  },
  {
   "cell_type": "code",
   "execution_count": 7,
   "metadata": {
    "scrolled": false
   },
   "outputs": [
    {
     "name": "stdout",
     "output_type": "stream",
     "text": [
      "{\"version\":\"1.0\",\"time\":\"1616630975\",\"id\":\"f0c48ba4-387d-11ea-a137-2e728ce88126\",\"type\":\"RF\",\"event\":\"DATA\",\"data\":{\"time\":\"1599497307\",\"signal\":\"-58\",\"freq\":\"433.78\",\"mod\":\"OOK\",\"payload\":\"e8e8e8e88888e8e888e8e88800\"}}\n",
      "{\"version\":\"1.0\",\"time\":\"1616630975\",\"id\":\"f0c48ba4-387d-11ea-a137-2e728ce88126\",\"type\":\"RF\",\"event\":\"DATA\",\"data\":{\"time\":\"1599497313\",\"signal\":\"-55\",\"freq\":\"433.78\",\"mod\":\"OOK\",\"payload\":\"e8e8e8e88888e8e888e8e88800\"}}\n",
      "{\"version\":\"1.0\",\"time\":\"1616630975\",\"id\":\"f0c48ba4-387d-11ea-a137-2e728ce88126\",\"type\":\"RF\",\"event\":\"DATA\",\"data\":{\"time\":\"1599497326\",\"signal\":\"-51\",\"freq\":\"433.78\",\"mod\":\"OOK\",\"payload\":\"88e8e8e8eee8e8eee8e8e8e800\"}}\n",
      "{\"version\":\"1.0\",\"time\":\"1616630975\",\"id\":\"f0c48ba4-387d-11ea-a137-2e728ce88126\",\"type\":\"RF\",\"event\":\"DATA\",\"data\":{\"time\":\"1599497342\",\"signal\":\"-57\",\"freq\":\"433.78\",\"mod\":\"OOK\",\"payload\":\"88e8e8e888a8e8eee8e8e8e800\"}}\n",
      "{\"version\":\"1.0\",\"time\":\"1616630975\",\"id\":\"f0c48ba4-387d-11ea-a137-2e728ce88126\",\"type\":\"RF\",\"event\":\"DATA\",\"data\":{\"time\":\"1599497354\",\"signal\":\"-56\",\"freq\":\"433.78\",\"mod\":\"OOK\",\"payload\":\"e8e8e8e88888e8e888e8e88800\"}}\n",
      "{\"version\":\"1.0\",\"time\":\"1616630975\",\"id\":\"f0c48ba4-387d-11ea-a137-2e728ce88126\",\"type\":\"RF\",\"event\":\"DATA\",\"data\":{\"time\":\"1599497369\",\"signal\":\"-65\",\"freq\":\"433.78\",\"mod\":\"OOK\",\"payload\":\"e888e8e88888e8e888e8e88800\"}}\n",
      "{\"version\":\"1.0\",\"time\":\"1616630975\",\"id\":\"f0c48ba4-387d-11ea-a137-2e728ce88126\",\"type\":\"RF\",\"event\":\"DATA\",\"data\":{\"time\":\"1599497369\",\"signal\":\"-52\",\"freq\":\"433.78\",\"mod\":\"OOK\",\"payload\":\"40e888e8e88800000008e888e8\"}}\n",
      "{\"version\":\"1.0\",\"time\":\"1616630975\",\"id\":\"f0c48ba4-387d-11ea-a137-2e728ce88126\",\"type\":\"RF\",\"event\":\"DATA\",\"data\":{\"time\":\"1599497369\",\"signal\":\"-56\",\"freq\":\"433.78\",\"mod\":\"OOK\",\"payload\":\"e888e8e8eee8e8eee8e8e8e800\"}}\n",
      "{\"version\":\"1.0\",\"time\":\"1616630975\",\"id\":\"f0c48ba4-387d-11ea-a137-2e728ce88126\",\"type\":\"RF\",\"event\":\"DATA\",\"data\":{\"time\":\"1599497381\",\"signal\":\"-55\",\"freq\":\"433.78\",\"mod\":\"OOK\",\"payload\":\"e888e8e8eee8e8eee8e8e8e800\"}}\n",
      "{\"version\":\"1.0\",\"time\":\"1616630975\",\"id\":\"f0c48ba4-387d-11ea-a137-2e728ce88126\",\"type\":\"RF\",\"event\":\"DATA\",\"data\":{\"time\":\"1599497388\",\"signal\":\"-67\",\"freq\":\"433.78\",\"mod\":\"OOK\",\"payload\":\"e888e8e8eee8e8eee8e8e8e800\"}}\n",
      "{\"version\":\"1.0\",\"time\":\"1616630975\",\"id\":\"f0c48ba4-387d-11ea-a137-2e728ce88126\",\"type\":\"RF\",\"event\":\"DATA\",\"data\":{\"time\":\"1599497403\",\"signal\":\"-69\",\"freq\":\"433.78\",\"mod\":\"OOK\",\"payload\":\"e8e8e8e88888e8e888e8e8e800\"}}\n",
      "{\"version\":\"1.0\",\"time\":\"1616630975\",\"id\":\"f0c48ba4-387d-11ea-a137-2e728ce88126\",\"type\":\"RF\",\"event\":\"DATA\",\"data\":{\"time\":\"1599497406\",\"signal\":\"-50\",\"freq\":\"433.78\",\"mod\":\"OOK\",\"payload\":\"e8e8e8e88888e8e888e8e88800\"}}\n",
      "{\"version\":\"1.0\",\"time\":\"1616630975\",\"id\":\"f0c48ba4-387d-11ea-a137-2e728ce88126\",\"type\":\"RF\",\"event\":\"DATA\",\"data\":{\"time\":\"1599497414\",\"signal\":\"-63\",\"freq\":\"433.78\",\"mod\":\"OOK\",\"payload\":\"e8e8e8e88888e8e888e8e8e800\"}}\n",
      "{\"version\":\"1.0\",\"time\":\"1616630975\",\"id\":\"f0c48ba4-387d-11ea-a137-2e728ce88126\",\"type\":\"RF\",\"event\":\"DATA\",\"data\":{\"time\":\"1599497419\",\"signal\":\"-65\",\"freq\":\"433.78\",\"mod\":\"OOK\",\"payload\":\"e8e8e8e88888e8e888e8e88800\"}}\n",
      "{\"version\":\"1.0\",\"time\":\"1616630975\",\"id\":\"f0c48ba4-387d-11ea-a137-2e728ce88126\",\"type\":\"RF\",\"event\":\"DATA\",\"data\":{\"time\":\"1599508133\",\"signal\":\"-58\",\"freq\":\"433.78\",\"mod\":\"OOK\",\"payload\":\"e8e8e8e88888e8e888e8e88800\"}}\n",
      "{\"version\":\"1.0\",\"time\":\"1616630975\",\"id\":\"f0c48ba4-387d-11ea-a137-2e728ce88126\",\"type\":\"RF\",\"event\":\"DATA\",\"data\":{\"time\":\"1599508133\",\"signal\":\"-62\",\"freq\":\"433.78\",\"mod\":\"OOK\",\"payload\":\"e8e8e8e8eee8e8eee8e8e8e800\"}}\n",
      "{\"version\":\"1.0\",\"time\":\"1616630975\",\"id\":\"f0c48ba4-387d-11ea-a137-2e728ce88126\",\"type\":\"RF\",\"event\":\"DATA\",\"data\":{\"time\":\"1599508149\",\"signal\":\"-59\",\"freq\":\"433.78\",\"mod\":\"OOK\",\"payload\":\"e8e8e8e8eee8e8eee8e8e8e800\"}}\n"
     ]
    },
    {
     "ename": "KeyboardInterrupt",
     "evalue": "",
     "output_type": "error",
     "traceback": [
      "\u001b[0;31m---------------------------------------------------------------------------\u001b[0m",
      "\u001b[0;31mKeyboardInterrupt\u001b[0m                         Traceback (most recent call last)",
      "\u001b[0;32m<ipython-input-7-50c1ab84fa83>\u001b[0m in \u001b[0;36m<module>\u001b[0;34m\u001b[0m\n\u001b[1;32m     24\u001b[0m         \u001b[0mproducer\u001b[0m\u001b[0;34m.\u001b[0m\u001b[0mflush\u001b[0m\u001b[0;34m(\u001b[0m\u001b[0;34m)\u001b[0m\u001b[0;34m\u001b[0m\u001b[0;34m\u001b[0m\u001b[0m\n\u001b[1;32m     25\u001b[0m \u001b[0;34m\u001b[0m\u001b[0m\n\u001b[0;32m---> 26\u001b[0;31m     \u001b[0mtime\u001b[0m\u001b[0;34m.\u001b[0m\u001b[0msleep\u001b[0m\u001b[0;34m(\u001b[0m\u001b[0msleep\u001b[0m\u001b[0;34m)\u001b[0m\u001b[0;34m\u001b[0m\u001b[0;34m\u001b[0m\u001b[0m\n\u001b[0m\u001b[1;32m     27\u001b[0m     \u001b[0mc\u001b[0m \u001b[0;34m=\u001b[0m \u001b[0mc\u001b[0m \u001b[0;34m+\u001b[0m \u001b[0;36m1\u001b[0m\u001b[0;34m\u001b[0m\u001b[0;34m\u001b[0m\u001b[0m\n\u001b[1;32m     28\u001b[0m     \u001b[0mseed\u001b[0m \u001b[0;34m=\u001b[0m \u001b[0mseed\u001b[0m \u001b[0;34m+\u001b[0m \u001b[0;36m1\u001b[0m\u001b[0;34m\u001b[0m\u001b[0;34m\u001b[0m\u001b[0m\n",
      "\u001b[0;31mKeyboardInterrupt\u001b[0m: "
     ]
    }
   ],
   "source": [
    "# Creamos productor de eventos Kafka\n",
    "\n",
    "ip_server = '138.4.7.158:9092'\n",
    "kafka_topic = 'RF-DATA'\n",
    "c = 0\n",
    "sleep = 20\n",
    "seed = 1\n",
    "\n",
    "while True:\n",
    "    df_sample = df.sample(fraction = 0.1, seed = seed)\n",
    "    df_sample = df_sample.withColumn('time', unix_timestamp().cast(StringType()))\n",
    "    \n",
    "    prediction_features = df_sample.select('version','time','id','type','event','data')\n",
    "\n",
    "    if type(kafka_topic) == bytes:\n",
    "        kafka_topic = kafka_topic.decode('utf-8')\n",
    "    producer = KafkaProducer(bootstrap_servers=[ip_server],api_version=(0,10))\n",
    "    PREDICTION_TOPIC = kafka_topic\n",
    "\n",
    "    #FUNCIONAL\n",
    "    for row in prediction_features.toJSON().collect():\n",
    "        print((row))\n",
    "        producer.send(PREDICTION_TOPIC , row.encode())\n",
    "        producer.flush()\n",
    "    \n",
    "    time.sleep(sleep)\n",
    "    c = c + 1\n",
    "    seed = seed + 1"
   ]
  },
  {
   "cell_type": "code",
   "execution_count": null,
   "metadata": {},
   "outputs": [],
   "source": [
    "sc.stop()"
   ]
  },
  {
   "cell_type": "code",
   "execution_count": null,
   "metadata": {},
   "outputs": [],
   "source": []
  }
 ],
 "metadata": {
  "kernelspec": {
   "display_name": "Python 3",
   "language": "python",
   "name": "python3"
  },
  "language_info": {
   "codemirror_mode": {
    "name": "ipython",
    "version": 3
   },
   "file_extension": ".py",
   "mimetype": "text/x-python",
   "name": "python",
   "nbconvert_exporter": "python",
   "pygments_lexer": "ipython3",
   "version": "3.6.8"
  }
 },
 "nbformat": 4,
 "nbformat_minor": 4
}
