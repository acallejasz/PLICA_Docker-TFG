{
 "cells": [
  {
   "cell_type": "code",
   "execution_count": 1,
   "metadata": {},
   "outputs": [],
   "source": [
    "#Este es el script en el que se maneja el envio de eventos kafka\n",
    "#Se crea un producer de kafka y se obtienen datos para enviar\n",
    "\n",
    "\"\"\"\n",
    "FUNCIONAL\n",
    "\"\"\"\n",
    "# kafka/bin/zookeeper-server-start.sh kafka/config/zookeeper.properties\n",
    "# kafka/bin/kafka-server-start.sh kafka/config/server.properties\n",
    "# kafka/bin/kafka-topics.sh --create --zookeeper localhost:2181 --replication-factor 1 --partitions 1 --topic RM\n",
    "\n",
    "# kafka/bin/kafka-topics.sh --delete --zookeeper localhost:2181 --topic RM\n",
    " \n",
    "# kafka/bin/kafka-topics.sh --list --zookeeper localhost:2181\n",
    "# kafka/bin/kafka-console-consumer.sh --bootstrap-server 192.168.1.101:9092 --topic RM --from-beginning\n",
    "\n",
    "# ./elasticsearch/bin/elasticsearch\n",
    "# ./kibana/bin/kibana\n",
    "# curl -XDELETE http://localhost:9200/rm*''\n",
    "\n",
    "import findspark\n",
    "findspark.init()\n",
    "\n",
    "import time\n",
    "import json\n",
    "from pyspark.context import SparkContext\n",
    "from pyspark.sql.session import SparkSession\n",
    "import pyspark.sql.functions as F\n",
    "from pyspark.sql.types import *\n",
    "\n",
    "from kafka import KafkaProducer, TopicPartition\n",
    "import uuid"
   ]
  },
  {
   "cell_type": "code",
   "execution_count": 2,
   "metadata": {},
   "outputs": [],
   "source": [
    "#Se crea una sescion de spark\n",
    "#Importante tras ejecucion hacer sc.stop()\n",
    "\n",
    "sc = SparkContext('local')\n",
    "spark = SparkSession(sc)"
   ]
  },
  {
   "cell_type": "code",
   "execution_count": 3,
   "metadata": {},
   "outputs": [],
   "source": [
    "base_path='../../'"
   ]
  },
  {
   "cell_type": "code",
   "execution_count": 4,
   "metadata": {},
   "outputs": [],
   "source": [
    "#Se define el esquema que va a tener el data frame\n",
    "\n",
    "schema = StructType([\n",
    "    StructField('version', StringType(), True),\n",
    "    StructField('time', StringType(), True),\n",
    "    StructField('id', StringType(), True),\n",
    "    StructField('type', StringType(), True),\n",
    "    StructField('event', StringType(), True),\n",
    "    StructField('data', StructType([\n",
    "        StructField('time',  StringType(), True),\n",
    "        StructField('imei', StringType(), True),\n",
    "        StructField('imsi', StringType(), True),\n",
    "        StructField('rat', StringType(), True),\n",
    "        ]))\n",
    "    ])  "
   ]
  },
  {
   "cell_type": "code",
   "execution_count": 5,
   "metadata": {},
   "outputs": [],
   "source": [
    "df = spark.read.schema(schema).load(f\"{base_path}datasets/rm_dataset/dataset_rm_v1&v2.json\",\n",
    "                     format=\"json\", sep=\":\", inferSchema=\"true\", header=\"true\")"
   ]
  },
  {
   "cell_type": "code",
   "execution_count": null,
   "metadata": {},
   "outputs": [],
   "source": [
    "# Creamos productor de eventos Kafka\n",
    "\n",
    "ip_server = '192.168.1.101:9092'\n",
    "kafka_topic = 'RM'\n",
    "c = 0\n",
    "sleep = 20\n",
    "seed = 1\n",
    "\n",
    "while True:\n",
    "    df_sample = df.sample(fraction = 0.1, seed = seed)    \n",
    "    prediction_features = df_sample.select('version','time','id','type','event','data')\n",
    "\n",
    "    if type(kafka_topic) == bytes:\n",
    "        kafka_topic = kafka_topic.decode('utf-8')\n",
    "    producer = KafkaProducer(bootstrap_servers=[ip_server],api_version=(0,10))\n",
    "    PREDICTION_TOPIC = kafka_topic\n",
    "\n",
    "    #FUNCIONAL\n",
    "    for row in prediction_features.toJSON().collect():\n",
    "        print((row))\n",
    "        producer.send(PREDICTION_TOPIC , row.encode())\n",
    "        producer.flush()\n",
    "    \n",
    "    time.sleep(sleep)\n",
    "    c = c + 1\n",
    "    seed = seed + 1"
   ]
  },
  {
   "cell_type": "code",
   "execution_count": 25,
   "metadata": {},
   "outputs": [
    {
     "name": "stdout",
     "output_type": "stream",
     "text": [
      "{\"version\": \"2.0\", \"time\": \"1615504856\", \"id\": \"de539085-315f-466a-81c1-55b97f5348df\", \"type\": \"RM\", \"event\": \"DATA\", \"data\": {\"time\": \"1615504856\", \"imei\": \"NA\", \"imsi\": \"214225800167852\", \"rat\": \"4G\"}}\n",
      "{\"version\": \"2.0\", \"time\": \"1615504856\", \"id\": \"de539085-315f-466a-81c1-55b97f5348df\", \"type\": \"RM\", \"event\": \"DATA\", \"data\": {\"time\": \"1615508456\", \"imei\": \"NA\", \"imsi\": \"214225800167852\", \"rat\": \"4G\"}}\n",
      "{\"version\": \"2.0\", \"time\": \"1615504856\", \"id\": \"de539085-315f-466a-81c1-55b97f5348df\", \"type\": \"RM\", \"event\": \"DATA\", \"data\": {\"time\": \"1615512056\", \"imei\": \"NA\", \"imsi\": \"214225800167852\", \"rat\": \"4G\"}}\n",
      "{\"version\": \"2.0\", \"time\": \"1615504856\", \"id\": \"de539085-315f-466a-81c1-55b97f5348df\", \"type\": \"RM\", \"event\": \"DATA\", \"data\": {\"time\": \"1615515656\", \"imei\": \"NA\", \"imsi\": \"214225800167852\", \"rat\": \"4G\"}}\n",
      "{\"version\": \"2.0\", \"time\": \"1615504856\", \"id\": \"de539085-315f-466a-81c1-55b97f5348df\", \"type\": \"RM\", \"event\": \"DATA\", \"data\": {\"time\": \"1615519256\", \"imei\": \"NA\", \"imsi\": \"214225800167852\", \"rat\": \"4G\"}}\n",
      "{\"version\": \"2.0\", \"time\": \"1615504856\", \"id\": \"de539085-315f-466a-81c1-55b97f5348df\", \"type\": \"RM\", \"event\": \"DATA\", \"data\": {\"time\": \"1615522856\", \"imei\": \"NA\", \"imsi\": \"214225800167852\", \"rat\": \"4G\"}}\n",
      "{\"version\": \"2.0\", \"time\": \"1615504856\", \"id\": \"de539085-315f-466a-81c1-55b97f5348df\", \"type\": \"RM\", \"event\": \"DATA\", \"data\": {\"time\": \"1615526456\", \"imei\": \"NA\", \"imsi\": \"214225800167852\", \"rat\": \"4G\"}}\n",
      "{\"version\": \"2.0\", \"time\": \"1615504856\", \"id\": \"de539085-315f-466a-81c1-55b97f5348df\", \"type\": \"RM\", \"event\": \"DATA\", \"data\": {\"time\": \"1615530056\", \"imei\": \"NA\", \"imsi\": \"214225800167852\", \"rat\": \"4G\"}}\n",
      "{\"version\": \"2.0\", \"time\": \"1615504856\", \"id\": \"de539085-315f-466a-81c1-55b97f5348df\", \"type\": \"RM\", \"event\": \"DATA\", \"data\": {\"time\": \"1615533656\", \"imei\": \"NA\", \"imsi\": \"214225800167852\", \"rat\": \"4G\"}}\n",
      "{\"version\": \"2.0\", \"time\": \"1615504856\", \"id\": \"de539085-315f-466a-81c1-55b97f5348df\", \"type\": \"RM\", \"event\": \"DATA\", \"data\": {\"time\": \"1615537256\", \"imei\": \"NA\", \"imsi\": \"214225800167852\", \"rat\": \"4G\"}}\n",
      "{\"version\": \"2.0\", \"time\": \"1615504856\", \"id\": \"de539085-315f-466a-81c1-55b97f5348df\", \"type\": \"RM\", \"event\": \"DATA\", \"data\": {\"time\": \"1615540856\", \"imei\": \"NA\", \"imsi\": \"214225800167852\", \"rat\": \"4G\"}}\n",
      "{\"version\": \"2.0\", \"time\": \"1615504856\", \"id\": \"de539085-315f-466a-81c1-55b97f5348df\", \"type\": \"RM\", \"event\": \"DATA\", \"data\": {\"time\": \"1615544456\", \"imei\": \"NA\", \"imsi\": \"214225800167852\", \"rat\": \"4G\"}}\n",
      "{\"version\": \"2.0\", \"time\": \"1615504856\", \"id\": \"de539085-315f-466a-81c1-55b97f5348df\", \"type\": \"RM\", \"event\": \"DATA\", \"data\": {\"time\": \"1615548056\", \"imei\": \"NA\", \"imsi\": \"214225800167852\", \"rat\": \"4G\"}}\n",
      "{\"version\": \"2.0\", \"time\": \"1615504856\", \"id\": \"de539085-315f-466a-81c1-55b97f5348df\", \"type\": \"RM\", \"event\": \"DATA\", \"data\": {\"time\": \"1615551656\", \"imei\": \"NA\", \"imsi\": \"214225800167852\", \"rat\": \"4G\"}}\n",
      "{\"version\": \"2.0\", \"time\": \"1615504856\", \"id\": \"de539085-315f-466a-81c1-55b97f5348df\", \"type\": \"RM\", \"event\": \"DATA\", \"data\": {\"time\": \"1615555256\", \"imei\": \"NA\", \"imsi\": \"214225800167852\", \"rat\": \"4G\"}}\n",
      "{\"version\": \"2.0\", \"time\": \"1615504856\", \"id\": \"de539085-315f-466a-81c1-55b97f5348df\", \"type\": \"RM\", \"event\": \"DATA\", \"data\": {\"time\": \"1615558856\", \"imei\": \"NA\", \"imsi\": \"214225800167852\", \"rat\": \"4G\"}}\n",
      "{\"version\": \"2.0\", \"time\": \"1615504856\", \"id\": \"de539085-315f-466a-81c1-55b97f5348df\", \"type\": \"RM\", \"event\": \"DATA\", \"data\": {\"time\": \"1615562456\", \"imei\": \"NA\", \"imsi\": \"214225800167852\", \"rat\": \"4G\"}}\n",
      "{\"version\": \"2.0\", \"time\": \"1615504856\", \"id\": \"de539085-315f-466a-81c1-55b97f5348df\", \"type\": \"RM\", \"event\": \"DATA\", \"data\": {\"time\": \"1615566056\", \"imei\": \"NA\", \"imsi\": \"214225800167852\", \"rat\": \"4G\"}}\n",
      "{\"version\": \"2.0\", \"time\": \"1615504856\", \"id\": \"de539085-315f-466a-81c1-55b97f5348df\", \"type\": \"RM\", \"event\": \"DATA\", \"data\": {\"time\": \"1615569656\", \"imei\": \"NA\", \"imsi\": \"214225800167852\", \"rat\": \"4G\"}}\n",
      "{\"version\": \"2.0\", \"time\": \"1615504856\", \"id\": \"de539085-315f-466a-81c1-55b97f5348df\", \"type\": \"RM\", \"event\": \"DATA\", \"data\": {\"time\": \"1615573256\", \"imei\": \"NA\", \"imsi\": \"214225800167852\", \"rat\": \"4G\"}}\n",
      "{\"version\": \"2.0\", \"time\": \"1615504856\", \"id\": \"de539085-315f-466a-81c1-55b97f5348df\", \"type\": \"RM\", \"event\": \"DATA\", \"data\": {\"time\": \"1615576856\", \"imei\": \"NA\", \"imsi\": \"214225800167852\", \"rat\": \"4G\"}}\n",
      "{\"version\": \"2.0\", \"time\": \"1615504856\", \"id\": \"de539085-315f-466a-81c1-55b97f5348df\", \"type\": \"RM\", \"event\": \"DATA\", \"data\": {\"time\": \"1615580456\", \"imei\": \"NA\", \"imsi\": \"214225800167852\", \"rat\": \"4G\"}}\n",
      "{\"version\": \"2.0\", \"time\": \"1615504856\", \"id\": \"de539085-315f-466a-81c1-55b97f5348df\", \"type\": \"RM\", \"event\": \"DATA\", \"data\": {\"time\": \"1615584056\", \"imei\": \"NA\", \"imsi\": \"214225800167852\", \"rat\": \"4G\"}}\n",
      "{\"version\": \"2.0\", \"time\": \"1615504856\", \"id\": \"de539085-315f-466a-81c1-55b97f5348df\", \"type\": \"RM\", \"event\": \"DATA\", \"data\": {\"time\": \"1615587656\", \"imei\": \"NA\", \"imsi\": \"214225800167852\", \"rat\": \"4G\"}}\n"
     ]
    }
   ],
   "source": [
    "# Creamos productor de eventos Kafka\n",
    "\n",
    "ip_server = '192.168.1.101:9092'\n",
    "kafka_topic = 'RM'\n",
    "c = 0\n",
    "sleep = 20\n",
    "seed = 1\n",
    "\n",
    "if type(kafka_topic) == bytes:\n",
    "    kafka_topic = kafka_topic.decode('utf-8')\n",
    "producer = KafkaProducer(bootstrap_servers=[ip_server],api_version=(0,10))\n",
    "PREDICTION_TOPIC = kafka_topic\n",
    "\n",
    "for i in range (24):\n",
    "    #FUNCIONAL\n",
    "    json_obj = {\"version\": \"2.0\", \"time\": \"1615504856\", \"id\": \"de539085-315f-466a-81c1-55b97f5348df\", \"type\": \"RM\", \"event\": \"DATA\", \"data\": {\"time\": str(1615504856+(3600*i)), \"imei\": \"NA\", \"imsi\": \"214225800167852\", \"rat\": \"4G\"}}\n",
    "    row = json.dumps(json_obj)\n",
    "    print((row))\n",
    "    producer.send(PREDICTION_TOPIC , row.encode())\n",
    "    producer.flush()\n",
    "    time.sleep(1)\n"
   ]
  },
  {
   "cell_type": "code",
   "execution_count": null,
   "metadata": {},
   "outputs": [],
   "source": [
    "sc.stop()"
   ]
  },
  {
   "cell_type": "code",
   "execution_count": null,
   "metadata": {},
   "outputs": [],
   "source": []
  }
 ],
 "metadata": {
  "kernelspec": {
   "display_name": "Python 3",
   "language": "python",
   "name": "python3"
  },
  "language_info": {
   "codemirror_mode": {
    "name": "ipython",
    "version": 3
   },
   "file_extension": ".py",
   "mimetype": "text/x-python",
   "name": "python",
   "nbconvert_exporter": "python",
   "pygments_lexer": "ipython3",
   "version": "3.6.8"
  }
 },
 "nbformat": 4,
 "nbformat_minor": 4
}
