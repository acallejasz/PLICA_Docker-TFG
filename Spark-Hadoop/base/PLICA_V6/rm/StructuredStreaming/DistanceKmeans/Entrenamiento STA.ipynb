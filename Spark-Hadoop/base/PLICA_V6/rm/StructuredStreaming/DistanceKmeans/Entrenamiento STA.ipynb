{
 "cells": [
  {
   "cell_type": "code",
   "execution_count": 1,
   "metadata": {},
   "outputs": [],
   "source": [
    "import findspark\n",
    "findspark.init()\n",
    "\n",
    "# Procesamiento de datos\n",
    "\n",
    "import math\n",
    "import pandas as pd\n",
    "import numpy as np\n",
    "import random \n",
    "from datetime import datetime\n",
    "\n",
    "\n",
    "import pyspark.sql.functions as F\n",
    "from pyspark.context import SparkContext\n",
    "from pyspark.sql.session import SparkSession\n",
    "from pyspark.sql.types import *\n",
    "from pyspark.sql.functions import monotonically_increasing_id, row_number\n",
    "from pyspark.sql import Window\n",
    "from pyspark.ml import Pipeline\n",
    "from pyspark.ml.feature import StringIndexer, VectorAssembler, VectorSizeHint, MinMaxScaler\n",
    "from pyspark.ml.linalg import Vectors\n",
    "from pyspark.ml.evaluation import ClusteringEvaluator\n",
    "\n",
    "# Modelos de clustering \n",
    "\n",
    "from pyspark.ml.clustering import KMeans \n",
    "\n",
    "# Pyspark\n",
    "\n",
    "sc = SparkContext('local')\n",
    "spark = SparkSession(sc)"
   ]
  },
  {
   "cell_type": "code",
   "execution_count": 2,
   "metadata": {},
   "outputs": [],
   "source": [
    "base_path = '.'"
   ]
  },
  {
   "cell_type": "markdown",
   "metadata": {},
   "source": [
    "# Preprocesamiento"
   ]
  },
  {
   "cell_type": "code",
   "execution_count": 3,
   "metadata": {},
   "outputs": [],
   "source": [
    "# Esquema\n",
    "\n",
    "schema = StructType([\n",
    "    StructField('version', StringType(), True),\n",
    "    StructField('time', StringType(), True),\n",
    "    StructField('id', StringType(), True),\n",
    "    StructField('type', StringType(), True),\n",
    "    StructField('event', StringType(), True),\n",
    "    StructField('data', ArrayType(StructType([\n",
    "        StructField('time',  StringType(), True),\n",
    "        StructField('imei', StringType(), True),\n",
    "        StructField('imsi', StringType(), True),\n",
    "        StructField('rat', StringType(), True),\n",
    "        ]), True))\n",
    "    ])    "
   ]
  },
  {
   "cell_type": "code",
   "execution_count": 4,
   "metadata": {},
   "outputs": [
    {
     "name": "stdout",
     "output_type": "stream",
     "text": [
      "root\n",
      " |-- version: string (nullable = true)\n",
      " |-- time: string (nullable = true)\n",
      " |-- id: string (nullable = true)\n",
      " |-- type: string (nullable = true)\n",
      " |-- event: string (nullable = true)\n",
      " |-- data: array (nullable = true)\n",
      " |    |-- element: struct (containsNull = true)\n",
      " |    |    |-- time: string (nullable = true)\n",
      " |    |    |-- imei: string (nullable = true)\n",
      " |    |    |-- imsi: string (nullable = true)\n",
      " |    |    |-- rat: string (nullable = true)\n",
      "\n"
     ]
    }
   ],
   "source": [
    "df = spark.read.schema(schema).load(\"../../datasets/rm_dataset/dataset_rm_v1&v2.json\",\n",
    "                     format=\"json\", sep=\":\", inferSchema=\"true\", header=\"true\")\n",
    "df.printSchema()"
   ]
  },
  {
   "cell_type": "code",
   "execution_count": 5,
   "metadata": {},
   "outputs": [
    {
     "name": "stdout",
     "output_type": "stream",
     "text": [
      "+-------+----------+--------------------+----+-----+--------------------+\n",
      "|version|      time|                  id|type|event|                data|\n",
      "+-------+----------+--------------------+----+-----+--------------------+\n",
      "|    1.0|1596800148|de539085-315f-466...|  RM| DATA|[[1596800108, 359...|\n",
      "|    1.0|1596797290|de539085-315f-466...|  RM| DATA|[[1596796932, 359...|\n",
      "|    1.0|1596294961|de539085-315f-466...|  RM| DATA|[[1596294959, 359...|\n",
      "|    1.0|1596296581|de539085-315f-466...|  RM| DATA|[[1596296538, 352...|\n",
      "|    1.0|1596297481|de539085-315f-466...|  RM| DATA|[[1596297428, 358...|\n",
      "|    1.0|1596297781|de539085-315f-466...|  RM| DATA|[[1596297758, 359...|\n",
      "|    1.0|1596298021|de539085-315f-466...|  RM| DATA|[[1596297972, 356...|\n",
      "|    1.0|1596044533|de539085-315f-466...|  RM| DATA|[[1596039825, 355...|\n",
      "|    1.0|1596295981|de539085-315f-466...|  RM| DATA|[[1596294995, 353...|\n",
      "|    1.0|1596296521|de539085-315f-466...|  RM| DATA|[[1596296508, 013...|\n",
      "|    1.0|1611677702|de539085-315f-466...|  RM| DATA|[[1611676226, NA,...|\n",
      "|    1.0|1611681181|de539085-315f-466...|  RM| DATA|[[1611681143, NA,...|\n",
      "|    1.0|1611681421|de539085-315f-466...|  RM| DATA|[[1611681419, NA,...|\n",
      "|    1.0|1611681482|de539085-315f-466...|  RM| DATA|[[1611681461, NA,...|\n",
      "|    1.0|1611681482|de539085-315f-466...|  RM| DATA|[[1611681477, NA,...|\n",
      "|    1.0|1611681541|de539085-315f-466...|  RM| DATA|[[1611681497, NA,...|\n",
      "|    1.0|1611682081|de539085-315f-466...|  RM| DATA|[[1611682024, NA,...|\n",
      "|    1.0|1611682321|de539085-315f-466...|  RM| DATA|[[1611682276, NA,...|\n",
      "|    1.0|1611682441|de539085-315f-466...|  RM| DATA|[[1611682405, NA,...|\n",
      "|    1.0|1611682801|de539085-315f-466...|  RM| DATA|[[1611682759, NA,...|\n",
      "+-------+----------+--------------------+----+-----+--------------------+\n",
      "only showing top 20 rows\n",
      "\n"
     ]
    }
   ],
   "source": [
    "df.show()"
   ]
  },
  {
   "cell_type": "code",
   "execution_count": 6,
   "metadata": {},
   "outputs": [],
   "source": [
    "# Eliminamos columnas no útiles\n",
    "\n",
    "df = df.drop(\"event\",\"id\",\"type\",\"version\",\"time\")"
   ]
  },
  {
   "cell_type": "code",
   "execution_count": 7,
   "metadata": {},
   "outputs": [],
   "source": [
    "# Expandimos los valores de la columna data en nuevas columnas del df.\n",
    "\n",
    "df = df.withColumn(\"data\", F.explode(\"data\")).select(\n",
    "  \"*\", F.col(\"data\")[\"imei\"].alias(\"imei\"), F.col(\"data\")[\"imsi\"].alias(\"imsi\"), F.col(\"data\")[\"rat\"].alias(\"rat\"), \n",
    "  F.col(\"data\")[\"time\"].alias(\"time\")\n",
    ")\n",
    "# Eliminamos la columna data tras haberla expandido.\n",
    "\n",
    "df = df.drop(\"data\")"
   ]
  },
  {
   "cell_type": "code",
   "execution_count": 8,
   "metadata": {},
   "outputs": [],
   "source": [
    "# Cambio de formato de time\n",
    "\n",
    "def timeFormat(time_string):\n",
    "    datetime_string = datetime.utcfromtimestamp(int(time_string)).strftime('%Y-%m-%d %H:%M:%S')\n",
    "    return datetime_string\n",
    "\n",
    "timeFormatUDF = F.udf(lambda ts: timeFormat(ts)) \n",
    "\n",
    "df = df.withColumn(\"time\", timeFormatUDF(F.col(\"time\")).cast(TimestampType()))\n",
    "df = df.withColumn(\"time\", F.date_format(F.col(\"time\"), \"yyyy-MM-dd'T'HH:mm:ss.SSSZ\"))"
   ]
  },
  {
   "cell_type": "code",
   "execution_count": 9,
   "metadata": {},
   "outputs": [],
   "source": [
    "# Cambiar los valores NA IMEI a 000000000000000\n",
    "\n",
    "df = df.withColumn('imei', F.when(df.imei == 'NA', '00000000000000').otherwise(df.imei))"
   ]
  },
  {
   "cell_type": "code",
   "execution_count": 10,
   "metadata": {},
   "outputs": [
    {
     "name": "stdout",
     "output_type": "stream",
     "text": [
      "+--------------+---------------+---+--------------------+\n",
      "|          imei|           imsi|rat|                time|\n",
      "+--------------+---------------+---+--------------------+\n",
      "|35937204822971|901700000015702| 2G|2020-08-07T11:35:...|\n",
      "|35937204822971|901700000015700| 2G|2020-08-07T10:42:...|\n",
      "|35937204822971|901700000015700| 2G|2020-08-01T15:15:...|\n",
      "|35283606665993|901700000015702| 2G|2020-08-01T15:42:...|\n",
      "|35818705617048|901700000015704| 2G|2020-08-01T15:57:...|\n",
      "|35941008080436|901700000013634| 2G|2020-08-01T16:02:...|\n",
      "|35655408691613|901700000015777| 2G|2020-08-01T16:06:...|\n",
      "|35583902478151|901700000015766| 2G|2020-07-29T16:23:...|\n",
      "|35583902478151|901700000015766| 2G|2020-07-29T16:26:...|\n",
      "|35583902478151|901700000015766| 2G|2020-07-29T16:42:...|\n",
      "|35362707574785|901700000013633| 2G|2020-08-01T15:16:...|\n",
      "|35362707574785|901700000013633| 2G|2020-08-01T15:18:...|\n",
      "|35362707574785|262421122334455| 2G|2020-08-01T15:26:...|\n",
      "|01366500442359|901700000015708| 2G|2020-08-01T15:41:...|\n",
      "|35922407923033|262421122334455| 2G|2020-08-01T15:41:...|\n",
      "|00000000000000|901700000013633| 3G|2021-01-26T15:50:...|\n",
      "|00000000000000|901700000013637| 3G|2021-01-26T17:12:...|\n",
      "|00000000000000|901700000013638| 3G|2021-01-26T17:16:...|\n",
      "|00000000000000|901700000015705| 3G|2021-01-26T17:17:...|\n",
      "|00000000000000|901700000013638| 3G|2021-01-26T17:17:...|\n",
      "|00000000000000|901700000013634| 3G|2021-01-26T17:18:...|\n",
      "|00000000000000|901700000015704| 3G|2021-01-26T17:27:...|\n",
      "|00000000000000|901700000015704| 3G|2021-01-26T17:31:...|\n",
      "|00000000000000|901700000015704| 3G|2021-01-26T17:33:...|\n",
      "|00000000000000|901700000015704| 3G|2021-01-26T17:39:...|\n",
      "|00000000000000|901700000015707| 3G|2021-01-26T17:42:...|\n",
      "|00000000000000|901700000013636| 3G|2021-01-26T18:11:...|\n",
      "|00000000000000|901700000015704| 3G|2021-01-26T18:11:...|\n",
      "|00000000000000|901700000015704| 3G|2021-01-26T18:40:...|\n",
      "|00000000000000|901700000015704| 3G|2021-01-26T18:43:...|\n",
      "|00000000000000|901700000013637| 3G|2021-01-26T18:45:...|\n",
      "|00000000000000|901700000015704| 3G|2021-01-26T18:45:...|\n",
      "|00000000000000|901700000015704| 3G|2021-01-26T18:47:...|\n",
      "|00000000000000|901700000013633| 3G|2021-01-26T19:01:...|\n",
      "|00000000000000|901700000013633| 3G|2021-01-26T19:01:...|\n",
      "|00000000000000|901700000013633| 4G|2021-01-27T09:52:...|\n",
      "|00000000000000|901700000013633| 4G|2021-01-27T09:52:...|\n",
      "|00000000000000|901700000015704| 4G|2021-01-27T09:52:...|\n",
      "|00000000000000|901700000013633| 4G|2021-01-27T09:52:...|\n",
      "|00000000000000|901700000015704| 4G|2021-01-27T09:52:...|\n",
      "|00000000000000|901700000013633| 4G|2021-01-27T09:52:...|\n",
      "|00000000000000|901700000015704| 4G|2021-01-27T09:52:...|\n",
      "|00000000000000|901700000013633| 4G|2021-01-27T09:52:...|\n",
      "|00000000000000|901700000015704| 4G|2021-01-27T09:52:...|\n",
      "|00000000000000|901700000015704| 4G|2021-01-27T09:53:...|\n",
      "|00000000000000|901700000013638| 4G|2021-01-27T09:59:...|\n",
      "|00000000000000|901700000013638| 4G|2021-01-27T10:00:...|\n",
      "|00000000000000|901700000013634| 4G|2021-01-27T10:00:...|\n",
      "|00000000000000|901700000013638| 4G|2021-01-27T10:00:...|\n",
      "|00000000000000|901700000013634| 4G|2021-01-27T10:00:...|\n",
      "+--------------+---------------+---+--------------------+\n",
      "\n"
     ]
    }
   ],
   "source": [
    "df.show(50)"
   ]
  },
  {
   "cell_type": "code",
   "execution_count": 11,
   "metadata": {},
   "outputs": [],
   "source": [
    "# Separamos año, mes, dia, hora, minuto y segundo de time\n",
    "\n",
    "df = df.withColumn(\"year\", F.year(F.col(\"time\")))\n",
    "df = df.withColumn(\"month\", F.month(F.col(\"time\")))\n",
    "df = df.withColumn(\"day\", F.dayofmonth(F.col(\"time\")))\n",
    "df = df.withColumn(\"hour\", F.hour(F.col(\"time\")))\n",
    "df = df.withColumn(\"minute\", F.minute(F.col(\"time\")))\n",
    "df = df.withColumn(\"second\", F.second(F.col(\"time\")))"
   ]
  },
  {
   "cell_type": "code",
   "execution_count": 12,
   "metadata": {},
   "outputs": [],
   "source": [
    "# Separamos MCC, MNC y MSIN de la columna IMSI\n",
    "\n",
    "df = df.withColumn('mcc', df.imsi.substr(1,3))\n",
    "df = df.withColumn('mnc', df.imsi.substr(4,2))\n",
    "df = df.withColumn('msin', df.imsi.substr(6,10))"
   ]
  },
  {
   "cell_type": "code",
   "execution_count": 13,
   "metadata": {},
   "outputs": [],
   "source": [
    "\"\"\" Formato de los IMEI: TAC -- Serial_Number -- CD (15 digitos) \"\"\"\n",
    "# Separamos tac_a, tac_b y snr de la columna IMEI\n",
    "\n",
    "df = df.withColumn('tac_a', df.imei.substr(1,2))\n",
    "df = df.withColumn('tac_b', df.imei.substr(3,6))\n",
    "df = df.withColumn('snr', df.imei.substr(9,6))"
   ]
  },
  {
   "cell_type": "code",
   "execution_count": 14,
   "metadata": {},
   "outputs": [],
   "source": [
    "# Escalamos la columna YEAR con MinMaxScaler \n",
    "\n",
    "df = df.withColumn(\"year\", df[\"year\"].cast(FloatType()))\n",
    "max_year = 3000\n",
    "min_year = 0\n",
    "df = df.withColumn(\"year\", (F.col(\"year\") - min_year) / (max_year - min_year))"
   ]
  },
  {
   "cell_type": "code",
   "execution_count": 15,
   "metadata": {},
   "outputs": [],
   "source": [
    "# Normalizamos columnas month, day, hour, minute y second\n",
    "\n",
    "df = df.withColumn(\"month\", (F.col(\"month\") - 1) / (12 - 1))\n",
    "df = df.withColumn(\"day\", (F.col(\"day\") - 1) / (31 - 1))\n",
    "df = df.withColumn(\"hour\", (F.col(\"hour\") - 0) / (23 - 0))\n",
    "df = df.withColumn(\"minute\", (F.col(\"minute\") - 0) / (59 - 0))\n",
    "df = df.withColumn(\"second\", (F.col(\"second\") - 0) / (59 - 0))"
   ]
  },
  {
   "cell_type": "code",
   "execution_count": 16,
   "metadata": {},
   "outputs": [],
   "source": [
    "columns_to_transform = ['rat','mcc','mnc','msin','tac_a','tac_b','snr']"
   ]
  },
  {
   "cell_type": "code",
   "execution_count": 17,
   "metadata": {},
   "outputs": [],
   "source": [
    "# Indexado de las columnas categoricas\n",
    "\n",
    "stringIndexers = [StringIndexer(inputCol= col, outputCol=col + \"_index\", handleInvalid=\"keep\") for col in columns_to_transform]\n",
    "\n",
    "pipeline = Pipeline(stages=stringIndexers)\n",
    "\n",
    "String_Indexer_Model = pipeline.fit(df)\n",
    "df = String_Indexer_Model.transform(df)"
   ]
  },
  {
   "cell_type": "code",
   "execution_count": 18,
   "metadata": {},
   "outputs": [],
   "source": [
    "# Escalado MinMax a los stringIndexer\n",
    "\n",
    "assemblers = [VectorAssembler(inputCols=[col + '_index'], outputCol=col + \"_vec\") for col in columns_to_transform]\n",
    "scalers = [MinMaxScaler(inputCol=col + \"_vec\", outputCol=col + \"_scaled\") for col in columns_to_transform]\n",
    "sizeHints = [VectorSizeHint(inputCol=col + \"_scaled\", handleInvalid=\"skip\", size = 1) for col in columns_to_transform]\n",
    "\n",
    "pipeline = Pipeline(stages=assemblers + scalers + sizeHints)\n",
    "\n",
    "minMaxScaler_Model = pipeline.fit(df)\n",
    "df = minMaxScaler_Model.transform(df)"
   ]
  },
  {
   "cell_type": "code",
   "execution_count": 19,
   "metadata": {},
   "outputs": [],
   "source": [
    "# Creación de vector de características\n",
    "\n",
    "vector_assembler = VectorAssembler(inputCols=['year','month','day','hour','minute','second',\n",
    "                                        'rat_scaled','mcc_scaled','mnc_scaled','msin_scaled',\n",
    "                                        'tac_a_scaled','tac_b_scaled','snr_scaled'], outputCol = \"features\")\n",
    "\n",
    "df = vector_assembler.transform(df)"
   ]
  },
  {
   "cell_type": "code",
   "execution_count": 20,
   "metadata": {},
   "outputs": [
    {
     "name": "stdout",
     "output_type": "stream",
     "text": [
      "+--------------+---------------+---+--------------------+------------------+------------------+---+------------------+------------------+-------------------+---+---+----------+-----+------+------+---------+---------+---------+----------+-----------+-----------+---------+-------+-------+-------+--------+---------+---------+-------+----------+----------+----------+--------------------+------------+--------------------+--------------------+--------------------+\n",
      "|          imei|           imsi|rat|                time|              year|             month|day|              hour|            minute|             second|mcc|mnc|      msin|tac_a| tac_b|   snr|rat_index|mcc_index|mnc_index|msin_index|tac_a_index|tac_b_index|snr_index|rat_vec|mcc_vec|mnc_vec|msin_vec|tac_a_vec|tac_b_vec|snr_vec|rat_scaled|mcc_scaled|mnc_scaled|         msin_scaled|tac_a_scaled|        tac_b_scaled|          snr_scaled|            features|\n",
      "+--------------+---------------+---+--------------------+------------------+------------------+---+------------------+------------------+-------------------+---+---+----------+-----+------+------+---------+---------+---------+----------+-----------+-----------+---------+-------+-------+-------+--------+---------+---------+-------+----------+----------+----------+--------------------+------------+--------------------+--------------------+--------------------+\n",
      "|35937204822971|901700000015702| 2G|2020-08-07T11:35:...|0.6733333333333333|0.6363636363636364|0.2|0.4782608695652174|0.5932203389830508|0.13559322033898305|901| 70|0000015702|   35|937204|822971|      1.0|      0.0|      0.0|       7.0|        1.0|        1.0|      2.0|  [1.0]|  [0.0]|  [0.0]|   [7.0]|    [1.0]|    [1.0]|  [2.0]|     [0.5]|     [0.0]|     [0.0]|[0.5384615384615384]|       [0.5]|[0.1111111111111111]|[0.2222222222222222]|[0.67333333333333...|\n",
      "+--------------+---------------+---+--------------------+------------------+------------------+---+------------------+------------------+-------------------+---+---+----------+-----+------+------+---------+---------+---------+----------+-----------+-----------+---------+-------+-------+-------+--------+---------+---------+-------+----------+----------+----------+--------------------+------------+--------------------+--------------------+--------------------+\n",
      "only showing top 1 row\n",
      "\n"
     ]
    }
   ],
   "source": [
    "df.show(1)"
   ]
  },
  {
   "cell_type": "code",
   "execution_count": 21,
   "metadata": {},
   "outputs": [
    {
     "name": "stdout",
     "output_type": "stream",
     "text": [
      "+---------------------------------------------------------------------------------------------------------------------------------------------------------------------------------------------+\n",
      "|features                                                                                                                                                                                     |\n",
      "+---------------------------------------------------------------------------------------------------------------------------------------------------------------------------------------------+\n",
      "|[0.6733333333333333,0.6363636363636364,0.2,0.4782608695652174,0.5932203389830508,0.13559322033898305,0.5,0.0,0.0,0.5384615384615384,0.5,0.1111111111111111,0.2222222222222222]               |\n",
      "|[0.6733333333333333,0.6363636363636364,0.2,0.43478260869565216,0.711864406779661,0.2033898305084746,0.5,0.0,0.0,0.38461538461538464,0.5,0.1111111111111111,0.2222222222222222]               |\n",
      "|[0.6733333333333333,0.6363636363636364,0.0,0.6521739130434783,0.2542372881355932,1.0,0.5,0.0,0.0,0.38461538461538464,0.5,0.1111111111111111,0.2222222222222222]                              |\n",
      "|[0.6733333333333333,0.6363636363636364,0.0,0.6521739130434783,0.711864406779661,0.3050847457627119,0.5,0.0,0.0,0.5384615384615384,0.5,1.0,1.0]                                               |\n",
      "|[0.6733333333333333,0.6363636363636364,0.0,0.6521739130434783,0.9661016949152542,0.13559322033898305,0.5,0.0,0.0,0.0,0.5,0.5555555555555556,0.7777777777777778]                              |\n",
      "|[0.6733333333333333,0.6363636363636364,0.0,0.6956521739130435,0.03389830508474576,0.6440677966101694,0.5,0.0,0.0,0.23076923076923078,0.5,0.7777777777777778,0.6666666666666666]              |\n",
      "|[0.6733333333333333,0.6363636363636364,0.0,0.6956521739130435,0.1016949152542373,0.2033898305084746,0.5,0.0,0.0,1.0,0.5,0.8888888888888888,0.4444444444444444]                               |\n",
      "|[0.6733333333333333,0.5454545454545454,0.9333333333333333,0.6956521739130435,0.3898305084745763,0.7627118644067796,0.5,0.0,0.0,0.3076923076923077,0.5,0.2222222222222222,0.3333333333333333] |\n",
      "|[0.6733333333333333,0.5454545454545454,0.9333333333333333,0.6956521739130435,0.4406779661016949,0.05084745762711865,0.5,0.0,0.0,0.3076923076923077,0.5,0.2222222222222222,0.3333333333333333]|\n",
      "|[0.6733333333333333,0.5454545454545454,0.9333333333333333,0.6956521739130435,0.711864406779661,0.3050847457627119,0.5,0.0,0.0,0.3076923076923077,0.5,0.2222222222222222,0.3333333333333333]  |\n",
      "|[0.6733333333333333,0.6363636363636364,0.0,0.6521739130434783,0.2711864406779661,0.5932203389830508,0.5,0.0,0.0,0.07692307692307693,0.5,0.3333333333333333,0.1111111111111111]               |\n",
      "|[0.6733333333333333,0.6363636363636364,0.0,0.6521739130434783,0.3050847457627119,0.288135593220339,0.5,0.0,0.0,0.07692307692307693,0.5,0.3333333333333333,0.1111111111111111]                |\n",
      "|[0.6733333333333333,0.6363636363636364,0.0,0.6521739130434783,0.4406779661016949,0.5932203389830508,0.5,1.0,1.0,0.6153846153846154,0.5,0.3333333333333333,0.1111111111111111]                |\n",
      "|[0.6733333333333333,0.6363636363636364,0.0,0.6521739130434783,0.6949152542372882,0.8135593220338984,0.5,0.0,0.0,0.9230769230769231,1.0,0.6666666666666666,0.8888888888888888]                |\n",
      "|[0.6733333333333333,0.6363636363636364,0.0,0.6521739130434783,0.6949152542372882,0.8135593220338984,0.5,1.0,1.0,0.6153846153846154,0.5,0.4444444444444444,0.5555555555555556]                |\n",
      "|(13,[0,2,3,4,5,9],[0.6736666666666666,0.8333333333333334,0.6521739130434783,0.847457627118644,0.4406779661016949,0.07692307692307693])                                                       |\n",
      "|(13,[0,2,3,4,5,9],[0.6736666666666666,0.8333333333333334,0.7391304347826086,0.2033898305084746,0.3898305084745763,0.46153846153846156])                                                      |\n",
      "|(13,[0,2,3,4,5,9],[0.6736666666666666,0.8333333333333334,0.7391304347826086,0.2711864406779661,1.0,0.15384615384615385])                                                                     |\n",
      "|(13,[0,2,3,4,5,9],[0.6736666666666666,0.8333333333333334,0.7391304347826086,0.288135593220339,0.6949152542372882,0.8461538461538461])                                                        |\n",
      "|(13,[0,2,3,4,5,9],[0.6736666666666666,0.8333333333333334,0.7391304347826086,0.288135593220339,0.9661016949152542,0.15384615384615385])                                                       |\n",
      "+---------------------------------------------------------------------------------------------------------------------------------------------------------------------------------------------+\n",
      "only showing top 20 rows\n",
      "\n"
     ]
    }
   ],
   "source": [
    "df.select('features').show(truncate=False)"
   ]
  },
  {
   "cell_type": "markdown",
   "metadata": {},
   "source": [
    "# DistanceKmeans"
   ]
  },
  {
   "cell_type": "code",
   "execution_count": null,
   "metadata": {},
   "outputs": [],
   "source": [
    "# Estrucutra del dataset normal\n",
    "\n",
    "schema = StructType([\n",
    "    StructField('label', StringType(), True), # no\n",
    "    StructField('features', ArrayType(DoubleType()), True), # si\n",
    "    ])  \n",
    "\n",
    "df_train = spark.read.schema(schema).option(\"mode\", \"DROPMALFORMED\").json(\n",
    "    '../../deteccion_anomalias/preprocesamiento/KMeansStringIndexer.json')"
   ]
  },
  {
   "cell_type": "code",
   "execution_count": null,
   "metadata": {},
   "outputs": [],
   "source": [
    "# Estrucutra del dataset normal\n",
    "\n",
    "schema = StructType([\n",
    "    StructField('rf_id', StringType(), True), # no\n",
    "    StructField('time', TimestampType(), True), # si\n",
    "    StructField('rat', StringType(), True), # si\n",
    "    StructField('imei', StringType(), True), # si\n",
    "    StructField('imsi', StringType(), True), # si\n",
    "    StructField('label', StringType(), True), # no\n",
    "    StructField('year', DoubleType(), True), # si\n",
    "    StructField('month', DoubleType(), True), # si\n",
    "    StructField('day', DoubleType(), True), # si\n",
    "    StructField('hour', DoubleType(), True), # si\n",
    "    StructField('minute', DoubleType(), True), # si\n",
    "    StructField('second', DoubleType(), True), # si\n",
    "    StructField('mcc', StringType(), True), # si\n",
    "    StructField('mnc', StringType(), True), # si\n",
    "    StructField('msin', StringType(), True), # si\n",
    "    StructField('tac_a', StringType(), True), # no\n",
    "    StructField('tac_b', StringType(), True), # no\n",
    "    StructField('snr', StringType(), True), # no\n",
    "    StructField('cd', StringType(), True), # si\n",
    "    StructField('rat_ohe', ArrayType(DoubleType()), True), # si\n",
    "    StructField('cat_imsi', ArrayType(StringType()), True), # si\n",
    "    StructField('cat_imei', ArrayType(StringType()), True), # si\n",
    "    StructField('imei_vec', ArrayType(DoubleType()), True), # si\n",
    "    StructField('imsi_vec', ArrayType(DoubleType()), True), # si\n",
    "    StructField('features', ArrayType(DoubleType())), # si\n",
    "    ])  \n",
    "\n",
    "df_train = spark.read.schema(schema).option(\"mode\", \"DROPMALFORMED\").json(\n",
    "    '../../deteccion_anomalias/preprocesamiento/KMeansWord2Vec.json')"
   ]
  },
  {
   "cell_type": "code",
   "execution_count": null,
   "metadata": {},
   "outputs": [],
   "source": [
    "# Función de calculo de pertenencia a un cluster\n",
    "\n",
    "def centroid (k,centers):\n",
    "    return centers[k].tolist()"
   ]
  },
  {
   "cell_type": "code",
   "execution_count": null,
   "metadata": {},
   "outputs": [],
   "source": [
    "# Función de calculo de distancia euclidea al centroid\n",
    "\n",
    "def distToCentroid(datapt, centroid):\n",
    "    return math.sqrt(Vectors.squared_distance(datapt, centroid))"
   ]
  },
  {
   "cell_type": "code",
   "execution_count": null,
   "metadata": {},
   "outputs": [],
   "source": [
    "new_schema = ArrayType(DoubleType(), containsNull=False)\n",
    "udf_foo = F.udf(lambda x:x, new_schema)"
   ]
  },
  {
   "cell_type": "code",
   "execution_count": null,
   "metadata": {},
   "outputs": [],
   "source": [
    "# Separamos df en datos normales\n",
    "\n",
    "df_normal = df_train.filter(df_train.label == 'Normal')\n",
    "df_normal = df_normal.withColumn(\"features\",udf_foo(\"features\"))"
   ]
  },
  {
   "cell_type": "code",
   "execution_count": null,
   "metadata": {},
   "outputs": [],
   "source": [
    "df_normal.show(1, truncate = False)"
   ]
  },
  {
   "cell_type": "code",
   "execution_count": null,
   "metadata": {
    "scrolled": true
   },
   "outputs": [],
   "source": [
    "# Entrenamiento y predicción\n",
    "\n",
    "kmeans = KMeans(k=30, maxIter=100, tol=1e-4, seed=319869)\n",
    "model = kmeans.fit(df_normal.select('features'))"
   ]
  },
  {
   "cell_type": "code",
   "execution_count": null,
   "metadata": {},
   "outputs": [],
   "source": [
    "model_output_path = \"{}/data/distanceKmeansRmSIModel.bin\".format(base_path)\n",
    "# model_output_path = \"{}/data/distanceKmeansRmW2VModel.bin\".format(base_path)\n",
    "model.write().overwrite().save(model_output_path)"
   ]
  },
  {
   "cell_type": "code",
   "execution_count": null,
   "metadata": {},
   "outputs": [],
   "source": [
    "df_normal = model.transform(df_normal)"
   ]
  },
  {
   "cell_type": "code",
   "execution_count": null,
   "metadata": {},
   "outputs": [],
   "source": [
    "centers = model.clusterCenters()"
   ]
  },
  {
   "cell_type": "code",
   "execution_count": null,
   "metadata": {},
   "outputs": [],
   "source": [
    "vectorCent = F.udf(lambda k: centroid(k,centers), ArrayType(DoubleType()))\n",
    "euclDistance = F.udf(lambda data,centroid: distToCentroid(data,centroid),FloatType())"
   ]
  },
  {
   "cell_type": "code",
   "execution_count": null,
   "metadata": {},
   "outputs": [],
   "source": [
    "# Calculamos valor del centroid más cercano.\n",
    "\n",
    "df_normal = df_normal.withColumn('centroid', vectorCent(F.col('prediction')))"
   ]
  },
  {
   "cell_type": "code",
   "execution_count": null,
   "metadata": {},
   "outputs": [],
   "source": [
    "# Calculamos distancia al centroid más cercano.\n",
    "\n",
    "df_normal = df_normal.withColumn('distance', euclDistance(F.col('features'),F.col('centroid')))"
   ]
  },
  {
   "cell_type": "code",
   "execution_count": null,
   "metadata": {},
   "outputs": [],
   "source": [
    "threshold = df_normal.groupBy('prediction').agg(F.sort_array(F.collect_list('distance'), asc=False).alias('distances'))\\\n",
    ".orderBy('prediction')"
   ]
  },
  {
   "cell_type": "code",
   "execution_count": null,
   "metadata": {},
   "outputs": [],
   "source": [
    "threshold = threshold.select('distances').toPandas()['distances'].values"
   ]
  },
  {
   "cell_type": "code",
   "execution_count": null,
   "metadata": {},
   "outputs": [],
   "source": [
    "threshold_path = '{}/data/thresholdStringIndexer.npy'.format(base_path)\n",
    "# threshold_path = '{}/data/thresholdWord2Vec.npy'.format(base_path)\n",
    "np.save(threshold_path, threshold)"
   ]
  },
  {
   "cell_type": "code",
   "execution_count": null,
   "metadata": {},
   "outputs": [],
   "source": []
  }
 ],
 "metadata": {
  "kernelspec": {
   "display_name": "Python 3",
   "language": "python",
   "name": "python3"
  },
  "language_info": {
   "codemirror_mode": {
    "name": "ipython",
    "version": 3
   },
   "file_extension": ".py",
   "mimetype": "text/x-python",
   "name": "python",
   "nbconvert_exporter": "python",
   "pygments_lexer": "ipython3",
   "version": "3.6.8"
  }
 },
 "nbformat": 4,
 "nbformat_minor": 4
}
